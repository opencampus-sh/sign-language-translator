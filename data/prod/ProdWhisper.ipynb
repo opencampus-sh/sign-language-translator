{
  "nbformat": 4,
  "nbformat_minor": 0,
  "metadata": {
    "colab": {
      "provenance": [],
      "gpuType": "T4"
    },
    "kernelspec": {
      "name": "python3",
      "display_name": "Python 3"
    },
    "language_info": {
      "name": "python"
    },
    "accelerator": "GPU"
  },
  "cells": [
    {
      "cell_type": "code",
      "execution_count": null,
      "metadata": {
        "colab": {
          "base_uri": "https://localhost:8080/"
        },
        "id": "upfa5smW6_GI",
        "outputId": "2a5f8cfd-1281-44a1-bdff-8ce1883dda53"
      },
      "outputs": [
        {
          "output_type": "stream",
          "name": "stdout",
          "text": [
            "  Installing build dependencies ... \u001b[?25l\u001b[?25hdone\n",
            "  Getting requirements to build wheel ... \u001b[?25l\u001b[?25hdone\n",
            "  Preparing metadata (pyproject.toml) ... \u001b[?25l\u001b[?25hdone\n",
            "\u001b[2K   \u001b[90m━━━━━━━━━━━━━━━━━━━━━━━━━━━━━━━━━━━━━━━━\u001b[0m \u001b[32m209.5/209.5 MB\u001b[0m \u001b[31m7.3 MB/s\u001b[0m eta \u001b[36m0:00:00\u001b[0m\n",
            "\u001b[2K   \u001b[90m━━━━━━━━━━━━━━━━━━━━━━━━━━━━━━━━━━━━━━━━\u001b[0m \u001b[32m1.2/1.2 MB\u001b[0m \u001b[31m59.6 MB/s\u001b[0m eta \u001b[36m0:00:00\u001b[0m\n",
            "\u001b[?25h  Building wheel for openai-whisper (pyproject.toml) ... \u001b[?25l\u001b[?25hdone\n"
          ]
        }
      ],
      "source": [
        "!pip install -q git+https://github.com/openai/whisper.git\n",
        "!pip install -q torch torchvision torchaudio\n"
      ]
    },
    {
      "cell_type": "code",
      "source": [
        "# Check the filename\n",
        "filename = \"\""
      ],
      "metadata": {
        "id": "1WoCVN307HcP"
      },
      "execution_count": null,
      "outputs": []
    },
    {
      "cell_type": "code",
      "source": [
        "import whisper\n",
        "\n",
        "# Load Whisper model (choose 'base', 'small', 'medium', 'large')\n",
        "model = whisper.load_model(\"turbo\")\n",
        "\n",
        "# Transcribe the audio file\n",
        "result = model.transcribe(filename, language=\"de\")\n",
        "\n",
        "# Print the transcription\n",
        "print(result[\"text\"])\n",
        "\n",
        "# Save transcription to a text file\n",
        "with open(\"transcription.txt\", \"w\") as f:\n",
        "    f.write(result[\"text\"])\n"
      ],
      "metadata": {
        "colab": {
          "base_uri": "https://localhost:8080/"
        },
        "id": "tgRb7nC17ij-",
        "outputId": "fc74e82e-6450-4416-8b81-af6ebe4b976c"
      },
      "execution_count": null,
      "outputs": [
        {
          "output_type": "stream",
          "name": "stderr",
          "text": [
            "100%|██████████████████████████████████████| 1.51G/1.51G [00:11<00:00, 142MiB/s]\n",
            "/usr/local/lib/python3.10/dist-packages/whisper/__init__.py:150: FutureWarning: You are using `torch.load` with `weights_only=False` (the current default value), which uses the default pickle module implicitly. It is possible to construct malicious pickle data which will execute arbitrary code during unpickling (See https://github.com/pytorch/pytorch/blob/main/SECURITY.md#untrusted-models for more details). In a future release, the default value for `weights_only` will be flipped to `True`. This limits the functions that could be executed during unpickling. Arbitrary objects will no longer be allowed to be loaded via this mode unless they are explicitly allowlisted by the user via `torch.serialization.add_safe_globals`. We recommend you start setting `weights_only=True` for any use case where you don't have full control of the loaded file. Please open an issue on GitHub for any issues related to this experimental feature.\n",
            "  checkpoint = torch.load(fp, map_location=device)\n"
          ]
        },
        {
          "output_type": "stream",
          "name": "stdout",
          "text": [
            " Hier ist das Erste Deutsche Fernsehen mit der Tagesschau. Heute im Studio Susanne Daubner. Guten Abend, meine Damen und Herren. Ich begrüße Sie zur Tagesschau. In den USA ist heute der Tag der Entscheidung. Das Land wählt einen neuen Präsidenten oder eine neue Präsidentin. Zudem wird über einen Großteil des Parlaments neu abgestimmt. Die Kandidatin der Demokraten, Vizepräsidentin Harris, beteuerte in ihrer letzten Wahlkampfrede erneut, die USA zu versöhnen. Der Kandidat der Republikaner, Ex-Präsident Trump, zeichnete ein düsteres Bild des Landes, das gerettet werden müsse. Erwartet wird ein knapper Ausgang. Das liegt auch am Wahlsystem in den USA. Harris oder Trump, die US-Amerikaner haben die Wahl. Ihre Stimmen gehen aber nicht direkt an ihre Kandidaten. Stattdessen bestimmen sie in ihrem jeweiligen Bundesstaat Wahlleute. Jeder der 50 Bundesstaaten hat eine feste Anzahl von Wahlleuten, je nachdem, wie viele Einwohner dort leben. So stellt Kalifornien, der Staat mit den meisten Einwohnern, 54 Wahlleute, das dünn besiedelte Alaska nur drei. In fast allen Bundesstaaten gilt das Prinzip The winner takes it all. Das bedeutet, wer die Abstimmung gewinnt, sichert sich die Stimmen aller Wahlleute dieses Staates. Am Ende wird zusammengezählt. Wer mehr als die Hälfte der landesweit 538 Wahlleute gewonnen hat, zieht als Präsidentin oder Präsident ins Weiße Haus. In den blau eingefärbten Staaten gilt es als mehr oder weniger sicher, dass die Mehrheit für die Demokraten stimmt. In den rot markierten Staaten wird eine Mehrheit für die Republikaner erwartet. Die entscheidende Rolle bei der Wahl spielen die sogenannten Swing States, Staaten, in denen keine der beiden großen Parteien eine stabile Mehrheit hat. Pennsylvania, Michigan und Wisconsin zum Beispiel. Traditionell eher den Demokraten zugeneigt, stimmte dort eine knappe Mehrheit bei der Wahl 2016 für den Republikaner Trump und sicherte ihm damit die Präsidentschaft. Das kleine Örtchen Dixville-Notch hoch im Norden New Hampshire's. Hier wird traditionell kurz nach Mitternacht gewählt. Three for Kamala Harris, three for Donald Trump. Drei zu drei geht die Wahl hier aus. Gleichstand. Mittlerweile sind im ganzen Land die Wahllokale geöffnet. Und alles spricht für ein Kopf-an-Kopf-Rennen wie in Dixville-Notch. Ich mag die Werte, für die Harris steht. Und ich habe Angst vor einer weiteren Präsidentschaft Trump. Er war schon mal Präsident und weiß, was er tut. Er ist eine gute Wahl. Er wird die USA einen. Ich hoffe, es ist ein Erdrutschsieg für wen auch immer. Das ist der einzige Weg, zu einem Abschluss zu kommen. Bis tief in die Nacht werben beide Kandidaten gestern um Stimmen. Kamala Harris tritt mit Stars wie Ricky Martin, Oprah Winfrey und Lady Gaga auf. In Philadelphia, Pennsylvania. Vor den Stufen, die der Boxfilm Rocky berühmt machte. Diese Stufen sind eine Hommage an alle, die als Außenseiter gestartet sind und zum Sieg aufstiegen. Harris verbreitet Zuversicht und erneuert ihr Versprechen, das Land einen zu wollen. Sie setzt auch auf die Stimmen enttäuschter Republikaner. Donald Trump hält seine Abschlusskundgebung in Grand Rapids, Michigan. Erneut behauptet er, ohne Belege, dass ihm ein Sieg nur durch Betrug der Demokraten zu nehmen sei. Wir müssen Harris schlagen und die linksradikale Agenda mit einem Sieg stoppen, der zu groß ist, um manipuliert zu werden. Gegen Mittag gibt Trump in Florida seine Stimme ab. Harris hatte per Briefwahl abgestimmt. In einigen Staaten hat das Auszählen der Briefwahlstimmen bereits begonnen. Doch erste Ergebnisse gibt es frühestens ab 1 Uhr nachts deutscher Zeit. Unsere Korrespondentin Gudrun Engel steht vor einem Wahllokal in Arlington im Bundesstaat Virginia. Wie verläuft denn die Abstimmung bisher? Bislang läuft die Wahl sehr entspannt. Heute Morgen vor Berufsbeginn hat es vereinzelt Schlangen gegeben. Jetzt kommen vereinzelt Menschen, die ihre Stimme abgeben wollen. Die Wahlleiter in den 50 Bundesstaaten haben auch noch mal bestätigt, sie sind gut vorbereitet, um eine reibungslose Wahl zu garantieren. Die größte Herausforderung war diesmal offenbar, ausreichend freiwillige Wahlhelfer zu finden, die sich trotz der Spaltung in der Gesellschaft engagieren wollen. Wahlhelfer, also wenige, aber Wahlbeobachter viele. Es gibt unter anderem 12 Bundestagsabgeordnete, die hier durchs Land fahren, um sich von der Rechtmäßigkeit der Wahl zu überzeugen. Und bei dem Wahllokal, vor dem wir hier stehen, kam vorhin spontan die Beobachtermission aus Mittel- und Südamerika vorbei. Und eine Mexikanerin sagte uns, hier ist alles in Ordnung. Gab es schon besondere Vorkommnisse? Es gibt zwei Meldungen über Vorkommnisse, die man im Auge behalten muss. Das eine ist in Cambria County in Pennsylvania. Da sind heute Morgen offenbar die Wahlmaschinen ausgefallen, aufgrund eines technischen Defektes. Es gab lange Schlangen, die Menschen waren ungehalten. Und man ist jetzt wieder dazu übergegangen, mit Stimmzettel und Papier zu wählen. Und zum anderen gab es mehrere Bombendrohungen in und um Atlanta. Da sagt der Wahlleiter, die kamen aus Russland. Und weil man eben damit rechnet, dass es Cyberangriffe geben kann aus China, Russland oder dem Iran, ist mittlerweile die Nationalgarde mit ihren IT-Spezialisten in 18 Bundesstaaten in Bereitschaft. Gut, Run-Engel, danke für die Eindrücke nach Arlington. Die Umfragen sehen also ein Kopf-an-Kopf-Rennen. Und damit weiter zu Jörg Schönborn in unserem ARD-Wahlstudio in Köln. Wie aussagekräftig sind denn die Umfragen? Auch heute sind wieder mehr als ein Dutzend erschienen. Und zwei Dinge kann man nicht ableiten, ob es tatsächlich so eng wird und wer am Ende vorne liegt. Eines aber kann man sehr deutlich sehen an den Umfragekurven für Donald Trump und Kamala Harris. Das ist die Dynamik des Wahlkampfs. Nach der Nominierung im Juli legt Harris zu, hat ihren Höhepunkt im September. Donald Trump, zunächst zurückhaltend, macht im Oktoberboden gut. Und in diesem Durchschnitt, den 538 gebildet hat, liegt Harris am Ende mit 48 zu 46,8 vorne. Aber Achtung, Umfragen sind keine Vorhersagen. Und das Wahlleute-System kann durchaus auch dazu führen, dass man mit einer Minderheit der Stimmen am Ende doch Präsident wird. Welche Themen waren im Wahlkampf denn entscheidend? Ronald Reagan hat einst die Frage formuliert, die für Wahlforscher seither ein Klassiker ist. Geht es dir heute besser als vier Jahre zuvor? Und das ist natürlich auch dieses Jahr wieder gefragt worden. Die Minderheit, 39 Prozent, sagt, mir geht's finanziell besser. Die Mehrheit, 52 Prozent, sagt, nein, mir geht's schlechter als vor vier Jahren. Das sind für viele Argumente, den vormaligen Präsidenten zu wählen. Und in den Swing States kann man sehr deutlich sehen, wie unterschiedlich Männer und Frauen ihre Prioritäten setzen. Das Thema Wirtschaft, insgesamt das Wichtigste, ist aber bei Männern deutlich stärker genannt als bei Frauen. Die Abtreibungsrechte hingegen sind für Frauen von besonderer Bedeutung. Es wird heute am Ende darauf ankommen, wer von den beiden Kandidatinnen und Kandidaten seine, ihre Wählerschaft wirklich mobilisieren und zur Stimmabgabe bewegen kann. Jörg Schönenborn, danke nach Köln. Und wenn Sie die Wahl heute Nacht verfolgen wollen, über den aktuellen Stand informieren wir Sie fortlaufend auch auf tagesschau24 und tagesschau.de. In Israel hat Premierminister Netanyahu seinen Verteidigungsminister Galant entlassen. Als Grund gab Netanyahu an, dass sein Vertrauen in Galant über die vergangenen Monate geschwunden sei. Galant hatte sich wiederholt unzufrieden über die Kriegsführung im Kampf gegen die Hamas im Gaza-Streifen gezeigt. Neuer Verteidigungsminister soll der bisherige Außenminister Katz werden. In der Ampelkoalition hat es am Morgen ein weiteres Krisengespräch gegeben. Bundeskanzler Scholz, Wirtschaftsminister Habeck und Finanzminister Lindner suchen nach Kompromissen im Streit über den Haushalt und die Wirtschaftspolitik. Einzelheiten wurden aus dem vertraulichen Gespräch nicht bekannt. Für morgen sind zwei weitere Treffen geplant, bevor am Abend der Koalitionsausschuss in größerer Runde berät. Das Kanzleramt heute Morgen. Um kurz vor acht kommen die Spitzen der Ampelregierung erneut zusammen. Gut zwei Stunden verhandeln Scholz, Habeck und Lindner hinter verschlossenen Türen. Eine Annäherung gibt es dabei aber nicht. Der Bundeskanzler will trotzdem nicht aufgeben. Er glaubt an eine Einigung. Klar ist, es ginge. Insofern ist die Frage nicht, ob man es überhaupt hinkriegen kann, sondern es ist möglich und daran müssen jetzt alle arbeiten. Deshalb habe ich dafür gesorgt, dass wir intensive Zeit für Gespräche haben. Größter Streitpunkt ist weiterhin die Wirtschaftspolitik. FDP-Chef Lindner hatte zuletzt ein Positionspapier verfasst und damit seine Ampelpartner verärgert. Wirtschaftsminister Habeck erteilt diesen Vorschlägen nun eine klare Absage. Es muss eine Lösung jenseits dieser Vorschläge geben. Das wissen auch alle. Wir sind doch im Amt, weil wir eine Pflicht haben. Das geht mir so auf den Keks, wenn das gegenüber Taktik und Strategie keine Rolle spielt. Auch die Fraktionsvorsitzende der Grünen kritisiert Lindner scharf, bezeichnet sein Papier als Provokation. Der FDP-Chef will sich das nicht gefallen lassen. Die Grünen betrachten meine Vorschläge als eine Provokation. Viele in Wirtschaft und Wissenschaft halten sie für hilfreich, um wieder zu Wachstum zu kommen und Arbeitsplätze zu sichern. Ich bin offen für Gegenvorschläge. Nur eins kann sich unser Land nicht leisten, nämlich nichts tun. Die Fronten im Ampelstreit sind verhärtet. Trotz vieler Krisengespräche findet die Regierung bislang nicht zusammen und die Zeit drängt. Nächste Woche soll der Haushalt stehen. Spätestens dann müssten SPD, Grüne und FDP einen gemeinsamen Plan vorlegen und ihren Streit endgültig beenden. Und damit zu Markus Preiß in Berlin. Gestern kam der Vorschlag vom Wirtschaftsminister, die nicht genutzten Subventionen für das Intel-Werk in Magdeburg in den Bundeshaushalt zu stecken. Wie kam dieser Vorschlag an? Der Bundeskanzler hat das auf jeden Fall gelobt. Er hat gesagt, das ist genau der Pragmatismus, der neue Handlungsspielräume schafft, den es jetzt braucht. Die Reaktion im FDP-geführten Finanzministerium war da deutlich nüchterner. Da hieß es im Prinzip so, dass es ganz normal ist, dass, wenn Geld übrig ist, das dann in den Haushalt geht. Man sieht sehr deutlich, der FDP geht es stärker darum, grundsätzlich über eine neue Wirtschaftspolitik zu diskutieren. Bei SPD und Grünen steht erst mal das Schaffen eines funktionierenden Haushalts bis zum Ende kommender Woche im Vordergrund. Wie die Wirtschaft angeschoben werden soll, darüber ist ja bislang nicht viel Konkretes nach außen gedrungen. Gibt es inzwischen nähere Informationen? Nein, da sind die Verhandlungen offenbar auch noch deutlich schwieriger. Was wir hören, ist, dass man nach Lösungen sucht, die zum einen schnell entschieden werden können, die schnell umzusetzen sind und die möglichst eben auch nicht noch größere Haushaltslöcher schaffen. Was könnte das sein? Es ist alles noch in Bewegung. Aber was wir hören, ist, dass man unter anderem diskutieren könnte über eine Absenkung der Strompreise. Und zwar der Netzentgelte für besonders energieintensive Firmen, also Aluminium oder Stahl. Dass es auch darum gehen könnte, die Elektromobilität stärker zu fördern und um ein schnelleres Ende für das deutsche Lieferkettengesetz, wo ja viele Firmen Sorgen haben, dass sie da noch mehr Bürokratie und Formalien miterledigen müssen. Aber ob es dazu kommt, ist vollkommen offen. Ob, wenn es dazu kommt, das dann allen Beteiligten reicht, zu sagen, die Ampel ist sozusagen wieder in der Spur. Das ist noch weiter offen. Fest steht nur, morgen wird intensiv weiter verhandelt. Gleich in drei Runden von 9 bis 11, von 14 bis 16 Uhr und ab 18 Uhr dann im Koalitionsausschuss. Markus Preiß, danke nach Berlin. Bei Razzien in Sachsen und Polen sind acht Rechtsextreme festgenommen worden. Sie stehen unter Terrorverdacht und sollen einen Umsturz mit Waffengewalt geplant haben. Nach Angaben der Bundesanwaltschaft nannte sich die Gruppe Sächsische Separatisten. Mindestens einer der Festgenommenen ist nach ARD-Informationen ein Kommunalpolitiker der AfD. Er war bei der Razzia offenbar bewaffnet und wurde bei der Festnahme verletzt. Ankunft mit dem Hubschrauber in Karlsruhe. Streng bewacht geht es für den ersten Beschuldigten direkt vom Landeplatz zum Ermittlungsrichter beim Bundesgerichtshof. Am Morgen nahmen Beamte, wie hier im sächsischen Grimma, insgesamt acht Männer fest, alle zwischen 21 und 25 Jahre alt. Sie sollen Mitglieder einer terroristischen Vereinigung sein, so der Vorwurf der Bundesanwaltschaft. Die Gruppe sei rassistisch und antisemitisch ausgerichtet. Ihr Name? Sächsische Separatisten. Sie ging davon aus, dass es zu einem unbestimmten Tag X in Deutschland, zu einem gesellschaftlichen Zusammenbruch kommen wird. Und für diesen Fall wollte dann die Gruppierung mit Waffengewalt Gebiete in Sachsen erobern und dort einen nationalsozialistischen Staat errichten. Auf den Tag X soll die Gruppe konkret hingearbeitet haben. Zur Vorbereitung darauf haben die Beschuldigten bereits paramilitärische Trainings durchgeführt, zum Beispiel etwa den Häuserkampf geübt oder auch den Umgang mit Waffen. Aus Sicht von Experten gilt die mutmaßliche Terrorgruppe als entschlossen. Ich halte die Gruppe für brandgefährlich. Sie hatte sich bewaffnet. Sie hatte den bewaffneten Kampf trainiert. Und bei der Festnahme eines Mitglieds heute wurden Warnschüsse abgegeben, da der Mann selbst zur Waffe gegriffen hatte. Einer der heute Festgenommenen ist Fraktionsvorsitzender der AfD im Stadtrat einer sächsischen Kreisstadt. Zwei weitere sind Mitglieder der AfD-Jugendorganisation Junge Alternative. Ich will auch deutlich sagen, und da sind wir uns auch im Parteivorstand einig, sollten sich diese Vorwürfe bestätigen, dass solche Personen weder in der JA noch in der AfD was zu suchen haben. Die Bundesinnenministerin begrüßt die heutigen Festnahmen. Es ist wirklich wichtig, dass unsere Sicherheitsbehörden damit frühzeitig militante Umsturzpläne von Rechtsextremisten aufklären konnten und vor allen Dingen vereitelt haben. Inzwischen hat der Ermittlungsrichter beim Bundesgerichtshof für fünf Beschuldigte Untersuchungshaft angeordnet. In den vergangenen Jahren gab es zahlreiche Festnahmen im Zusammenhang mit möglichen extremistischen Umsturzplänen in unterschiedlicher Form. Gemeinsam ist ihnen aus Sicht der Ermittler Waffengewalt als entscheidendes Mittel und bereits konkrete Vorbereitungen. Ob die Vorwürfe zutreffen, müssen die Gerichte klären. Und nun die Wettervorhersage für morgen, Mittwoch, den 6. November. Unter Hochdruckeinfluss bleibt es bei dem ruhigen Herbstwetter. Da die Luft feuchter wird, liegen wir aber oft in neblig-trüben Dauergrau. Heute Nacht ist es v.a. im Osten, in den Hochlagen sowie an den Alpen klar. Sonst machen sich wieder dichte Nebel- und Hochnebelfelder breit. Die werden sich morgen vielerorts zäh halten und stellenweise etwas Niesel bringen. Die Sonne zeigt sich nur sporadisch. Die besten Chancen hat sie weiterhin in den Hochlagen. Heute Nacht 8 bis 1 Grad. V.a. in den zentralen und östlichen Mittelgebirgen leichter Frost. Bei Dauernebel morgen wieder nur einstellige Werte. Bei Sonne im äußersten Süden um 15 Grad. Auch Donnerstag oft trübes Wetter. In den Hochlagen dagegen häufiger Sonnenschein. In den folgenden Tagen hat die Sonne bei auflebendem Wind wieder bessere Chancen. Und es wird auch wieder etwas wärmer.\n"
          ]
        }
      ]
    },
    {
      "cell_type": "code",
      "source": [
        "import json\n",
        "\n",
        "# Save the transcription with timestamps to a JSON file\n",
        "with open(f\"transcription_with_timestamps_{filename}.json\", \"w\") as f:\n",
        "    json.dump(result[\"segments\"], f, indent=4)\n"
      ],
      "metadata": {
        "id": "YadyfvqD-GK7"
      },
      "execution_count": null,
      "outputs": []
    }
  ]
}