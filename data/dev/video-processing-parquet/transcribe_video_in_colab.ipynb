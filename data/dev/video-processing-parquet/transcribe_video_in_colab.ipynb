{
  "nbformat": 4,
  "nbformat_minor": 0,
  "metadata": {
    "colab": {
      "provenance": [],
      "gpuType": "T4"
    },
    "kernelspec": {
      "name": "python3",
      "display_name": "Python 3"
    },
    "language_info": {
      "name": "python"
    },
    "accelerator": "GPU"
  },
  "cells": [
    {
      "cell_type": "code",
      "source": [
        "!pip install -U openai-whisper"
      ],
      "metadata": {
        "id": "tCDjj-tVWgdc"
      },
      "execution_count": null,
      "outputs": []
    },
    {
      "cell_type": "code",
      "execution_count": null,
      "metadata": {
        "id": "abMmG9ifWRGT"
      },
      "outputs": [],
      "source": [
        "import pandas as pd\n",
        "import requests\n",
        "import subprocess\n",
        "import json\n",
        "import whisper\n",
        "\n",
        "# Read CSV as a DataFrame\n",
        "csv_file_path = 'tagesschau_sign_language_video_links.csv'\n",
        "df = pd.read_csv(csv_file_path)\n",
        "df"
      ]
    },
    {
      "cell_type": "code",
      "source": [
        "# Select medium quality video url\n",
        "video_url = df['webm'].iloc[-1]\n",
        "video_url"
      ],
      "metadata": {
        "id": "CSytu1WWWalr"
      },
      "execution_count": null,
      "outputs": []
    },
    {
      "cell_type": "code",
      "source": [
        "# Function to download a file from a URL\n",
        "def download_file(url, file_name):\n",
        "    response = requests.get(url, stream=True)\n",
        "    if response.status_code == 200:\n",
        "        with open(file_name, 'wb') as file:\n",
        "            for chunk in response.iter_content(chunk_size=1024):\n",
        "                if chunk:\n",
        "                    file.write(chunk)\n",
        "        print(f\"Downloaded {file_name}\")\n",
        "    else:\n",
        "        print(f\"Failed to download {file_name}. Status code: {response.status_code}\")\n",
        "\n",
        "# Download the video file\n",
        "video_file_name = video_url.split(\"/\")[-1]\n",
        "download_file(video_url, video_file_name)"
      ],
      "metadata": {
        "id": "9ABeKCdVWdMv"
      },
      "execution_count": null,
      "outputs": []
    },
    {
      "cell_type": "code",
      "source": [
        "command = [\n",
        "    'ffmpeg',\n",
        "    '-i', video_file_name,\n",
        "    '-ar', '16000',\n",
        "    '-ac', '1',\n",
        "    'audio.wav'\n",
        "]\n",
        "\n",
        "subprocess.run(command, check=True)"
      ],
      "metadata": {
        "id": "syTQFBHKWnw9"
      },
      "execution_count": null,
      "outputs": []
    },
    {
      "cell_type": "code",
      "source": [
        "# Load the large-v3-turbo model (or replace with the correct model if naming differs)\n",
        "model = whisper.load_model(\"large-v3-turbo\")\n",
        "\n",
        "# Transcribe the audio file\n",
        "result = model.transcribe(\"audio.wav\", language=\"de\", word_timestamps=True)\n",
        "\n",
        "# Extract word-level timestamps\n",
        "word_segments = result.get(\"segments\")\n",
        "word_segments"
      ],
      "metadata": {
        "id": "KB9MCCPtWri_"
      },
      "execution_count": null,
      "outputs": []
    },
    {
      "cell_type": "code",
      "source": [
        "# TODO: Replace with save in Google Cloud\n",
        "with open(video_file_name + \".json\", \"w\") as f:\n",
        "  json.dump(word_segments, f)"
      ],
      "metadata": {
        "id": "aWzSJyVHYQDF"
      },
      "execution_count": null,
      "outputs": []
    }
  ]
}