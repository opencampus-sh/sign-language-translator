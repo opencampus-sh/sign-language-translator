{
  "nbformat": 4,
  "nbformat_minor": 0,
  "metadata": {
    "colab": {
      "provenance": []
    },
    "kernelspec": {
      "name": "python3",
      "display_name": "Python 3"
    },
    "language_info": {
      "name": "python"
    }
  },
  "cells": [
    {
      "cell_type": "markdown",
      "source": [
        "# Segmenting the video"
      ],
      "metadata": {
        "id": "_AV2V1KAEND8"
      }
    },
    {
      "cell_type": "code",
      "execution_count": null,
      "metadata": {
        "colab": {
          "base_uri": "https://localhost:8080/"
        },
        "id": "TR8mOazEBOhi",
        "outputId": "4afbc402-e8f0-4d3b-ba74-21f02b3e6837"
      },
      "outputs": [
        {
          "output_type": "stream",
          "name": "stdout",
          "text": [
            "[0.00 - 7.30]  Hier ist das Erste Deutsche Fernsehen mit der Tagesschau.\n",
            "[14.42 - 17.50]  Heute im Studio Susanne Daubner.\n",
            "[18.08 - 19.80]  Guten Abend, meine Damen und Herren.\n",
            "[19.96 - 21.94]  Ich begrüße Sie zur Tagesschau.\n",
            "[22.44 - 25.98]  Die Ampelregierung hat heute auf zwei getrennten Terminen\n",
            "[25.98 - 29.04]  in Berlin darüber beraten, wie die Wirtschaft unterstützt\n",
            "[29.04 - 31.58]  und das Wachstum angekurbelt werden kann.\n",
            "[32.16 - 36.04]  Finanzminister Lindner kam am Vormittag mit Mittelständlern zusammen.\n",
            "[36.42 - 38.40]  Konkrete Ergebnisse gab es nicht.\n",
            "[38.94 - 43.34]  Bundeskanzler Scholz lud Vertreter von Industrie, Verbänden und Gewerkschaften\n",
            "[43.34 - 45.16]  zu vertraulichen Gesprächen ein.\n",
            "[46.52 - 51.04]  Durchgang heute Nachmittag nur für Industrievertreter und Gewerkschafter\n",
            "[51.04 - 52.22]  im Kanzleramt.\n",
            "[52.64 - 55.24]  Geladen hat Olaf Scholz, und zwar er allein.\n",
            "[55.24 - 57.74]  Es soll der Beginn eines Austauschs sein.\n",
            "[57.74 - 59.06]  Ein Industriegipfel.\n",
            "[59.46 - 61.62]  Wie kommt die Branche aus der Wirtschaftskrise?\n",
            "[62.10 - 63.56]  Ein neuer Spirit wird gesucht.\n",
            "[63.90 - 64.54]  Vertraulich.\n",
            "[64.96 - 67.00]  Ohne Statements vor den Kameras.\n",
            "[67.50 - 69.44]  Ganz anders der Finanzminister.\n",
            "[69.86 - 72.12]  Im Kanzleramt war er nicht eingeladen.\n",
            "[72.28 - 75.04]  Und so organisiert Lindner heute sein eigenes Treffen.\n",
            "[75.42 - 77.56]  Man kann es wohl einen Gegengipfel nennen.\n",
            "[77.94 - 81.70]  Statt Industrie steht der FDP-nahe Mittelstand im Fokus.\n",
            "[81.70 - 88.12]  Die deutsche Wirtschaft ist eben nicht ausschließlich geprägt durch Industrieunternehmen,\n",
            "[88.64 - 95.30]  sondern zu gut drei Viertel durch Mittelstand, Handwerk, durch Handel, durch Start-ups,\n",
            "[95.48 - 98.36]  durch freie Berufe und Selbstständige.\n",
            "[98.48 - 103.50]  Und deshalb muss auch ihre Perspektive in die politischen Erwägungen einbezogen werden.\n",
            "[103.50 - 107.02]  In der Runde wiederholt die Wirtschaft bekannte Kritik.\n",
            "[107.28 - 112.96]  Etwa zu viel Bürokratie, zu hohe Energiekosten und zu wenig Tempo bei den Regierenden.\n",
            "[113.96 - 117.88]  Wir müssen jetzt nach dem politischen Schaulauf ins Handeln kommen.\n",
            "[118.88 - 124.96]  Und es muss geliefert werden, denn Regierungsverantwortung heißt aus unserer Sicht auch Regierungsverpflichtung.\n",
            "[124.96 - 129.40]  Beschlüsse gibt es heute nicht, bei keinem der separaten Gipfel.\n",
            "[129.78 - 133.30]  Schriftlich erklärte der Kanzler nach seinem dreistündigen Treffen noch,\n",
            "[133.60 - 137.04]  man wolle die Gespräche Mitte November fortsetzen.\n",
            "[138.32 - 142.12]  In den Unternehmen sind die Erwartungen an die Politik groß,\n",
            "[142.12 - 145.90]  denn die schwächelnde Konjunktur bereitet ihnen zunehmend Sorgen.\n",
            "[146.44 - 151.12]  Hier das Beispiel eines Maschinenbauunternehmens aus Nordrhein-Westfalen.\n",
            "[151.12 - 155.92]  Der Maschinenbauer Kuhne produziert Anlagen für die Folienherstellung.\n",
            "[156.48 - 158.60]  Für jeden Kunden eine Einzelanfertigung.\n",
            "[159.14 - 161.78]  Maschinen für Lebensmittelfolien, die werden noch bestellt.\n",
            "[162.24 - 167.16]  Kunden im Bereich der Industriefolien aber bleiben weg und die Produktionshallen sind entsprechend leer.\n",
            "[167.16 - 171.98]  Alles da, wo es nicht unbedingt notwendig ist, sich jetzt eine neue Maschine zu kaufen,\n",
            "[172.80 - 179.48]  wird dieser Investitionsauftrag oder die Investitionsbereitschaft verschoben auf bessere Zeiten.\n",
            "[179.48 - 183.16]  60 Prozent weniger Aufträge, teilweise Kurzarbeit.\n",
            "[183.64 - 186.66]  Dabei hatte Kuhne sich auf schlechtere Zeiten durchaus eingestellt.\n",
            "[187.08 - 190.04]  Prozesse im Betrieb optimiert, um Kosten einzusparen.\n",
            "[190.50 - 192.96]  Jetzt sieht der Unternehmer die Politik in der Pflicht.\n",
            "[192.96 - 195.04]  Konkret würde ich den Strompreis jetzt einfach mal nennen,\n",
            "[195.28 - 198.14]  dass der reduziert wird für die Unternehmen in Deutschland.\n",
            "[198.78 - 203.92]  Und mittelfristig, dass wirklich in Deutschland der Standort wieder interessanter gemacht wird.\n",
            "[204.42 - 205.96]  Dazu brauche es Bürokratieabbau.\n",
            "[205.96 - 210.94]  Automatieabbau, massive Investitionen in Infrastruktur, Subventionen im großen Stil.\n",
            "[211.22 - 217.10]  Den Wunsch haben Mittelstand und Industrie heute nach Berlin getragen, zu den zwei parallel stattfindenden Gipfeln.\n",
            "[217.56 - 221.50]  Experten aber gehen nicht davon aus, dass die Regierung ganz neue Impulse setzt.\n",
            "[221.50 - 223.70]  Es hat ja zwei Wachstumspakete gegeben.\n",
            "[224.58 - 230.98]  Und insofern würde ich sagen, es ist fair zu sagen, einige Schritte in die richtige Richtung sind unternommen worden.\n",
            "[231.18 - 236.72]  Aber das ist letztlich untergegangen in diesem großen Streit der Ampelkoalition.\n",
            "[237.98 - 239.78]  Planungssicherheit sähe anders aus.\n",
            "[239.94 - 243.50]  Die aber brauchen Firmen wie Kuhne, um durch die Rezession zu kommen.\n",
            "[243.50 - 247.30]  Matthias Deiß in Berlin.\n",
            "[247.60 - 249.38]  Zwei Gipfel an einem Tag.\n",
            "[249.78 - 252.04]  Welches Signal sendet die Ampelregierung damit?\n",
            "[254.26 - 256.64]  Nun, dieser Tag der Gegengipfel.\n",
            "[256.64 - 264.74]  Er zeigt zunächst einmal vor allem eins, wie weit sich mittlerweile sogar die oberste Spitze dieser Ampel voneinander entfernt hat.\n",
            "[265.30 - 271.46]  Der Bundeskanzler will und muss eigenständiger auftreten, um vor der Bundestagswahl in die Offensive zu kommen.\n",
            "[271.70 - 278.56]  Etwa mit einer neuen Wirtschaftsagenda, mit der sich Scholz unabhängig von seinen Koalitionspartnern zur Wiederwahl stellen könnte.\n",
            "[279.04 - 283.82]  Die Forderung der Wirtschaft, das ist heute aber klar geworden, gehen in eine ganz andere Richtung.\n",
            "[283.82 - 287.82]  Sie erwartet, dass die Ampel gemeinsam handelt und zwar schnell.\n",
            "[288.40 - 294.16]  Ob die Ampelpartner hierfür aber noch die Kraft haben, daran zweifeln nicht nur viele Wirtschaftsvertreter.\n",
            "[294.68 - 298.92]  Zum einen gehen die Vorstellungen, wie der Wirtschaft geholfen werden kann, weit auseinander.\n",
            "[299.20 - 302.70]  Außerdem bleibt das Geld knapp und nur noch wenig Zeit.\n",
            "[302.78 - 309.70]  Der Haushalt fürs kommende Jahr soll vom Haushaltsausschuss des Bundestags am 14. November endgültig auf den Weg gebracht werden.\n",
            "[309.70 - 315.24]  Demnach müsste man sich trotz der Differenzen jetzt sehr schnell auf ein gemeinsames Paket einigen.\n",
            "[315.44 - 320.34]  Oder aber, auch das ist möglich, den Zeitplan noch einmal nach hinten verschieben.\n",
            "[321.48 - 323.72]  Matthias Deiß, danke nach Berlin.\n",
            "[325.02 - 331.42]  Tausende Beschäftigte der Metall- und Elektroindustrie haben sich heute bundesweit an Warnstreiks beteiligt.\n",
            "[331.98 - 336.80]  So wie hier in Stuttgart folgten sie dem Aufruf der IG Metall und legten die Arbeit nieder.\n",
            "[336.80 - 341.86]  Die Tarifverhandlungen stocken. Die Gewerkschaft fordert 7 Prozent mehr Geld.\n",
            "[342.28 - 348.56]  Die Arbeitgeber bieten 3,6 Prozent in zwei Stufen über 27 Monate.\n",
            "[350.16 - 358.54]  Nach der Hinrichtung des Deutsch-Iraners Jamshid Shamad im Iran hat die Bundesregierung erste Konsequenzen gezogen.\n",
            "[359.00 - 363.48]  Das Auswärtige Amt bestellte den Leiter der iranischen Botschaft in Berlin ein.\n",
            "[363.48 - 367.48]  Daraufhin wurde in Teheran der deutsche Botschafter einbestellt.\n",
            "[367.70 - 371.98]  Die iranische Justiz hatte die Hinrichtung Shamads gestern bekannt gegeben.\n",
            "[372.50 - 379.02]  Er war im vergangenen Jahr in einem umstrittenen Prozess nach Terrorvorwürfen zum Tode verurteilt worden.\n",
            "[380.38 - 392.40]  Nach dem Verbot des Palästinenser-Hilfswerks UNRWA in Israel warnen die Vereinten Nationen vor den Folgen für die humanitäre Lage in den palästinensischen Gebieten.\n",
            "[392.40 - 397.90]  Die UNRWA ist ein UN-Hilfswerk für palästinensische Flüchtlinge.\n",
            "[398.44 - 406.76]  Die Einsatzgebiete sind neben dem Gazastreifen und dem Westjordanland mit Ost-Jerusalem auch der Libanon, Jordanien und Syrien.\n",
            "[407.34 - 411.40]  Die meisten der etwa 30.000 Mitarbeitenden sind Palästinenser.\n",
            "[412.56 - 417.40]  Das Hilfswerk betreibt zudem 700 Schulen und 140 Gesundheitszentren.\n",
            "[417.40 - 422.72]  Der Sitz einer bald schon völlig blockierten Organisation.\n",
            "[423.42 - 426.20]  Gestern hat das israelische Parlament, die Knesset, entschieden.\n",
            "[426.70 - 430.94]  Das UN-Hilfswerk für Palästina-Flüchtlinge, kurz UNRWA, wird verboten.\n",
            "[431.42 - 434.14]  Jeder Kontakt zu israelischen Einrichtungen untersagt.\n",
            "[434.48 - 435.40]  Deren Sprecher ratlos.\n",
            "[435.40 - 438.58]  Was passiert mit unseren Mitarbeitern?\n",
            "[438.84 - 441.12]  Und was passiert mit denjenigen, für die wir da sind?\n",
            "[441.34 - 442.42]  Kinder, die wir unterrichten?\n",
            "[442.72 - 443.84]  Menschen in Krankenhäusern?\n",
            "[444.08 - 446.88]  Wir sind tief besorgt über mögliche Konsequenzen.\n",
            "[448.32 - 452.64]  Seit 1949 ist das UN-Hilfswerk aktiv, so auch im Gazastreifen.\n",
            "[453.22 - 458.16]  Seine Aufgaben reichen von der Versorgung mit Lebensmitteln und Medizin bis hin zum Betrieb von Schulen.\n",
            "[458.16 - 461.08]  In Israel aber steht das Hilfswerk in der Kritik.\n",
            "[461.46 - 465.54]  Der Vorwurf, UNRWA sei unterwandert von der Terrororganisation Hamas.\n",
            "[466.08 - 471.64]  Mitarbeiter sollen am Überfall auf Israel am 7. Oktober 2023 beteiligt gewesen sein.\n",
            "[472.26 - 476.78]  Mehrere Länder, darunter auch Deutschland, setzten daraufhin zeitweise Zahlungen aus.\n",
            "[477.46 - 479.82]  Die Vereinten Nationen haben die Vorwürfe untersucht.\n",
            "[480.16 - 482.10]  Neun Mitarbeiter wurden daraufhin entlassen.\n",
            "[482.68 - 486.08]  Von insgesamt etwa 13.000 Beschäftigten im Gazastreifen.\n",
            "[486.08 - 491.28]  Deren Arbeit notwendig für die Zivilbevölkerung, heißt es von den Vereinten Nationen.\n",
            "[491.64 - 495.08]  Das beschlossene Verbot ziele darauf ab, das Hilfswerk vollständig abzubauen.\n",
            "[495.98 - 500.82]  Das UN-Hilfswerk zu entfernen, das ist, als würde man das Rückgrat entfernen.\n",
            "[501.26 - 503.94]  Und wenn du das Rückgrat entfernst, dann kollabiert der ganze Körper.\n",
            "[504.46 - 509.40]  Das ist die Gefahr, vor der wir stehen, dass der gesamte Auftrag aufgrund dieser Entscheidung scheitern wird.\n",
            "[510.40 - 513.18]  In drei Monaten wird das Verbot des Hilfswerks wirksam.\n",
            "[513.18 - 516.90]  Doch es bleibt die Frage offen, wie restriktiv es dann auch durchgesetzt wird.\n",
            "[517.26 - 522.42]  Die Sorge bei den Verantwortlichen ist groß, dass das Hilfswerk vor allem in Gaza seiner Arbeit nicht mehr nachkommen kann.\n",
            "[522.82 - 526.32]  Die humanitäre Katastrophe dort könnte sich dann noch weiter verschärfen.\n",
            "[528.74 - 531.66]  In einer Woche sind die US-Präsidentschaftswahlen.\n",
            "[531.88 - 536.30]  Und es wird eng zwischen der Demokratin Harris und dem Republikaner Trump.\n",
            "[536.30 - 540.72]  Das Rennen dürfte sich in nur einigen wenigen Wahlbezirken entscheiden.\n",
            "[541.26 - 547.30]  Denn im US-Wahlsystem werden die Stimmen nicht bundesweit zusammengezählt und verglichen, sondern in den Bundesstaaten.\n",
            "[548.32 - 551.30]  Viele sind dabei traditionell demokratisch oder republikanisch.\n",
            "[552.66 - 557.84]  Nicht aber die sogenannten Swing States, in denen die Mehrheiten immer wieder gewechselt haben.\n",
            "[558.26 - 563.30]  Kein Zufall also, dass Trump gestern in Georgia und Harris in Michigan auftrat.\n",
            "[563.30 - 571.64]  Straßenränder und Vorgärten werden zur politischen Bühne.\n",
            "[572.10 - 577.60]  Besonders um die Minderheiten. In den Swing States die entscheidenden Wählergruppen wird geworben.\n",
            "[578.28 - 583.02]  In Michigan etwa, wo die größte Zahl arabischstämmiger Amerikaner lebt.\n",
            "[583.98 - 589.04]  Ich glaube fest, dass wir, die arabischstämmige Gemeinschaft, in Michigan die Wahl entscheiden werden.\n",
            "[589.04 - 596.04]  Entsprechend bemühen sich Harris und Waltz gestern dort in Ann Arbor, Michigan um genau dieses Klientel.\n",
            "[597.68 - 602.34]  Wir wollen, dass der Krieg in Gaza schnellstmöglich endet und die Geiseln freikommen.\n",
            "[602.34 - 610.60]  Donald Trump tourt zur gleichen Zeit durch Georgia, dem Swing State mit dem größten schwarzen Wähleranteil.\n",
            "[611.06 - 613.50]  Besonders schwarze Männer fühlen sich abgehängt.\n",
            "[614.94 - 619.62]  Ich fordere euch auf, denkt groß. Wir werden ein goldenes Zeitalter schaffen.\n",
            "[621.06 - 622.96]  Das verfängt offenbar.\n",
            "[624.70 - 629.12]  Harris tut nichts für uns Männer, deswegen werden die meisten sie auch nicht wählen.\n",
            "[629.12 - 636.22]  In der letzten Woche vor der Wahl versuchen beide Parteien, so viele Wählerinnen und Wähler wie möglich zu mobilisieren.\n",
            "[636.86 - 642.94]  Wir haben bei der letzten Wahl zwei Bundesstaaten gehabt, Wisconsin und Arizona, wo es am Ende um 20.000 Stimmen ging.\n",
            "[643.68 - 646.00]  Und das macht deutlich, wie hauchdünn die Sache ist.\n",
            "[646.18 - 653.14]  Und dass es am Ende wirklich darauf ankommt, ob der Appell geht wählen, von ihr oder ihm bessere Früchte trägt.\n",
            "[653.64 - 655.98]  Entscheidend wird also die Wahlbeteiligung.\n",
            "[655.98 - 661.08]  Die ist in einigen Swing States jetzt schon deutlich höher als vor vier Jahren.\n",
            "[661.56 - 666.62]  In den hart umkämpften Bundesstaaten geht es deshalb jetzt darum, Unentschlossene zu mobilisieren.\n",
            "[667.04 - 673.96]  Denn in Umfragen liegen beide Kandidaten eine Woche vor dem eigentlichen Wahltermin immer noch nahezu gleich auf.\n",
            "[673.96 - 677.38]  Trump oder Harris?\n",
            "[678.64 - 687.18]  Tagesthemenmoderator Ingo Zamperoni ist durch die USA gereist und hat mit den Menschen darüber gesprochen, welche Themen für sie bei dieser Wahl den Ausschlag geben.\n",
            "[687.68 - 692.38]  Seine Reportage können Sie ab sofort in der ARD-Mediathek sehen.\n",
            "[692.38 - 697.18]  Einen Moment durchatmen im Grünen.\n",
            "[697.68 - 700.20]  Manchmal reicht das schon, um sich wohlzufühlen.\n",
            "[700.68 - 707.42]  Das Bundesinstitut für Bevölkerungsforschung hat untersucht, wo die Menschen in Deutschland am zufriedensten sind.\n",
            "[707.96 - 708.62]  Ein Ergebnis?\n",
            "[709.10 - 711.90]  In Städten mit vielen Grünflächen und guter Luft.\n",
            "[712.40 - 715.66]  Und auch im Süden Deutschlands ist die Zufriedenheit hoch.\n",
            "[715.66 - 719.82]  Er ist zufrieden und sie auch.\n",
            "[720.28 - 723.16]  Den Menschen im Süden Deutschlands scheint das leichter zu fallen.\n",
            "[723.66 - 729.46]  Da gibt es schließlich den Bodensee zum Ausruhen, Segeln, zur Kontaktaufnahme.\n",
            "[730.10 - 731.36]  Oder den Schwarzwald.\n",
            "[731.96 - 734.22]  Freiburg mit den vielen Sonnenstunden.\n",
            "[735.06 - 737.36]  Wir leben in der Toskana Deutschlands.\n",
            "[737.84 - 741.08]  Wir haben Sonnenschein Ende Oktober bei 22 Grad.\n",
            "[741.18 - 742.18]  Natürlich sind wir zufrieden.\n",
            "[742.18 - 746.10]  Wenn man aus der Tür treten kann und um einen herum einfach alles grün ist.\n",
            "[746.58 - 750.72]  Wenn ich sehr, sehr traurig bin, dann gehe ich in die Natur.\n",
            "[751.62 - 756.76]  Und die ist hier so schön, dass ich dann auch meine Sorgen vergesse.\n",
            "[757.30 - 760.82]  Ist es also das, was Zufriedenheit ausmacht?\n",
            "[762.12 - 766.76]  Zur Zufriedenheit braucht es zum einen eine gute Gesundheit.\n",
            "[766.92 - 769.08]  Es braucht einen gewissen Wohlstand.\n",
            "[769.08 - 773.50]  Aber es braucht auch, und das haben wir in unserem Monitor gesehen,\n",
            "[774.24 - 776.04]  Grünflächen drumherum.\n",
            "[776.18 - 779.88]  Es braucht eine gute Nachbarschaft und eine gute Luftqualität.\n",
            "[780.78 - 783.66]  Manche müssen sich also gar nicht groß verrenken,\n",
            "[783.92 - 785.72]  haben das Glück vor der Haustür.\n",
            "[785.98 - 790.18]  Natur, Wohlstand, vielleicht auch eine Prise Optimismus.\n",
            "[790.18 - 792.64]  Die Menschen, die sind einfach chillig.\n",
            "[793.06 - 795.26]  Die sind entspannt, die lächeln.\n",
            "[795.58 - 797.52]  Die sind alle super freundlich.\n",
            "[798.10 - 801.22]  Und das fehlt manchmal in unserer Gesellschaft.\n",
            "[802.06 - 805.60]  Es gibt viele Regionen in Deutschland, in denen die Menschen zufrieden sind.\n",
            "[805.88 - 811.32]  Schleswig-Holstein, Nordrhein-Westfalen, Brandenburg und eben der Süden Deutschlands.\n",
            "[811.32 - 819.26]  14 Jahre ist es her, dass Deutschland zuletzt beim Eurovision Song Contest gewann.\n",
            "[819.78 - 825.74]  Damals produzierte der Fernsehmoderator Stefan Raab den Vorentscheid, unser Star für Oslo.\n",
            "[826.30 - 829.02]  Jetzt will Raab an alte Erfolge anknüpfen.\n",
            "[829.44 - 837.08]  Zusammen mit ARD und RTL wird er das nationale Auswahlverfahren für den ESC im kommenden Jahr organisieren.\n",
            "[837.24 - 840.26]  Details sollen übermorgen vorgestellt werden.\n",
            "[841.32 - 847.66]  Im DFB-Pokal ist Titelverteidiger Leverkusen am frühen Abend ins Achtelfinale eingezogen.\n",
            "[848.06 - 851.62]  Durch einen 3-0-Sieg über den Zweitligisten Elversberg.\n",
            "[852.12 - 855.88]  Mit Augsburg steht ein weiterer Erstligist in der nächsten Runde.\n",
            "[856.34 - 859.46]  Die Augsburger schlugen Schalke ebenfalls mit 3-0.\n",
            "[859.90 - 861.22]  Und auch Leipzig ist weiter.\n",
            "[861.58 - 865.44]  Gegen St. Pauli setzte sich RB mit 4-2 durch.\n",
            "[865.44 - 871.40]  Leipzigs Marco Rose hat in der 12. Minute erstmals Abklatschbedarf.\n",
            "[871.90 - 874.52]  Baumgartner im Luftduell gegen Saljakas.\n",
            "[874.74 - 878.50]  Schmidt verschätzt sich und Paulsen zum 1-0 für RB.\n",
            "[878.88 - 883.06]  Yusuf Paulsen einer von gleich 6-9 in der Startelf der Leipziger.\n",
            "[883.72 - 885.74]  Die sind nun endgültig drin im Spiel.\n",
            "[885.86 - 888.00]  Gertreuder zu Baumgartner 2-0.\n",
            "[888.24 - 890.44]  RB geht enormes Tempo.\n",
            "[890.44 - 920.42]  Die Kiezkicker überlegen doch den eingewechselten Nusser lassen.\n",
            "[920.44 - 921.68]  Sie ziehen 4-2.\n",
            "[922.04 - 922.74]  Der Endstand.\n",
            "[923.10 - 925.48]  Leipzig steht im Achtelfinale.\n",
            "[927.10 - 931.58]  Und nun die Wettervorhersage für morgen, Mittwoch, den 30. Oktober.\n",
            "[932.74 - 935.46]  Morgen im Süden unter Hochdruck ruhiges Wetter.\n",
            "[935.64 - 938.44]  Vom Norden bis in die Mitte Ausläufe des Tiefs über Nordeuropa.\n",
            "[939.74 - 941.84]  In der Nacht vielerorts Nebel oder Hochnebel.\n",
            "[942.00 - 943.70]  Vom Norden bis in die Mitte Wolken,\n",
            "[943.82 - 946.90]  die in der Nacht unterm Tag hier unter etwas Regen oder Niesel bringen.\n",
            "[946.90 - 951.68]  Im Süden neben zähem Nebel, mancherorts Sonne, am häufigsten im höheren Bergland.\n",
            "[952.10 - 953.92]  Am Nachmittag Lichtblicke im Nordosten.\n",
            "[955.36 - 957.52]  In der Nacht 13 bis 3 Grad.\n",
            "[957.78 - 960.54]  Im Laufe des Tages 10 Grad im Dauernebelgrau.\n",
            "[960.92 - 963.04]  Bei Sonne im Süden bis 18 Grad.\n",
            "[963.54 - 964.10]  Die Aussichten.\n",
            "[965.02 - 967.20]  Am Donnerstag ist es meist bewölkt oder neblig.\n",
            "[967.34 - 969.20]  In den südlichen Hochlagen häufig Sonne.\n",
            "[969.86 - 973.48]  Ähnlich der Freitag, nur im Norden etwas Regen an den Küsten windig.\n",
            "[973.48 - 977.18]  Am Samstag ist es im Norden und Osten neben Wolken länger sonnig,\n",
            "[977.58 - 979.04]  sonst mehr Wolken als Sonne.\n",
            "[979.04 - 984.64]  bad.\n",
            "[984.84 - 985.02]  So.\n",
            "[985.02 - 985.12]  Okay.\n",
            "[985.14 - 985.84]  So.\n",
            "[985.86 - 987.54]  So.\n",
            "[987.76 - 989.14]  deteriorated in.\n",
            "[990.74 - 991.74]  bad.\n",
            "[992.30 - 992.48]  sche原.\n",
            "[992.48 - 992.86]  fehl.\n",
            "[992.86 - 994.20]  vor dem ad.\n",
            "[994.20 - 995.18]  viel adoles estatus.\n",
            "[995.18 - 997.00]  werden Sie infecture commercialsRobke.\n",
            "[997.00 - 997.90]  feeloren.\n",
            "[997.90 - 999.22]  Song Rick, maybebrar mal an?\n",
            "[999.22 - 1000.00] imeters Canon lip.\n",
            "[1000.00 - 1000.90]  Mitarbeiter coisas DJD die contemplation haben.\n",
            "[1000.90 - 1001.46]  Go.\n",
            "[1001.46 - 1001.92]  grandpa Carter.\n",
            "[1001.92 - 1002.40]  Forschung.\n",
            "[1002.40 - 1003.58]  menoru.\n",
            "[1003.58 - 1003.92]  sonst mehr Конadan.\n",
            "[1003.92 - 1004.46]  Ähnlich reparation haben.\n",
            "[1004.46 - 1005.18] ures碰 miles.\n",
            "[1005.18 - 1005.98]  rico Associationfree иногда.\n",
            "[1005.98 - 1007.06]  vors fascin Python вызилосьbiaatislang.\n",
            "[1007.06 - 1007.50]  Doingыт� das erste Reduktperson INF� Universe.\n",
            "[1007.50 - 1008.06] ested from thứ girls Film des yetimeisen.\n",
            "Total Duration of Transcription: 897.32 seconds\n"
          ]
        }
      ],
      "source": [
        "import json\n",
        "\n",
        "# Load the JSON file\n",
        "with open(\"transcription_with_timestamps_TV-20241029-2025-3400.webxxl.h264.mp3.json\", \"r\") as f:\n",
        "    segments = json.load(f)\n",
        "\n",
        "# Example: Print all segments\n",
        "for segment in segments:\n",
        "    print(f\"[{segment['start']:.2f} - {segment['end']:.2f}] {segment['text']}\")\n",
        "\n",
        "# Example: Analyze total duration\n",
        "total_duration = sum(segment[\"end\"] - segment[\"start\"] for segment in segments)\n",
        "print(f\"Total Duration of Transcription: {total_duration:.2f} seconds\")\n"
      ]
    },
    {
      "cell_type": "code",
      "source": [
        "segments[1]['start']"
      ],
      "metadata": {
        "colab": {
          "base_uri": "https://localhost:8080/"
        },
        "id": "AqiosaXLBDVG",
        "outputId": "d62eb0e8-6581-47af-a317-db708d76f633"
      },
      "execution_count": null,
      "outputs": [
        {
          "output_type": "execute_result",
          "data": {
            "text/plain": [
              "12.76"
            ]
          },
          "metadata": {},
          "execution_count": 3
        }
      ]
    },
    {
      "cell_type": "code",
      "source": [
        "def find_nearest_segment(segments, time_point):\n",
        "    \"\"\"\n",
        "    Find the segment whose 'end' time is the closest and less than or equal to the given time point.\n",
        "\n",
        "    Args:\n",
        "        segments (list): List of transcription segments (each is a dictionary with 'start', 'end', and 'text').\n",
        "        time_point (float): The time point to search for.\n",
        "\n",
        "    Returns:\n",
        "        dict: A dictionary with the index and text of the nearest segment.\n",
        "    \"\"\"\n",
        "    # Filter segments to find those where the 'end' is less than or equal to the time_point\n",
        "    valid_segments = [seg for seg in segments if seg[\"end\"] <= time_point]\n",
        "\n",
        "    if not valid_segments:\n",
        "        return {\"index\": None, \"text\": None}  # No valid segment found\n",
        "\n",
        "    # Find the segment with the maximum 'end' (closest to time_point)\n",
        "    nearest_segment = max(valid_segments, key=lambda seg: seg[\"end\"])\n",
        "    index = segments.index(nearest_segment)\n",
        "\n",
        "    return {\"index\": index, \"text\": nearest_segment[\"text\"]}\n"
      ],
      "metadata": {
        "id": "YneXeLFlBhan"
      },
      "execution_count": null,
      "outputs": []
    },
    {
      "cell_type": "code",
      "source": [
        "# Example Usage\n",
        "time_point = 2*60+ 11.0  # Specify the time point in seconds\n",
        "nearest_segment_info = find_nearest_segment(segments, time_point)\n",
        "\n",
        "print(f\"Index: {nearest_segment_info['index']}\")\n",
        "print(f\"Text: {nearest_segment_info['text']}\")\n"
      ],
      "metadata": {
        "colab": {
          "base_uri": "https://localhost:8080/"
        },
        "id": "e4Q6YiSJBxB7",
        "outputId": "a49fd92f-7a86-41e4-8bb3-bc2812d9b68b"
      },
      "execution_count": null,
      "outputs": [
        {
          "output_type": "stream",
          "name": "stdout",
          "text": [
            "Index: 33\n",
            "Text:  Beschlüsse gibt es heute nicht, bei keinem der separaten Gipfel.\n"
          ]
        }
      ]
    },
    {
      "cell_type": "code",
      "source": [
        "def find_and_concatenate_segments(segments, timestamps):\n",
        "    \"\"\"\n",
        "    For each timestamp in the list, find the nearest segment where 'end' is closest before the timestamp.\n",
        "    Concatenate text from the nearest segment to the last processed segment.\n",
        "\n",
        "    Args:\n",
        "        segments (list): List of transcription segments (each with 'start', 'end', 'text').\n",
        "        timestamps (list): List of timestamps in seconds.\n",
        "\n",
        "    Returns:\n",
        "        list: A list of concatenated texts corresponding to each timestamp.\n",
        "    \"\"\"\n",
        "    results = []\n",
        "    last_index = -1  # Start with no previous segment\n",
        "\n",
        "    for time_point in timestamps:\n",
        "        # Filter segments to find those where 'end' is less than or equal to the time_point\n",
        "        valid_segments = [seg for seg in segments if seg[\"end\"] <= time_point]\n",
        "\n",
        "        if not valid_segments:\n",
        "            results.append(\"\")  # No valid segment found\n",
        "            continue\n",
        "\n",
        "        # Find the segment with the maximum 'end' (closest to time_point)\n",
        "        nearest_segment = max(valid_segments, key=lambda seg: seg[\"end\"])\n",
        "        current_index = segments.index(nearest_segment)\n",
        "\n",
        "        # Concatenate text from the last segment to the current segment\n",
        "        if last_index != -1 and current_index > last_index:\n",
        "            concatenated_text = \" \".join(\n",
        "                seg[\"text\"] for seg in segments[last_index + 1 : current_index + 1]\n",
        "            )\n",
        "        else:\n",
        "            concatenated_text = nearest_segment[\"text\"]\n",
        "\n",
        "        # Store the concatenated text\n",
        "        results.append(concatenated_text)\n",
        "\n",
        "        # Update last_index\n",
        "        last_index = current_index\n",
        "\n",
        "    return results\n",
        "\n",
        "\n",
        "# Example usage\n",
        "timestamps = [20.0, 34.0, 46.0, 62.0, 66.0, 86.0, 96.0, 107.0, 117.0, 124.0]  # List of timestamps in seconds\n",
        "\n",
        "# Get concatenated texts for the timestamps\n",
        "results = find_and_concatenate_segments(segments, timestamps)\n",
        "\n",
        "# Print results\n",
        "for i, (timestamp, text) in enumerate(zip(timestamps, results)):\n",
        "    print(f\"Timestamp {timestamp:.2f}: {text}\")\n"
      ],
      "metadata": {
        "colab": {
          "base_uri": "https://localhost:8080/"
        },
        "id": "FmVyLCIRCGW_",
        "outputId": "d161a77a-bb90-45dd-8254-d156ee2363f0"
      },
      "execution_count": null,
      "outputs": [
        {
          "output_type": "stream",
          "name": "stdout",
          "text": [
            "Timestamp 20.00:  Guten Abend, meine Damen und Herren.\n",
            "Timestamp 34.00:  Ich begrüße Sie zur Tagesschau.  Die Ampelregierung hat heute auf zwei getrennten Terminen  in Berlin darüber beraten, wie die Wirtschaft unterstützt  und das Wachstum angekurbelt werden kann.\n",
            "Timestamp 46.00:  Finanzminister Lindner kam am Vormittag mit Mittelständlern zusammen.  Konkrete Ergebnisse gab es nicht.  Bundeskanzler Scholz lud Vertreter von Industrie, Verbänden und Gewerkschaften  zu vertraulichen Gesprächen ein.\n",
            "Timestamp 62.00:  Durchgang heute Nachmittag nur für Industrievertreter und Gewerkschafter  im Kanzleramt.  Geladen hat Olaf Scholz, und zwar er allein.  Es soll der Beginn eines Austauschs sein.  Ein Industriegipfel.  Wie kommt die Branche aus der Wirtschaftskrise?\n",
            "Timestamp 66.00:  Ein neuer Spirit wird gesucht.  Vertraulich.\n",
            "Timestamp 86.00:  Ohne Statements vor den Kameras.  Ganz anders der Finanzminister.  Im Kanzleramt war er nicht eingeladen.  Und so organisiert Lindner heute sein eigenes Treffen.  Man kann es wohl einen Gegengipfel nennen.  Statt Industrie steht der FDP-nahe Mittelstand im Fokus.\n",
            "Timestamp 96.00:  Die deutsche Wirtschaft ist eben nicht ausschließlich geprägt durch Industrieunternehmen,  sondern zu gut drei Viertel durch Mittelstand, Handwerk, durch Handel, durch Start-ups,\n",
            "Timestamp 107.00:  durch freie Berufe und Selbstständige.  Und deshalb muss auch ihre Perspektive in die politischen Erwägungen einbezogen werden.\n",
            "Timestamp 117.00:  In der Runde wiederholt die Wirtschaft bekannte Kritik.  Etwa zu viel Bürokratie, zu hohe Energiekosten und zu wenig Tempo bei den Regierenden.\n",
            "Timestamp 124.00:  Wir müssen jetzt nach dem politischen Schaulauf ins Handeln kommen.\n"
          ]
        }
      ]
    },
    {
      "cell_type": "code",
      "source": [
        "landmarks_output_path = '/content/TV-20241029-2025-3400.webxxl.h264_landmarks.json'\n"
      ],
      "metadata": {
        "id": "ORLtELNSEqSK"
      },
      "execution_count": null,
      "outputs": []
    },
    {
      "cell_type": "code",
      "source": [
        "with open(landmarks_output_path, 'r') as f:\n",
        "    data = json.load(f)\n"
      ],
      "metadata": {
        "id": "O2QeRWjUGWlU"
      },
      "execution_count": null,
      "outputs": []
    },
    {
      "cell_type": "code",
      "source": [
        "len(data)"
      ],
      "metadata": {
        "colab": {
          "base_uri": "https://localhost:8080/"
        },
        "id": "j-h6f4zyNqeN",
        "outputId": "edcfa5d2-cdb9-4992-c24c-c167e72b5c3f"
      },
      "execution_count": null,
      "outputs": [
        {
          "output_type": "execute_result",
          "data": {
            "text/plain": [
              "24616"
            ]
          },
          "metadata": {},
          "execution_count": 9
        }
      ]
    },
    {
      "cell_type": "code",
      "source": [
        "if data:\n",
        "    first_object = data[653*25+19][\"hands\"]\n",
        "    print(json.dumps(first_object, indent=4))\n",
        "else:\n",
        "    print(\"The JSON file is empty.\")\n"
      ],
      "metadata": {
        "colab": {
          "base_uri": "https://localhost:8080/"
        },
        "collapsed": true,
        "id": "6LJiRIKzGeh4",
        "outputId": "ea4a3549-1810-44c3-d589-d34e3fb34d37"
      },
      "execution_count": null,
      "outputs": [
        {
          "output_type": "stream",
          "name": "stdout",
          "text": [
            "[\n",
            "    {\n",
            "        \"label\": \"Left\",\n",
            "        \"landmarks\": [\n",
            "            {\n",
            "                \"x\": 0.38505232334136963,\n",
            "                \"y\": 0.6349576711654663,\n",
            "                \"z\": 3.0656892135993985e-08\n",
            "            },\n",
            "            {\n",
            "                \"x\": 0.42702433466911316,\n",
            "                \"y\": 0.612737774848938,\n",
            "                \"z\": -0.001861120224930346\n",
            "            },\n",
            "            {\n",
            "                \"x\": 0.4739275276660919,\n",
            "                \"y\": 0.6200323104858398,\n",
            "                \"z\": -0.0049125817604362965\n",
            "            },\n",
            "            {\n",
            "                \"x\": 0.5091911554336548,\n",
            "                \"y\": 0.6373518705368042,\n",
            "                \"z\": -0.0071869813837111\n",
            "            },\n",
            "            {\n",
            "                \"x\": 0.5387426018714905,\n",
            "                \"y\": 0.6418150067329407,\n",
            "                \"z\": -0.00835978239774704\n",
            "            },\n",
            "            {\n",
            "                \"x\": 0.4794338345527649,\n",
            "                \"y\": 0.639231264591217,\n",
            "                \"z\": -0.018082404509186745\n",
            "            },\n",
            "            {\n",
            "                \"x\": 0.5238362550735474,\n",
            "                \"y\": 0.6676700115203857,\n",
            "                \"z\": -0.023617897182703018\n",
            "            },\n",
            "            {\n",
            "                \"x\": 0.544201672077179,\n",
            "                \"y\": 0.6759083867073059,\n",
            "                \"z\": -0.0237467922270298\n",
            "            },\n",
            "            {\n",
            "                \"x\": 0.5543057322502136,\n",
            "                \"y\": 0.678848922252655,\n",
            "                \"z\": -0.021959006786346436\n",
            "            },\n",
            "            {\n",
            "                \"x\": 0.46370846033096313,\n",
            "                \"y\": 0.6628069877624512,\n",
            "                \"z\": -0.020434396341443062\n",
            "            },\n",
            "            {\n",
            "                \"x\": 0.5136932134628296,\n",
            "                \"y\": 0.6910051703453064,\n",
            "                \"z\": -0.023629317060112953\n",
            "            },\n",
            "            {\n",
            "                \"x\": 0.5277625322341919,\n",
            "                \"y\": 0.6886575818061829,\n",
            "                \"z\": -0.019255680963397026\n",
            "            },\n",
            "            {\n",
            "                \"x\": 0.5278372168540955,\n",
            "                \"y\": 0.6824771761894226,\n",
            "                \"z\": -0.015346886590123177\n",
            "            },\n",
            "            {\n",
            "                \"x\": 0.44810548424720764,\n",
            "                \"y\": 0.6819329857826233,\n",
            "                \"z\": -0.02174653857946396\n",
            "            },\n",
            "            {\n",
            "                \"x\": 0.4935343563556671,\n",
            "                \"y\": 0.70484858751297,\n",
            "                \"z\": -0.02237487956881523\n",
            "            },\n",
            "            {\n",
            "                \"x\": 0.49969547986984253,\n",
            "                \"y\": 0.6962369084358215,\n",
            "                \"z\": -0.013251007534563541\n",
            "            },\n",
            "            {\n",
            "                \"x\": 0.4945225715637207,\n",
            "                \"y\": 0.6869592070579529,\n",
            "                \"z\": -0.0065397173166275024\n",
            "            },\n",
            "            {\n",
            "                \"x\": 0.43337881565093994,\n",
            "                \"y\": 0.6965372562408447,\n",
            "                \"z\": -0.023431845009326935\n",
            "            },\n",
            "            {\n",
            "                \"x\": 0.47043532133102417,\n",
            "                \"y\": 0.7170685529708862,\n",
            "                \"z\": -0.021274225786328316\n",
            "            },\n",
            "            {\n",
            "                \"x\": 0.4748934209346771,\n",
            "                \"y\": 0.7090978026390076,\n",
            "                \"z\": -0.01261034607887268\n",
            "            },\n",
            "            {\n",
            "                \"x\": 0.4692135453224182,\n",
            "                \"y\": 0.6993083357810974,\n",
            "                \"z\": -0.005778100341558456\n",
            "            }\n",
            "        ]\n",
            "    },\n",
            "    {\n",
            "        \"label\": \"Right\",\n",
            "        \"landmarks\": [\n",
            "            {\n",
            "                \"x\": 0.8270761370658875,\n",
            "                \"y\": 0.6116133332252502,\n",
            "                \"z\": -3.786391573612491e-07\n",
            "            },\n",
            "            {\n",
            "                \"x\": 0.7785828709602356,\n",
            "                \"y\": 0.6139686703681946,\n",
            "                \"z\": -0.009565114043653011\n",
            "            },\n",
            "            {\n",
            "                \"x\": 0.7329221367835999,\n",
            "                \"y\": 0.6237668991088867,\n",
            "                \"z\": -0.020286276936531067\n",
            "            },\n",
            "            {\n",
            "                \"x\": 0.7026780843734741,\n",
            "                \"y\": 0.633701503276825,\n",
            "                \"z\": -0.029778648167848587\n",
            "            },\n",
            "            {\n",
            "                \"x\": 0.6847032308578491,\n",
            "                \"y\": 0.6364781260490417,\n",
            "                \"z\": -0.041581444442272186\n",
            "            },\n",
            "            {\n",
            "                \"x\": 0.7299994230270386,\n",
            "                \"y\": 0.601790189743042,\n",
            "                \"z\": -0.034825120121240616\n",
            "            },\n",
            "            {\n",
            "                \"x\": 0.7195304036140442,\n",
            "                \"y\": 0.6420903205871582,\n",
            "                \"z\": -0.054678481072187424\n",
            "            },\n",
            "            {\n",
            "                \"x\": 0.7243640422821045,\n",
            "                \"y\": 0.6695470213890076,\n",
            "                \"z\": -0.06951591372489929\n",
            "            },\n",
            "            {\n",
            "                \"x\": 0.7294119596481323,\n",
            "                \"y\": 0.6875268220901489,\n",
            "                \"z\": -0.0788048654794693\n",
            "            },\n",
            "            {\n",
            "                \"x\": 0.7575855255126953,\n",
            "                \"y\": 0.6077418327331543,\n",
            "                \"z\": -0.03818569332361221\n",
            "            },\n",
            "            {\n",
            "                \"x\": 0.7466704249382019,\n",
            "                \"y\": 0.6526035666465759,\n",
            "                \"z\": -0.05204273387789726\n",
            "            },\n",
            "            {\n",
            "                \"x\": 0.7444256544113159,\n",
            "                \"y\": 0.6815529465675354,\n",
            "                \"z\": -0.060866136103868484\n",
            "            },\n",
            "            {\n",
            "                \"x\": 0.7474133372306824,\n",
            "                \"y\": 0.7016996741294861,\n",
            "                \"z\": -0.07001463323831558\n",
            "            },\n",
            "            {\n",
            "                \"x\": 0.7851030230522156,\n",
            "                \"y\": 0.6180229187011719,\n",
            "                \"z\": -0.041126448661088943\n",
            "            },\n",
            "            {\n",
            "                \"x\": 0.7744913101196289,\n",
            "                \"y\": 0.6617632508277893,\n",
            "                \"z\": -0.05436592921614647\n",
            "            },\n",
            "            {\n",
            "                \"x\": 0.764718770980835,\n",
            "                \"y\": 0.6890273094177246,\n",
            "                \"z\": -0.05839785933494568\n",
            "            },\n",
            "            {\n",
            "                \"x\": 0.7606369853019714,\n",
            "                \"y\": 0.7079046964645386,\n",
            "                \"z\": -0.06288281083106995\n",
            "            },\n",
            "            {\n",
            "                \"x\": 0.8098900318145752,\n",
            "                \"y\": 0.6310853362083435,\n",
            "                \"z\": -0.04421931505203247\n",
            "            },\n",
            "            {\n",
            "                \"x\": 0.8002447485923767,\n",
            "                \"y\": 0.6694158315658569,\n",
            "                \"z\": -0.05685238167643547\n",
            "            },\n",
            "            {\n",
            "                \"x\": 0.7916251420974731,\n",
            "                \"y\": 0.6900947690010071,\n",
            "                \"z\": -0.05865653231739998\n",
            "            },\n",
            "            {\n",
            "                \"x\": 0.7861400246620178,\n",
            "                \"y\": 0.7043205499649048,\n",
            "                \"z\": -0.059823326766490936\n",
            "            }\n",
            "        ]\n",
            "    }\n",
            "]\n"
          ]
        }
      ]
    },
    {
      "cell_type": "code",
      "source": [
        "len(first_object[0][\"landmarks\"])"
      ],
      "metadata": {
        "colab": {
          "base_uri": "https://localhost:8080/"
        },
        "id": "tthIwof5G2Sc",
        "outputId": "4032e2c5-8236-4297-b4ab-e71adf9b0ba9"
      },
      "execution_count": null,
      "outputs": [
        {
          "output_type": "execute_result",
          "data": {
            "text/plain": [
              "21"
            ]
          },
          "metadata": {},
          "execution_count": 11
        }
      ]
    },
    {
      "cell_type": "code",
      "source": [
        "import json\n",
        "import math\n",
        "import matplotlib.pyplot as plt\n",
        "\n",
        "# Read the JSON file\n",
        "with open(landmarks_output_path, 'r') as f:\n",
        "    data = json.load(f)\n",
        "\n",
        "# List to store the average Euclidean distances per frame transition\n",
        "avg_euclidean_distances = []\n",
        "\n",
        "# Iterate over frame pairs\n",
        "for i in range(len(data) - 1):\n",
        "    frame_data_current = data[i]\n",
        "    frame_data_next = data[i + 1]\n",
        "\n",
        "    # Dictionaries to store per-hand distances\n",
        "    per_hand_distances = {}\n",
        "\n",
        "    # Get hands in current and next frames\n",
        "    hands_current = {hand['label']: hand for hand in frame_data_current['hands']}\n",
        "    hands_next = {hand['label']: hand for hand in frame_data_next['hands']}\n",
        "\n",
        "    # Find common hands between frames\n",
        "    hands_common = set(hands_current.keys()) & set(hands_next.keys())\n",
        "\n",
        "    if hands_common:\n",
        "        for hand_label in hands_common:\n",
        "            landmarks_current = hands_current[hand_label]['landmarks']\n",
        "            landmarks_next = hands_next[hand_label]['landmarks']\n",
        "\n",
        "            # Ensure both hands have 21 landmarks\n",
        "            if len(landmarks_current) == 21 and len(landmarks_next) == 21:\n",
        "                distances = []\n",
        "                for lm_c, lm_n in zip(landmarks_current, landmarks_next):\n",
        "                    x_c, y_c = lm_c['x'], lm_c['y']\n",
        "                    x_n, y_n = lm_n['x'], lm_n['y']\n",
        "\n",
        "                    # Compute Euclidean distance\n",
        "                    dist = math.sqrt((x_n - x_c)**2 + (y_n - y_c)**2)\n",
        "                    distances.append(dist)\n",
        "\n",
        "                # Average distance for this hand\n",
        "                avg_dist = sum(distances) / len(distances)\n",
        "                per_hand_distances[hand_label] = avg_dist\n",
        "\n",
        "    # Average across hands\n",
        "    if per_hand_distances:\n",
        "        avg_dist_across_hands = sum(per_hand_distances.values()) / len(per_hand_distances)\n",
        "        avg_euclidean_distances.append(avg_dist_across_hands)\n",
        "    else:\n",
        "        # If no hands are detected in both frames, append NaN\n",
        "        avg_euclidean_distances.append(float('nan'))\n",
        "\n",
        "# Create a list of frame indices corresponding to the frame transitions\n",
        "frame_indices = list(range(1, len(data)))\n",
        "\n",
        "# Plot the average Euclidean distances over time\n",
        "plt.figure(figsize=(12, 6))\n",
        "plt.plot(frame_indices, avg_euclidean_distances, label='Average Euclidean Distance')\n",
        "plt.xlabel('Frame Number')\n",
        "plt.ylabel('Euclidean Distance')\n",
        "plt.title('Average Euclidean Distance Between Frames')\n",
        "plt.legend()\n",
        "plt.grid(True)\n",
        "plt.show()\n"
      ],
      "metadata": {
        "colab": {
          "base_uri": "https://localhost:8080/",
          "height": 485
        },
        "id": "di-s34WRIvCD",
        "outputId": "822223df-992b-4739-94a9-8665ff41d292"
      },
      "execution_count": null,
      "outputs": [
        {
          "output_type": "display_data",
          "data": {
            "text/plain": [
              "<Figure size 1200x600 with 1 Axes>"
            ],
            "image/png": "[encoded data removed]"
          },
          "metadata": {}
        }
      ]
    },
    {
      "cell_type": "code",
      "source": [
        "type(avg_euclidean_distances[0])"
      ],
      "metadata": {
        "colab": {
          "base_uri": "https://localhost:8080/"
        },
        "id": "LZ1jzBfDGy9j",
        "outputId": "04b7420a-b01a-4b77-f1a4-382b429547d1"
      },
      "execution_count": null,
      "outputs": [
        {
          "output_type": "execute_result",
          "data": {
            "text/plain": [
              "float"
            ]
          },
          "metadata": {},
          "execution_count": 13
        }
      ]
    },
    {
      "cell_type": "code",
      "source": [
        "avg_euclidean_distances = [0 if math.isnan(x) else x for x in avg_euclidean_distances]"
      ],
      "metadata": {
        "id": "RZoTr_PfGAf2"
      },
      "execution_count": null,
      "outputs": []
    },
    {
      "cell_type": "code",
      "source": [
        "avg_euclidean_distances[653*25+19:]"
      ],
      "metadata": {
        "colab": {
          "base_uri": "https://localhost:8080/"
        },
        "id": "QXIxeZoNGObw",
        "outputId": "32bf121f-ab09-4a27-9ebc-dceec727d2c7"
      },
      "execution_count": null,
      "outputs": [
        {
          "output_type": "execute_result",
          "data": {
            "text/plain": [
              "[0.30450673785824517,\n",
              " 0.33450940485250724,\n",
              " 0.014473481419276969,\n",
              " 0.01632985071164548,\n",
              " 0.019517300845578324,\n",
              " 0.020510686071988207,\n",
              " 0.010863253657958805,\n",
              " 0.01050451243335467,\n",
              " 0.013017394261104643,\n",
              " 0.00877290024447893,\n",
              " 0.0074065617483500155,\n",
              " 0.011432657704535491,\n",
              " 0.016906293944216916,\n",
              " 0.02602069681215812,\n",
              " 0.029269561724346582,\n",
              " 0.01906310243090267,\n",
              " 0.02030677451684407,\n",
              " 0.015622158237952176,\n",
              " 0.0212555270757955,\n",
              " 0.027041006436761165,\n",
              " 0.0206472695216893,\n",
              " 0.027397128981643724,\n",
              " 0.02234137081501831,\n",
              " 0,\n",
              " 0.054780124359032414,\n",
              " 0.029355829847347886,\n",
              " 0.013422487396116633,\n",
              " 0.03871612589581042,\n",
              " 0.03263168304311117,\n",
              " 0.02821791599086499,\n",
              " 0.032198308258958495,\n",
              " 0.10133727557733369,\n",
              " 0.0309885237757685,\n",
              " 0.10532192933610617,\n",
              " 0.014935179018067957,\n",
              " 0.013547866808927625,\n",
              " 0.013099173281736522,\n",
              " 0.009965174930801596,\n",
              " 0.005937142437441135,\n",
              " 0.005598561853001935,\n",
              " 0.004923405091776582,\n",
              " 0.09716635175280668,\n",
              " 0.013221037346290281,\n",
              " 0.1495657857535197,\n",
              " 0.03670977675557433,\n",
              " 0.03448351948806487,\n",
              " 0.02222941021425562,\n",
              " 0.03079357166939511,\n",
              " 0.03526100959068139,\n",
              " 0.01803212768076385,\n",
              " 0.02226493907582363,\n",
              " 0.029360465397435045,\n",
              " 0.026465867119209077,\n",
              " 0.025163524517254284,\n",
              " 0.026916067634717603,\n",
              " 0.030646044538720423,\n",
              " 0.04116662026546718,\n",
              " 0.03600890887873445,\n",
              " 0.019788777942507652,\n",
              " 0.007761574533300281,\n",
              " 0.012956278719262769,\n",
              " 0.02839201701677182,\n",
              " 0.03876906727630047,\n",
              " 0.031567944540144326,\n",
              " 0.02668630292714771,\n",
              " 0.022042640819109234,\n",
              " 0.01147698645361496,\n",
              " 0.01648929220757808,\n",
              " 0.015184230484755938,\n",
              " 0.012804525474381425,\n",
              " 0.025973138572310095,\n",
              " 0.014661469413517961,\n",
              " 0.008567429666858726,\n",
              " 0.012605403364476436,\n",
              " 0.008839750937864667,\n",
              " 0.005604313563986712,\n",
              " 0.007587312786177965,\n",
              " 0.008476612778230174,\n",
              " 0.00902821152989369,\n",
              " 0.012443129959762149,\n",
              " 0.014571851352430748,\n",
              " 0.015156284149846835,\n",
              " 0.01788115522715625,\n",
              " 0.019904306912362488,\n",
              " 0.022068462115577864,\n",
              " 0.021623748814424353,\n",
              " 0.02860244118620859,\n",
              " 0.029999143154166706,\n",
              " 0.026857917461293443,\n",
              " 0.02192307854180725,\n",
              " 0.014969601953040479,\n",
              " 0.012983110332343634,\n",
              " 0.028257144991579226,\n",
              " 0.021807007399817384,\n",
              " 0.02358148153596274,\n",
              " 0.02494157005320998,\n",
              " 0.03052022449787439,\n",
              " 0.023177168878655934,\n",
              " 0.010886345241052215,\n",
              " 0.01735845765070925,\n",
              " 0.025196838870291154,\n",
              " 0.03002370765910501,\n",
              " 0.40079424560684107,\n",
              " 0,\n",
              " 0.09406733805399876,\n",
              " 0.03421605384425029,\n",
              " 0.023618008169716067,\n",
              " 0.03180812243911139,\n",
              " 0,\n",
              " 0.03954350967410726,\n",
              " 0.031451998800660186,\n",
              " 0.013647208385782407,\n",
              " 0.032904590419313845,\n",
              " 0.034646835596201575,\n",
              " 0.017255034030925414,\n",
              " 0.014894011700511689,\n",
              " 0.03005164866180282,\n",
              " 0.02935308971877916,\n",
              " 0.010733419644292076,\n",
              " 0.012343539221847324,\n",
              " 0.02119975160893213,\n",
              " 0.020885909689876313,\n",
              " 0.02514105911367579,\n",
              " 0.02084812780181248,\n",
              " 0.018269239475360785,\n",
              " 0.021306997454546575,\n",
              " 0.030090905686747473,\n",
              " 0.03793554885103101,\n",
              " 0.04780137819080494,\n",
              " 0.047537593080716686,\n",
              " 0.017810384600519945,\n",
              " 0.01015513658734846,\n",
              " 0.009954161212159179,\n",
              " 0.004359357119930083,\n",
              " 0.005284063948890272,\n",
              " 0.003711503619217215,\n",
              " 0.0024201013921352076,\n",
              " 0.004680823864085717,\n",
              " 0.01337287427484865,\n",
              " 0.07332371285944639,\n",
              " 0.06491317548232776,\n",
              " 0.006772725729475833,\n",
              " 0.016472850669326845,\n",
              " 0.01446104368357242,\n",
              " 0.014917436579185114,\n",
              " 0.013436579527821369,\n",
              " 0.015583520255921898,\n",
              " 0.021504829284609266,\n",
              " 0.02138552028304328,\n",
              " 0.028580961746935623,\n",
              " 0.02305174341259758,\n",
              " 0.025362383556755914,\n",
              " 0.019263094104319835,\n",
              " 0.020189485089241666,\n",
              " 0.0230997645843554,\n",
              " 0.024744353530919482,\n",
              " 0.024959667604978194,\n",
              " 0.01917236397274668,\n",
              " 0.012979786315903767,\n",
              " 0.009095991341846656,\n",
              " 0.006201870943332731,\n",
              " 0.004753424382870719,\n",
              " 0.004462824998327245,\n",
              " 0.003004528778803674,\n",
              " 0.0034532196181753802,\n",
              " 0.004032809608178257,\n",
              " 0.006802624541380894,\n",
              " 0.008481279205475385,\n",
              " 0.009642728840108646,\n",
              " 0.007175635562014654,\n",
              " 0.00540087459400844,\n",
              " 0.006128762934312972,\n",
              " 0.014666579892069216,\n",
              " 0.02639208108707086,\n",
              " 0.02175850651778879,\n",
              " 0.01315900827230469,\n",
              " 0.007090644576007869,\n",
              " 0.00906710329283218,\n",
              " 0.011774529059955238,\n",
              " 0.012081607964977748,\n",
              " 0.00983113660914536,\n",
              " 0.003100887045103402,\n",
              " 0.015691442403080673,\n",
              " 0.019571183559454725,\n",
              " 0.011875725105585249,\n",
              " 0.011065948463223214,\n",
              " 0.024830163165669956,\n",
              " 0.014589436108195998,\n",
              " 0.008413951555542127,\n",
              " 0.015287927833028712,\n",
              " 0.0103071781051278,\n",
              " 0.0062595889985705595,\n",
              " 0.013866270972727145,\n",
              " 0.012508035845678592,\n",
              " 0.006380531216122918,\n",
              " 0.011911450320369983,\n",
              " 0.022710718626281223,\n",
              " 0.03248859411717749,\n",
              " 0.04307903841070798,\n",
              " 0.04713659508169124,\n",
              " 0.02731564303274342,\n",
              " 0.03222280314545972,\n",
              " 0.026623912630683547,\n",
              " 0.015424742986234731,\n",
              " 0.010465880591847023,\n",
              " 0.028941236368495053,\n",
              " 0.021441785137973512,\n",
              " 0.009745047378097773,\n",
              " 0.017480259507059035,\n",
              " 0.018481116736945215,\n",
              " 0.01218852586041712,\n",
              " 0.008335093405420333,\n",
              " 0.00557557291846415,\n",
              " 0.004326922639086021,\n",
              " 0.0036453734495909655,\n",
              " 0.00364493812298494,\n",
              " 0.0035173267736587,\n",
              " 0.00340894219335433,\n",
              " 0.002959126983464461,\n",
              " 0.010037673102262088,\n",
              " 0.026065597124896388,\n",
              " 0.02042783653573331,\n",
              " 0.015280225190012077,\n",
              " 0.014347607547897876,\n",
              " 0.031566884018440586,\n",
              " 0.01602661636127553,\n",
              " 0.008705616529910247,\n",
              " 0.011332850616412093,\n",
              " 0.004450021647776671,\n",
              " 0.01196763099360116,\n",
              " 0.008775116897483351,\n",
              " 0.013279112405647962,\n",
              " 0.01744717979430479,\n",
              " 0.02394008324085877,\n",
              " 0.01658360503133692,\n",
              " 0.015547251814387833,\n",
              " 0.02565982569431398,\n",
              " 0.1749159330697743,\n",
              " 0.18758436950929333,\n",
              " 0.04534791557730178,\n",
              " 0.03074319236364354,\n",
              " 0.01860587791686679,\n",
              " 0.017018897045929758,\n",
              " 0.02146686153189085,\n",
              " 0.022434488764434178,\n",
              " 0.02303970953517832,\n",
              " 0.022893984415728416,\n",
              " 0.015408361069548324,\n",
              " 0.02269254352823903,\n",
              " 0.023446038103472674,\n",
              " 0.036671899301049714,\n",
              " 0.03273995819299973,\n",
              " 0.012743536464422852,\n",
              " 0.014096659409659044,\n",
              " 0.012857678420417969,\n",
              " 0.011825960345206228,\n",
              " 0.014071375496302965,\n",
              " 0.01524385118410225,\n",
              " 0.007494764326777111,\n",
              " 0.009722114233652697,\n",
              " 0.026611421610605757,\n",
              " 0.024316864759386343,\n",
              " 0.004152998628496773,\n",
              " 0.015524469250988842,\n",
              " 0.012902818969428239,\n",
              " 0.006643748718634937,\n",
              " 0.005697803814501931,\n",
              " 0.015181763790900511,\n",
              " 0.016236407892796793,\n",
              " 0.009998518555449993,\n",
              " 0.017670630196133734,\n",
              " 0.02071588869155895,\n",
              " 0.024456454687314652,\n",
              " 0.017663979157917363,\n",
              " 0.014161033246045496,\n",
              " 0.016424310706331897,\n",
              " 0.01484043618012302,\n",
              " 0.016523997897391323,\n",
              " 0.02427730947742856,\n",
              " 0.023687988209288666,\n",
              " 0.02225299284047803,\n",
              " 0.029981274861376393,\n",
              " 0.029408320984018896,\n",
              " 0.010651468575098534,\n",
              " 0.028380126275368556,\n",
              " 0.037959533417636054,\n",
              " 0.02110671302035498,\n",
              " 0.027140995034297212,\n",
              " 0.035380868489982197,\n",
              " 0.02614925758446081,\n",
              " 0.017272861984507813,\n",
              " 0.012190836907892758,\n",
              " 0.007166895798965032,\n",
              " 0.0055334780366942116,\n",
              " 0.02018961172425765,\n",
              " 0.007118187958637246,\n",
              " 0.010928881837439099,\n",
              " 0.017178628348708248,\n",
              " 0.017918795997793613,\n",
              " 0.01656704948230064,\n",
              " 0.01725217498194619,\n",
              " 0.016288918925526193,\n",
              " 0.024983559094453975,\n",
              " 0.026528035385062782,\n",
              " 0.027809133142735545,\n",
              " 0.032562797202876526,\n",
              " 0.04080050798118774,\n",
              " 0.04074011460610434,\n",
              " 0.03841512979723195,\n",
              " 0.03193838260503872,\n",
              " 0.0185127151571999,\n",
              " 0.010901560474394506,\n",
              " 0.009080036956352597,\n",
              " 0.008926084056592596,\n",
              " 0.006168198019291533,\n",
              " 0.0045378371684525656,\n",
              " 0.0061401820901152895,\n",
              " 0.005156862103061053,\n",
              " 0.005184211660905673,\n",
              " 0.005113938989177245,\n",
              " 0.009127594265344551,\n",
              " 0.01994203468894607,\n",
              " 0.03605584483289526,\n",
              " 0.022224259731402164,\n",
              " 0.01753512758194203,\n",
              " 0.02977633139768952,\n",
              " 0.032314705789980976,\n",
              " 0.04513398474056501,\n",
              " 0.03057673045431289,\n",
              " 0.017509033155976742,\n",
              " 0.02877950940040333,\n",
              " 0.03440170654530811,\n",
              " 0.018608325452114022,\n",
              " 0.013246324571828463,\n",
              " 0.026906844041766458,\n",
              " 0.025669721505202966,\n",
              " 0.028099269039618565,\n",
              " 0.020114722793668945,\n",
              " 0.014151835208025623,\n",
              " 0.026958820791523966,\n",
              " 0.028139409099847325,\n",
              " 0.02435425094464453,\n",
              " 0.017944233745689406,\n",
              " 0.013282596344440655,\n",
              " 0.009794688168789386,\n",
              " 0.009018764213259428,\n",
              " 0.01420734061349341,\n",
              " 0.024049016454461735,\n",
              " 0.030723892003104825,\n",
              " 0.03664807511808654,\n",
              " 0.03576010041971629,\n",
              " 0.03781326236196309,\n",
              " 0.035626775471454555,\n",
              " 0.029658624333884213,\n",
              " 0.02344320401233959,\n",
              " 0.015403799787439885,\n",
              " 0.016870814694175725,\n",
              " 0.018721694207335084,\n",
              " 0.019118620120761282,\n",
              " 0.020510529172075853,\n",
              " 0.022987653572972017,\n",
              " 0.022901480194454017,\n",
              " 0.04541864271082854,\n",
              " 0.024937334503691257,\n",
              " 0.01907439764976724,\n",
              " 0.023817718134086,\n",
              " 0.029219110897031116,\n",
              " 0.028538762607298016,\n",
              " 0.021803461996431843,\n",
              " 0.01963479085279682,\n",
              " 0.01866702848331392,\n",
              " 0.01101384125000509,\n",
              " 0.01633558592062808,\n",
              " 0.021576669166161223,\n",
              " 0.019932574246539332,\n",
              " 0.018923818588495813,\n",
              " 0.015286743274358638,\n",
              " 0.02421278923741896,\n",
              " 0.03835842240806632,\n",
              " 0.021340753885878614,\n",
              " 0.022728138416796294,\n",
              " 0.018089063006193666,\n",
              " 0.021309730450666663,\n",
              " 0.027253318290352768,\n",
              " 0.04687272801983401,\n",
              " 0.037127179656433834,\n",
              " 0.03703281603043518,\n",
              " 0.027937956708310126,\n",
              " 0.008290096746303875,\n",
              " 0.025550241748187236,\n",
              " 0.053236895427035635,\n",
              " 0.04263780589961773,\n",
              " 0.038414502017991486,\n",
              " 0.023999306961849806,\n",
              " 0.03816134960059182,\n",
              " 0.03272122663833216,\n",
              " 0.03332749375144799,\n",
              " 0.023476798738584614,\n",
              " 0.02246912613503515,\n",
              " 0.017639772314784672,\n",
              " 0.026450933035764002,\n",
              " 0.016383187004358594,\n",
              " 0.010217432999622857,\n",
              " 0.006811976001028551,\n",
              " 0.004331763481693795,\n",
              " 0.001570970889526599,\n",
              " 0.002474964039809033,\n",
              " 0.003091703425192825,\n",
              " 0.003200458698153229,\n",
              " 0.003708000982481993,\n",
              " 0.004578154152764487,\n",
              " 0.006022018619700559,\n",
              " 0.012958208358914192,\n",
              " 0.013533428177760095,\n",
              " 0.03529509117726549,\n",
              " 0.043837116090450635,\n",
              " 0.04344832221889636,\n",
              " 0.02942859954532799,\n",
              " 0.040595431574120294,\n",
              " 0.024491476389978135,\n",
              " 0.019845110655565518,\n",
              " 0.018495513622616613,\n",
              " 0.019509007315628695,\n",
              " 0.007998737496231343,\n",
              " 0.005580515818917285,\n",
              " 0.008470029952488134,\n",
              " 0.008957635175685723,\n",
              " 0.005365214391375464,\n",
              " 0.003890921310110559,\n",
              " 0.006931500157288405,\n",
              " 0.003973041837734036,\n",
              " 0.007415238083671017,\n",
              " 0.010999316701553914,\n",
              " 0.017762780733033178,\n",
              " 0.01333310192792666,\n",
              " 0.013555283725069115,\n",
              " 0.014837786669646424,\n",
              " 0.011802574083201806,\n",
              " 0.006593559448470299,\n",
              " 0.009207228298497754,\n",
              " 0.01464365572350394,\n",
              " 0.016644781432709487,\n",
              " 0.016336740179245315,\n",
              " 0.0237782964476249,\n",
              " 0.026946588404676147,\n",
              " 0.042172101740723444,\n",
              " 0.02749959979458675,\n",
              " 0.023975607186010287,\n",
              " 0.015539355848081924,\n",
              " 0.021472514639625424,\n",
              " 0.016691767973238618,\n",
              " 0.015271839339232046,\n",
              " 0.01178704929897062,\n",
              " 0.018627159737170107,\n",
              " 0.0014303157940730876,\n",
              " 0.0040056439648931946,\n",
              " 0.004841627250610343,\n",
              " 0.008414120717089434,\n",
              " 0.01964122761786704,\n",
              " 0.016955343714160048,\n",
              " 0.011966524633188303,\n",
              " 0.008006616844714473,\n",
              " 0.004378994435189666,\n",
              " 0.006805265443821063,\n",
              " 0.012352434197608144,\n",
              " 0.01696056738842234,\n",
              " 0.02240324485683362,\n",
              " 0.023317657241947808,\n",
              " 0.018444850949082128,\n",
              " 0.035401139045035765,\n",
              " 0.03063058979700779,\n",
              " 0.016509996844073352,\n",
              " 0.018371038989867985,\n",
              " 0.025825218445161044,\n",
              " 0.013125162910762947,\n",
              " 0.01073776711604774,\n",
              " 0.008844446307313366,\n",
              " 0.0035809989555966957,\n",
              " 0.0030996917553117176,\n",
              " 0.0028621726958610733,\n",
              " 0.008987361674015837,\n",
              " 0.021363277067954933,\n",
              " 0.019217733044865286,\n",
              " 0.02560978583145959,\n",
              " 0.031457126741938186,\n",
              " 0.027207986251374477,\n",
              " 0.026695267966731606,\n",
              " 0.017951358120888508,\n",
              " 0.014970700662718156,\n",
              " 0.008791568716346964,\n",
              " 0.01749352824721237,\n",
              " 0.004191668735649266,\n",
              " 0.00549060556390717,\n",
              " 0.01383134980414486,\n",
              " 0.011580202747126372,\n",
              " 0.00789425463083101,\n",
              " 0.005473057302723239,\n",
              " 0.0034402736728486177,\n",
              " 0.003365977929902688,\n",
              " 0.006168295603671273,\n",
              " 0.012190134540048164,\n",
              " 0.023163554249296964,\n",
              " 0.028327351910281864,\n",
              " 0.0281803711398378,\n",
              " 0.031217921907150142,\n",
              " 0.028051495480770745,\n",
              " 0.015029141188638987,\n",
              " 0.026926069112174062,\n",
              " 0.03980093800504474,\n",
              " 0.03439832596641351,\n",
              " 0.01960791267305142,\n",
              " 0.025906972473298307,\n",
              " 0.029050220097738423,\n",
              " 0.024661027667536348,\n",
              " 0.02858700042115794,\n",
              " 0.01449129707209004,\n",
              " 0.04295761650226907,\n",
              " 0.05446338660225586,\n",
              " 0,\n",
              " 0.009013856845866383,\n",
              " 0.035245256849011676,\n",
              " 0.043298717159234015,\n",
              " 0.03452213722586044,\n",
              " 0.00835553895012557,\n",
              " 0.01337455431054784,\n",
              " 0.012540331693602663,\n",
              " 0.01121465944445946,\n",
              " 0.013327294975325806,\n",
              " 0.01602806707784176,\n",
              " 0.014846593162897777,\n",
              " 0.00960053605889666,\n",
              " 0.012595319475156568,\n",
              " 0.02899265257617295,\n",
              " 0.034556488677186276,\n",
              " 0.02199876247170289,\n",
              " 0.01749715742652945,\n",
              " 0.05204122614351597,\n",
              " 0.032083558623123655,\n",
              " 0.00825531292760932,\n",
              " 0.013632471742573454,\n",
              " 0.01065146484943973,\n",
              " 0.01654332526939306,\n",
              " 0.014049822663389236,\n",
              " 0.01567901307435038,\n",
              " 0.026779819467257306,\n",
              " 0.016168449748749716,\n",
              " 0.011125938774007188,\n",
              " 0.013087085377798376,\n",
              " 0.008748849255698007,\n",
              " 0.0060350922962576145,\n",
              " 0.004166243035158142,\n",
              " 0.0023781498649088116,\n",
              " 0.0071198900646775864,\n",
              " 0.005780294209457632,\n",
              " 0.004559738427455327,\n",
              " 0.008087726628211455,\n",
              " 0.006149644276125386,\n",
              " 0.0018288593623240663,\n",
              " 0.006660862662799442,\n",
              " 0.003104988218870173,\n",
              " 0.004663536313994333,\n",
              " 0.0030125771381067697,\n",
              " 0.0034872748133449845,\n",
              " 0.004259809324102601,\n",
              " 0.00271324702678382,\n",
              " 0.003878104108610854,\n",
              " 0.002059021530503633,\n",
              " 0.002185378604153762,\n",
              " 0.003716008313544769,\n",
              " 0.0026671453060635114,\n",
              " 0.0015010722026675678,\n",
              " 0.003182770639239628,\n",
              " 0.0020522596042090867,\n",
              " 0.0036230950215229976,\n",
              " 0.005898525238873454,\n",
              " 0.004879876630919117,\n",
              " 0.005947407713395579,\n",
              " 0.0033138504961359077,\n",
              " 0.006552547852846207,\n",
              " 0.006221128266572439,\n",
              " 0.00376395289976759,\n",
              " 0.006953691366910793,\n",
              " 0.008449485436280903,\n",
              " 0.015134004549126888,\n",
              " 0.01893778353077358,\n",
              " 0.02625805411813415,\n",
              " 0.031477148136491086,\n",
              " 0.044438910783517055,\n",
              " 0.04796721128606464,\n",
              " 0.042382501746382216,\n",
              " 0.04176196973410454,\n",
              " 0,\n",
              " 0,\n",
              " 0.009246739153848776,\n",
              " 0.007584555230482598,\n",
              " 0.005540761339391811,\n",
              " 0.0039368961320755584,\n",
              " 0.004122323113042697,\n",
              " 0.010420877157229665,\n",
              " 0.03661530867713675,\n",
              " 0.05426228306066924,\n",
              " 0.07178041432278202,\n",
              " 0.05188380760593678,\n",
              " 0.044160713694232884,\n",
              " 0.012283642126755695,\n",
              " 0.007328078340939705,\n",
              " 0.014601851759243637,\n",
              " 0.014123234547588837,\n",
              " 0.013200300159739463,\n",
              " 0.02152201836176761,\n",
              " 0.029516141508665557,\n",
              " 0.019178635546945908,\n",
              " 0.021927837607556545,\n",
              " 0.011472218230969642,\n",
              " 0.007981838429421687,\n",
              " 0.028714121554656108,\n",
              " 0.024541517807790063,\n",
              " 0.010521972720795216,\n",
              " 0.018948762867061566,\n",
              " 0.03141585103024777,\n",
              " 0.002383695142605759,\n",
              " 0.0031764678926413043,\n",
              " 0.022755291586965723,\n",
              " 0.012814620291751315,\n",
              " 0.007465490709149369,\n",
              " 0.011427408950813355,\n",
              " 0.01719616410983072,\n",
              " 0.03857520506159545,\n",
              " 0.05908109761429561,\n",
              " 0.3710080231222088,\n",
              " 0.38890474375714035,\n",
              " 0.04427762290744201,\n",
              " 0.05679863801234633,\n",
              " 0.03727315168927299,\n",
              " 0.03409830471936644,\n",
              " 0.026722943998096757,\n",
              " 0.025934421377269125,\n",
              " 0.0144933628774134,\n",
              " 0.02317741624790251,\n",
              " 0.026835692997121963,\n",
              " 0.034838054459835135,\n",
              " 0.029750047423114254,\n",
              " 0.030793748577723837,\n",
              " 0.03138464187108687,\n",
              " 0.03253730398504062,\n",
              " 0.03333438389134488,\n",
              " 0.03590393791790167,\n",
              " 0.023817946778080138,\n",
              " 0.017111110217199788,\n",
              " 0.01577353403475522,\n",
              " 0.025447896186818617,\n",
              " 0.03734181112176517,\n",
              " 0.037733719526877,\n",
              " 0.035943241633354654,\n",
              " 0.03000488137603273,\n",
              " 0.020432770737850693,\n",
              " 0.008513288504216603,\n",
              " 0.0038822444608179528,\n",
              " 0.009986310706604606,\n",
              " 0.015431790343708698,\n",
              " 0.019793700229222333,\n",
              " 0.016270777931386864,\n",
              " 0.011939186784128496,\n",
              " 0.010184832626166922,\n",
              " 0.006185561448506523,\n",
              " 0.004043743662912326,\n",
              " 0.003369160629271149,\n",
              " 0.0023348851351037902,\n",
              " 0.005038082085939545,\n",
              " 0.019120032020172248,\n",
              " 0.5584156240072343,\n",
              " 0.48517419547322715,\n",
              " 0.06938698339317295,\n",
              " 0.05831615751097005,\n",
              " 0.05204241618598213,\n",
              " 0.03085125639848494,\n",
              " 0.005820045171231361,\n",
              " 0.009150898108517349,\n",
              " 0.00665413978392356,\n",
              " 0.006084695198720031,\n",
              " 0.00501925913535202,\n",
              " 0.004387986170798945,\n",
              " 0.0046740273449747335,\n",
              " 0.0034172560252198336,\n",
              " 0.0022853552971420195,\n",
              " 0.004220298319595767,\n",
              " 0.005022049193507457,\n",
              " 0.00840372393110211,\n",
              " 0.026903903746184444,\n",
              " 0.0296489841925579,\n",
              " 0.0311806331278131,\n",
              " 0.018631400833413657,\n",
              " 0.025103989166763648,\n",
              " 0.024058779428343557,\n",
              " 0.02749463915369335,\n",
              " 0.031913563307313944,\n",
              " 0.030747875957477147,\n",
              " 0.024803501348148935,\n",
              " 0.027791040467774142,\n",
              " 0.02551536188857653,\n",
              " 0.018395275997427803,\n",
              " 0.022414924615224933,\n",
              " 0.032018009148566395,\n",
              " 0.03377659253302333,\n",
              " 0.03464835325068971,\n",
              " 0.022713779990373374,\n",
              " 0.020008502967598468,\n",
              " 0.012250294120198853,\n",
              " 0.0037655400026142226,\n",
              " 0.007725964067850225,\n",
              " 0.013647671915848404,\n",
              " 0.011292939893264058,\n",
              " 0.007147387662373393,\n",
              " 0.007774267152068387,\n",
              " 0.011075662855221562,\n",
              " 0.012742705562386863,\n",
              " 0.01730402231089833,\n",
              " 0.008391595967051866,\n",
              " 0.006838660790245618,\n",
              " 0.008212314899223338,\n",
              " 0.008050568431884102,\n",
              " 0.010537334010073425,\n",
              " 0.011668816307901337,\n",
              " 0.011709677675835195,\n",
              " 0.014291811317146125,\n",
              " 0.011094994267899467,\n",
              " 0.008045351838499156,\n",
              " 0.007249605227497017,\n",
              " 0.0070499723506218075,\n",
              " 0.013227003240667709,\n",
              " 0.01857134574122571,\n",
              " 0.016436029999287647,\n",
              " 0.005839902169376427,\n",
              " 0.022740990640277077,\n",
              " 0.03396313394075925,\n",
              " 0.03940192280106726,\n",
              " 0.042989249204205535,\n",
              " 0.03356859385806762,\n",
              " 0.02023788001695325,\n",
              " 0.01652477888871154,\n",
              " 0.023190055722355128,\n",
              " 0.022396454107526036,\n",
              " 0.008935368327642726,\n",
              " 0.022417884643027002,\n",
              " 0.029268640628553624,\n",
              " 0.011653008235987762,\n",
              " 0.012171219484267849,\n",
              " 0.022260625475626954,\n",
              " 0.030875111170679308,\n",
              " 0.03946170391596358,\n",
              " 0.02909491272751296,\n",
              " 0.011243538399807509,\n",
              " 0.012260126735371725,\n",
              " 0.014504262233720148,\n",
              " 0.016829238773494633,\n",
              " 0.34745965509674853,\n",
              " 0.04284273600210239,\n",
              " 0.32256309563099467,\n",
              " 0.001409163065744068,\n",
              " 0.01923880176091551,\n",
              " 0.018761145687734456,\n",
              " 0.013996264563509029,\n",
              " 0.021088743305208976,\n",
              " 0.00804990102238374,\n",
              " 0.007903988890612423,\n",
              " 0.011626453028388552,\n",
              " 0.010317234343951496,\n",
              " 0.002974743600489416,\n",
              " 0.005567387921275719,\n",
              " 0.007693921128417595,\n",
              " 0.013621914323038359,\n",
              " 0.006153959507438406,\n",
              " 0.007119669214435107,\n",
              " 0.01432397350360171,\n",
              " 0.011897122259479228,\n",
              " 0.0052336822273943715,\n",
              " 0.006514111690259181,\n",
              " 0.012960706216426813,\n",
              " 0.008655138449783745,\n",
              " 0.011607499252508672,\n",
              " 0.010217356641432874,\n",
              " 0.006675269972551326,\n",
              " 0.007092674241786869,\n",
              " 0.016079794492810277,\n",
              " 0.016699974868626163,\n",
              " 0.012394126407379998,\n",
              " 0.010389583549475313,\n",
              " 0.007079921089331923,\n",
              " 0.008474721324375142,\n",
              " 0.004258198238105495,\n",
              " 0.00353233339023578,\n",
              " 0.005058343571803145,\n",
              " 0.009026516981837275,\n",
              " 0.013128109600810215,\n",
              " 0.009341303445454703,\n",
              " 0.004545050184995244,\n",
              " 0.003271090310271631,\n",
              " 0.005089331739400553,\n",
              " 0.008730047943312072,\n",
              " 0.008804980397375336,\n",
              " 0.009326223348699767,\n",
              " 0.0078674543039575,\n",
              " 0.004102524031397939,\n",
              " 0.007402343723872282,\n",
              " 0.006001702120656897,\n",
              " 0.010349021809919944,\n",
              " 0.012669265539565568,\n",
              " 0.015897695323115937,\n",
              " 0.02734315334799981,\n",
              " 0.031610416610150384,\n",
              " 0.033305835497043815,\n",
              " 0.03880469871791811,\n",
              " 0.04739998679447603,\n",
              " 0.04884195424539537,\n",
              " 0.03646304694717642,\n",
              " 0.028680000586796435,\n",
              " 0.029322616406874648,\n",
              " 0.03498458519515099,\n",
              " 0.03239164633715903,\n",
              " 0.034647655496660754,\n",
              " 0.024387387577903413,\n",
              " 0.04524169162550206,\n",
              " 0.05236686700333814,\n",
              " 0.03309346244021197,\n",
              " 0.023689711961229425,\n",
              " 0.017859150648578844,\n",
              " 0.015294920877121053,\n",
              " 0.01656810645433026,\n",
              " 0.01293714836468976,\n",
              " 0.012565886536185164,\n",
              " 0.010695970027527478,\n",
              " 0.012296007823028933,\n",
              " 0.013076287223642555,\n",
              " 0.01685497347846985,\n",
              " 0.017726269117478866,\n",
              " 0.014487511452174456,\n",
              " 0.001812396146860273,\n",
              " 0.0015828688993333514,\n",
              " 0.0011641138921167395,\n",
              " 0.0012228918424515324,\n",
              " 0.02576473555045444,\n",
              " 0.019966208367938,\n",
              " 0.015298639876355068,\n",
              " 0.020423205789907944,\n",
              " 0.02381191252844252,\n",
              " 0.03031050154018976,\n",
              " 0.019402716324980557,\n",
              " 0.01977059302761958,\n",
              " 0.020132472010136772,\n",
              " 0.017806408764424044,\n",
              " 0.02769893890099065,\n",
              " 0.027576242424146476,\n",
              " 0.02729947090225337,\n",
              " 0.025264465364497574,\n",
              " 0.037555052934387025,\n",
              " 0.01414082710361567,\n",
              " 0.023243791413186516,\n",
              " 0.025050972116616988,\n",
              " 0.018198292215193777,\n",
              " 0.02036590755881607,\n",
              " 0.01837735143511849,\n",
              " 0.020792143542363258,\n",
              " 0.018741338792339433,\n",
              " 0.019218902388133265,\n",
              " 0.01624731403684205,\n",
              " 0.02498262734136588,\n",
              " 0.035363427215623064,\n",
              " 0.04524861508253084,\n",
              " 0,\n",
              " 0.02973809460185404,\n",
              " 0.012528328066485498,\n",
              " 0.036662119288526814,\n",
              " 0.035383576765159214,\n",
              " 0.022387939404275914,\n",
              " 0.023210614032623013,\n",
              " 0.0321181862453224,\n",
              " 0.019245656396779307,\n",
              " 0.015152971730489047,\n",
              " 0.03109657610784531,\n",
              " 0.023874161831461214,\n",
              " 0.02422254413569861,\n",
              " 0.018776721423708363,\n",
              " 0.02458816856193882,\n",
              " 0.022491024024850752,\n",
              " 0.014790882597061662,\n",
              " 0.013517713923307636,\n",
              " 0.01234752154304488,\n",
              " 0.007718383587316442,\n",
              " 0.004314510188452626,\n",
              " 0.0033078253947738515,\n",
              " 0.006750921534635001,\n",
              " 0.009430956349757812,\n",
              " 0.00960946969791153,\n",
              " 0.009559764361335682,\n",
              " 0.01748395392521357,\n",
              " 0.027224608816566645,\n",
              " 0.008417774879250571,\n",
              " 0.014146474746573632,\n",
              " 0.011972668857070878,\n",
              " 0.009101727904630158,\n",
              " 0.011176487789072579,\n",
              " 0.008279000977976169,\n",
              " 0.004732481815578187,\n",
              " 0.008252443620970402,\n",
              " 0.008491926318405302,\n",
              " 0.009223408990132503,\n",
              " 0.013144832292096892,\n",
              " 0.011270537808056279,\n",
              " 0.007913497370018827,\n",
              " 0.007259973311493504,\n",
              " 0.00744108507375058,\n",
              " 0.006640554891250219,\n",
              " 0.0073042259073886565,\n",
              " 0.013211576458505844,\n",
              " 0.01609696025768511,\n",
              " 0.020896802331507307,\n",
              " 0.03305345127538483,\n",
              " 0.022220961381124445,\n",
              " 0.02197797308042452,\n",
              " 0.03344471830056664,\n",
              " 0.22447865795376482,\n",
              " 0.28269000918349113,\n",
              " 0.01627183541584072,\n",
              " 0.021758686831988568,\n",
              " 0.011652680108693685,\n",
              " 0.027326938798554766,\n",
              " 0.00477191332642858,\n",
              " 0.0026068916175122393,\n",
              " 0.01615033980698417,\n",
              " 0.008053061702691175,\n",
              " 0.00862169723923745,\n",
              " 0.012559338982453762,\n",
              " 0.01766729640456401,\n",
              " 0.024493621139178086,\n",
              " 0.02991381517204251,\n",
              " 0.0280965417474668,\n",
              " 0.016825536439353424,\n",
              " 0.013725818372403687,\n",
              " 0.01842416791348095,\n",
              " 0.010857892226327931,\n",
              " 0.007715599972085124,\n",
              " 0.009964688586468828,\n",
              " 0.010325200725182223,\n",
              " 0.010513897150570946,\n",
              " 0.009433655819906933,\n",
              " 0.007390835237806769,\n",
              " 0.00982114162522658,\n",
              " 0.021843700280977405,\n",
              " 0.020631160580707377,\n",
              " 0.008504234654713845,\n",
              " 0.011216989331042052,\n",
              " 0.004966798206810486,\n",
              " 0.004852993915207491,\n",
              " 0.006045304168270349,\n",
              " 0.013024175141451296,\n",
              " 0.0158930068345318,\n",
              " 0.01333004681225306,\n",
              " 0.010512352118462772,\n",
              " 0.019825491301401363,\n",
              " 0.01970980202899035,\n",
              " 0.01894932791484525,\n",
              " 0.026620382468275954,\n",
              " 0.025074569972392248,\n",
              " 0.02395736824408531,\n",
              " 0.03601245474116131,\n",
              " 0.023054296890158334,\n",
              " 0.011716814875837726,\n",
              " 0.011915995363197634,\n",
              " 0.014249521700793315,\n",
              " 0.017186494958946467,\n",
              " 0.018767864587025545,\n",
              " 0.02110553733539113,\n",
              " 0.02554273403335937,\n",
              " 0.01729584359401321,\n",
              " 0.015231122672899854,\n",
              " 0.007701380509800133,\n",
              " 0.0035131858256084916,\n",
              " 0.004736792879914031,\n",
              " 0.009601864226549718,\n",
              " 0.017654722124295252,\n",
              " 0.025912361866142337,\n",
              " 0.01687176207785984,\n",
              " 0.02518348427979066,\n",
              " 0.018831969486138734,\n",
              " 0.01829095893402714,\n",
              " 0.023843886724433685,\n",
              " 0.022813693257918388,\n",
              " 0.01578851952754978,\n",
              " 0.010987222417316754,\n",
              " 0.010619224554909936,\n",
              " 0.029881764501632196,\n",
              " 0.03647489764743881,\n",
              " 0.02489613550240602,\n",
              " 0.019175217920702536,\n",
              " 0.02462005529002759,\n",
              " 0.036297686310431336,\n",
              " 0.022289571280512573,\n",
              " 0.02792143968465825,\n",
              " 0.04344780848053476,\n",
              " 0.01624955854234224,\n",
              " ...]"
            ]
          },
          "metadata": {},
          "execution_count": 13
        }
      ]
    },
    {
      "cell_type": "code",
      "source": [
        "import math\n",
        "\n",
        "# Example list\n",
        "data = avg_euclidean_distances\n",
        "\n",
        "# Frame rate (frames per second)\n",
        "frame_rate = 25\n",
        "\n",
        "# Find indices of NaN values\n",
        "nan_indices = [i for i, value in enumerate(data) if value < 0.005]\n",
        "\n",
        "# Group the indices into continuous segments\n",
        "groups = []\n",
        "current_group = []\n",
        "\n",
        "for index in nan_indices:\n",
        "    if not current_group or index == current_group[-1] + 1:\n",
        "        current_group.append(index)\n",
        "    else:\n",
        "        groups.append(current_group)\n",
        "        current_group = [index]\n",
        "\n",
        "# Add the last group if it exists\n",
        "if current_group:\n",
        "    groups.append(current_group)\n",
        "\n",
        "# Merge groups with a gap of at most 10 indices\n",
        "merged_groups = []\n",
        "current_group = groups[0]  # Start with the first group\n",
        "\n",
        "for group in groups[1:]:\n",
        "    if group[0] - current_group[-1] <= 10:\n",
        "        current_group.extend(group)\n",
        "    else:\n",
        "        merged_groups.append(current_group)\n",
        "        current_group = group\n",
        "\n",
        "merged_groups.append(current_group)  # Add the last group\n",
        "\n",
        "# Filter out groups with fewer than 15 indices\n",
        "final_groups = [group for group in merged_groups if len(group) >= 15]\n",
        "\n",
        "# Calculate medium indices and output results\n",
        "medium_indices = []\n",
        "print(\"Final grouped indices (time in minutes:seconds):\")\n",
        "for group in final_groups:\n",
        "    start_time = group[0] / frame_rate\n",
        "    end_time = group[-1] / frame_rate\n",
        "    start_minutes, start_seconds = divmod(start_time, 60)\n",
        "    end_minutes, end_seconds = divmod(end_time, 60)\n",
        "    medium_index = (group[0] + group[-1]) // 2\n",
        "    medium_indices.append(medium_index)\n",
        "    print(f\"Frames {group[0]} to {group[-1]}: {int(start_minutes)}:{start_seconds:04.1f} to {int(end_minutes)}:{end_seconds:04.1f} ({len(group)} frames) - Medium Index: {medium_index}\")\n",
        "\n",
        "# Output medium indices for further processing\n",
        "print(\"\\nList of medium indices for further processing:\", medium_indices)\n"
      ],
      "metadata": {
        "colab": {
          "base_uri": "https://localhost:8080/"
        },
        "id": "tgVdfenoJqg-",
        "outputId": "29ab6aec-db58-44ae-a084-d05cdf191f26"
      },
      "execution_count": null,
      "outputs": [
        {
          "output_type": "stream",
          "name": "stdout",
          "text": [
            "Final grouped indices (time in minutes:seconds):\n",
            "Frames 0 to 470: 0:00.0 to 0:18.8 (468 frames) - Medium Index: 235\n",
            "Frames 630 to 674: 0:25.2 to 0:27.0 (21 frames) - Medium Index: 652\n",
            "Frames 692 to 721: 0:27.7 to 0:28.8 (18 frames) - Medium Index: 706\n",
            "Frames 808 to 873: 0:32.3 to 0:34.9 (30 frames) - Medium Index: 840\n",
            "Frames 925 to 997: 0:37.0 to 0:39.9 (33 frames) - Medium Index: 961\n",
            "Frames 1114 to 1144: 0:44.6 to 0:45.8 (23 frames) - Medium Index: 1129\n",
            "Frames 1164 to 1222: 0:46.6 to 0:48.9 (21 frames) - Medium Index: 1193\n",
            "Frames 1306 to 1370: 0:52.2 to 0:54.8 (41 frames) - Medium Index: 1338\n",
            "Frames 1389 to 1422: 0:55.6 to 0:56.9 (27 frames) - Medium Index: 1405\n",
            "Frames 1437 to 1463: 0:57.5 to 0:58.5 (16 frames) - Medium Index: 1450\n",
            "Frames 1476 to 1539: 0:59.0 to 1:01.6 (22 frames) - Medium Index: 1507\n",
            "Frames 1621 to 1646: 1:04.8 to 1:05.8 (18 frames) - Medium Index: 1633\n",
            "Frames 1680 to 1720: 1:07.2 to 1:08.8 (16 frames) - Medium Index: 1700\n",
            "Frames 2022 to 2137: 1:20.9 to 1:25.5 (57 frames) - Medium Index: 2079\n",
            "Frames 2281 to 2303: 1:31.2 to 1:32.1 (15 frames) - Medium Index: 2292\n",
            "Frames 2504 to 2531: 1:40.2 to 1:41.2 (17 frames) - Medium Index: 2517\n",
            "Frames 2570 to 2617: 1:42.8 to 1:44.7 (20 frames) - Medium Index: 2593\n",
            "Frames 3015 to 3033: 2:00.6 to 2:01.3 (19 frames) - Medium Index: 3024\n",
            "Frames 3102 to 3130: 2:04.1 to 2:05.2 (15 frames) - Medium Index: 3116\n",
            "Frames 3168 to 3186: 2:06.7 to 2:07.4 (16 frames) - Medium Index: 3177\n",
            "Frames 3292 to 3310: 2:11.7 to 2:12.4 (19 frames) - Medium Index: 3301\n",
            "Frames 3512 to 3557: 2:20.5 to 2:22.3 (20 frames) - Medium Index: 3534\n",
            "Frames 3571 to 3604: 2:22.8 to 2:24.2 (19 frames) - Medium Index: 3587\n",
            "Frames 3683 to 3739: 2:27.3 to 2:29.6 (38 frames) - Medium Index: 3711\n",
            "Frames 3852 to 3876: 2:34.1 to 2:35.0 (18 frames) - Medium Index: 3864\n",
            "Frames 3948 to 3988: 2:37.9 to 2:39.5 (17 frames) - Medium Index: 3968\n",
            "Frames 4242 to 4268: 2:49.7 to 2:50.7 (27 frames) - Medium Index: 4255\n",
            "Frames 4404 to 4476: 2:56.2 to 2:59.0 (31 frames) - Medium Index: 4440\n",
            "Frames 4572 to 4627: 3:02.9 to 3:05.1 (20 frames) - Medium Index: 4599\n",
            "Frames 4700 to 4768: 3:08.0 to 3:10.7 (49 frames) - Medium Index: 4734\n",
            "Frames 4895 to 4918: 3:15.8 to 3:16.7 (16 frames) - Medium Index: 4906\n",
            "Frames 5224 to 5261: 3:29.0 to 3:30.4 (24 frames) - Medium Index: 5242\n",
            "Frames 5346 to 5363: 3:33.8 to 3:34.5 (18 frames) - Medium Index: 5354\n",
            "Frames 5386 to 5416: 3:35.4 to 3:36.6 (17 frames) - Medium Index: 5401\n",
            "Frames 5725 to 5766: 3:49.0 to 3:50.6 (20 frames) - Medium Index: 5745\n",
            "Frames 5791 to 5846: 3:51.6 to 3:53.8 (29 frames) - Medium Index: 5818\n",
            "Frames 6099 to 6146: 4:04.0 to 4:05.8 (25 frames) - Medium Index: 6122\n",
            "Frames 6361 to 6410: 4:14.4 to 4:16.4 (35 frames) - Medium Index: 6385\n",
            "Frames 6522 to 6558: 4:20.9 to 4:22.3 (31 frames) - Medium Index: 6540\n",
            "Frames 6634 to 6673: 4:25.4 to 4:26.9 (17 frames) - Medium Index: 6653\n",
            "Frames 6684 to 6713: 4:27.4 to 4:28.5 (24 frames) - Medium Index: 6698\n",
            "Frames 6728 to 6813: 4:29.1 to 4:32.5 (32 frames) - Medium Index: 6770\n",
            "Frames 6829 to 6865: 4:33.2 to 4:34.6 (16 frames) - Medium Index: 6847\n",
            "Frames 6955 to 6983: 4:38.2 to 4:39.3 (22 frames) - Medium Index: 6969\n",
            "Frames 7001 to 7062: 4:40.0 to 4:42.5 (28 frames) - Medium Index: 7031\n",
            "Frames 7226 to 7240: 4:49.0 to 4:49.6 (15 frames) - Medium Index: 7233\n",
            "Frames 7278 to 7295: 4:51.1 to 4:51.8 (18 frames) - Medium Index: 7286\n",
            "Frames 7308 to 7376: 4:52.3 to 4:55.0 (28 frames) - Medium Index: 7342\n",
            "Frames 7718 to 7740: 5:08.7 to 5:09.6 (16 frames) - Medium Index: 7729\n",
            "Frames 7817 to 7838: 5:12.7 to 5:13.5 (21 frames) - Medium Index: 7827\n",
            "Frames 8063 to 8085: 5:22.5 to 5:23.4 (16 frames) - Medium Index: 8074\n",
            "Frames 8136 to 8183: 5:25.4 to 5:27.3 (25 frames) - Medium Index: 8159\n",
            "Frames 8315 to 8332: 5:32.6 to 5:33.3 (18 frames) - Medium Index: 8323\n",
            "Frames 8383 to 8407: 5:35.3 to 5:36.3 (15 frames) - Medium Index: 8395\n",
            "Frames 8496 to 8547: 5:39.8 to 5:41.9 (19 frames) - Medium Index: 8521\n",
            "Frames 8682 to 8731: 5:47.3 to 5:49.2 (21 frames) - Medium Index: 8706\n",
            "Frames 8854 to 8928: 5:54.2 to 5:57.1 (54 frames) - Medium Index: 8891\n",
            "Frames 8947 to 8983: 5:57.9 to 5:59.3 (18 frames) - Medium Index: 8965\n",
            "Frames 9012 to 9056: 6:00.5 to 6:02.2 (36 frames) - Medium Index: 9034\n",
            "Frames 9081 to 9119: 6:03.2 to 6:04.8 (22 frames) - Medium Index: 9100\n",
            "Frames 9131 to 9170: 6:05.2 to 6:06.8 (19 frames) - Medium Index: 9150\n",
            "Frames 9304 to 9325: 6:12.2 to 6:13.0 (17 frames) - Medium Index: 9314\n",
            "Frames 9401 to 9433: 6:16.0 to 6:17.3 (18 frames) - Medium Index: 9417\n",
            "Frames 9479 to 9519: 6:19.2 to 6:20.8 (23 frames) - Medium Index: 9499\n",
            "Frames 9549 to 9698: 6:22.0 to 6:27.9 (83 frames) - Medium Index: 9623\n",
            "Frames 9710 to 9756: 6:28.4 to 6:30.2 (23 frames) - Medium Index: 9733\n",
            "Frames 9917 to 9971: 6:36.7 to 6:38.8 (31 frames) - Medium Index: 9944\n",
            "Frames 10073 to 10244: 6:42.9 to 6:49.8 (108 frames) - Medium Index: 10158\n",
            "Frames 10300 to 10340: 6:52.0 to 6:53.6 (17 frames) - Medium Index: 10320\n",
            "Frames 10537 to 10560: 7:01.5 to 7:02.4 (24 frames) - Medium Index: 10548\n",
            "Frames 10764 to 10808: 7:10.6 to 7:12.3 (34 frames) - Medium Index: 10786\n",
            "Frames 10821 to 10864: 7:12.8 to 7:14.6 (23 frames) - Medium Index: 10842\n",
            "Frames 10919 to 10954: 7:16.8 to 7:18.2 (17 frames) - Medium Index: 10936\n",
            "Frames 10967 to 11002: 7:18.7 to 7:20.1 (24 frames) - Medium Index: 10984\n",
            "Frames 11256 to 11292: 7:30.2 to 7:31.7 (31 frames) - Medium Index: 11274\n",
            "Frames 11523 to 11551: 7:40.9 to 7:42.0 (15 frames) - Medium Index: 11537\n",
            "Frames 11602 to 11627: 7:44.1 to 7:45.1 (24 frames) - Medium Index: 11614\n",
            "Frames 11706 to 11742: 7:48.2 to 7:49.7 (20 frames) - Medium Index: 11724\n",
            "Frames 11813 to 11853: 7:52.5 to 7:54.1 (28 frames) - Medium Index: 11833\n",
            "Frames 11873 to 11951: 7:54.9 to 7:58.0 (49 frames) - Medium Index: 11912\n",
            "Frames 11987 to 12006: 7:59.5 to 8:00.2 (17 frames) - Medium Index: 11996\n",
            "Frames 12112 to 12169: 8:04.5 to 8:06.8 (27 frames) - Medium Index: 12140\n",
            "Frames 12438 to 12473: 8:17.5 to 8:18.9 (18 frames) - Medium Index: 12455\n",
            "Frames 12532 to 12573: 8:21.3 to 8:22.9 (15 frames) - Medium Index: 12552\n",
            "Frames 12588 to 12612: 8:23.5 to 8:24.5 (19 frames) - Medium Index: 12600\n",
            "Frames 12800 to 12862: 8:32.0 to 8:34.5 (53 frames) - Medium Index: 12831\n",
            "Frames 12897 to 12954: 8:35.9 to 8:38.2 (33 frames) - Medium Index: 12925\n",
            "Frames 13071 to 13152: 8:42.8 to 8:46.1 (47 frames) - Medium Index: 13111\n",
            "Frames 13299 to 13363: 8:52.0 to 8:54.5 (37 frames) - Medium Index: 13331\n",
            "Frames 13959 to 14019: 9:18.4 to 9:20.8 (31 frames) - Medium Index: 13989\n",
            "Frames 14102 to 14140: 9:24.1 to 9:25.6 (26 frames) - Medium Index: 14121\n",
            "Frames 14156 to 14279: 9:26.2 to 9:31.2 (61 frames) - Medium Index: 14217\n",
            "Frames 14353 to 14396: 9:34.1 to 9:35.8 (33 frames) - Medium Index: 14374\n",
            "Frames 14417 to 14486: 9:36.7 to 9:39.4 (26 frames) - Medium Index: 14451\n",
            "Frames 14525 to 14557: 9:41.0 to 9:42.3 (20 frames) - Medium Index: 14541\n",
            "Frames 14569 to 14624: 9:42.8 to 9:45.0 (54 frames) - Medium Index: 14596\n",
            "Frames 14648 to 14689: 9:45.9 to 9:47.6 (18 frames) - Medium Index: 14668\n",
            "Frames 14751 to 14782: 9:50.0 to 9:51.3 (32 frames) - Medium Index: 14766\n",
            "Frames 14863 to 14891: 9:54.5 to 9:55.6 (16 frames) - Medium Index: 14877\n",
            "Frames 14902 to 14944: 9:56.1 to 9:57.8 (24 frames) - Medium Index: 14923\n",
            "Frames 14980 to 15035: 9:59.2 to 10:01.4 (35 frames) - Medium Index: 15007\n",
            "Frames 15074 to 15096: 10:03.0 to 10:03.8 (16 frames) - Medium Index: 15085\n",
            "Frames 15107 to 15151: 10:04.3 to 10:06.0 (17 frames) - Medium Index: 15129\n",
            "Frames 15194 to 15289: 10:07.8 to 10:11.6 (59 frames) - Medium Index: 15241\n",
            "Frames 15347 to 15383: 10:13.9 to 10:15.3 (28 frames) - Medium Index: 15365\n",
            "Frames 15396 to 15505: 10:15.8 to 10:20.2 (80 frames) - Medium Index: 15450\n",
            "Frames 15636 to 15660: 10:25.4 to 10:26.4 (18 frames) - Medium Index: 15648\n",
            "Frames 15999 to 16054: 10:40.0 to 10:42.2 (32 frames) - Medium Index: 16026\n",
            "Frames 16099 to 16156: 10:44.0 to 10:46.2 (33 frames) - Medium Index: 16127\n",
            "Frames 16201 to 16266: 10:48.0 to 10:50.6 (31 frames) - Medium Index: 16233\n",
            "Frames 16503 to 16538: 11:00.1 to 11:01.5 (20 frames) - Medium Index: 16520\n",
            "Frames 16862 to 16968: 11:14.5 to 11:18.7 (52 frames) - Medium Index: 16915\n",
            "Frames 17000 to 17031: 11:20.0 to 11:21.2 (20 frames) - Medium Index: 17015\n",
            "Frames 17102 to 17148: 11:24.1 to 11:25.9 (30 frames) - Medium Index: 17125\n",
            "Frames 17231 to 17256: 11:29.2 to 11:30.2 (19 frames) - Medium Index: 17243\n",
            "Frames 17351 to 17391: 11:34.0 to 11:35.6 (23 frames) - Medium Index: 17371\n",
            "Frames 17511 to 17579: 11:40.4 to 11:43.2 (57 frames) - Medium Index: 17545\n",
            "Frames 17872 to 17941: 11:54.9 to 11:57.6 (22 frames) - Medium Index: 17906\n",
            "Frames 17994 to 18019: 11:59.8 to 12:00.8 (15 frames) - Medium Index: 18006\n",
            "Frames 18037 to 18056: 12:01.5 to 12:02.2 (16 frames) - Medium Index: 18046\n",
            "Frames 18240 to 18271: 12:09.6 to 12:10.8 (20 frames) - Medium Index: 18255\n",
            "Frames 18464 to 18513: 12:18.6 to 12:20.5 (36 frames) - Medium Index: 18488\n",
            "Frames 18637 to 18682: 12:25.5 to 12:27.3 (31 frames) - Medium Index: 18659\n",
            "Frames 18737 to 18771: 12:29.5 to 12:30.8 (24 frames) - Medium Index: 18754\n",
            "Frames 18998 to 19045: 12:39.9 to 12:41.8 (39 frames) - Medium Index: 19021\n",
            "Frames 19238 to 19272: 12:49.5 to 12:50.9 (28 frames) - Medium Index: 19255\n",
            "Frames 19383 to 19410: 12:55.3 to 12:56.4 (16 frames) - Medium Index: 19396\n",
            "Frames 19538 to 19607: 13:01.5 to 13:04.3 (61 frames) - Medium Index: 19572\n",
            "Frames 19744 to 19797: 13:09.8 to 13:11.9 (26 frames) - Medium Index: 19770\n",
            "Frames 19813 to 19840: 13:12.5 to 13:13.6 (20 frames) - Medium Index: 19826\n",
            "Frames 19885 to 19943: 13:15.4 to 13:17.7 (46 frames) - Medium Index: 19914\n",
            "Frames 20013 to 20036: 13:20.5 to 13:21.4 (24 frames) - Medium Index: 20024\n",
            "Frames 20317 to 20377: 13:32.7 to 13:35.1 (61 frames) - Medium Index: 20347\n",
            "Frames 20423 to 20499: 13:36.9 to 13:40.0 (40 frames) - Medium Index: 20461\n",
            "Frames 20612 to 20643: 13:44.5 to 13:45.7 (27 frames) - Medium Index: 20627\n",
            "Frames 20714 to 20728: 13:48.6 to 13:49.1 (15 frames) - Medium Index: 20721\n",
            "Frames 20777 to 20807: 13:51.1 to 13:52.3 (15 frames) - Medium Index: 20792\n",
            "Frames 20820 to 20917: 13:52.8 to 13:56.7 (61 frames) - Medium Index: 20868\n",
            "Frames 21076 to 21181: 14:03.0 to 14:07.2 (58 frames) - Medium Index: 21128\n",
            "Frames 21196 to 21233: 14:07.8 to 14:09.3 (16 frames) - Medium Index: 21214\n",
            "Frames 21273 to 21343: 14:10.9 to 14:13.7 (44 frames) - Medium Index: 21308\n",
            "Frames 21356 to 21403: 14:14.2 to 14:16.1 (31 frames) - Medium Index: 21379\n",
            "Frames 21474 to 21503: 14:19.0 to 14:20.1 (21 frames) - Medium Index: 21488\n",
            "Frames 21589 to 21621: 14:23.6 to 14:24.8 (26 frames) - Medium Index: 21605\n",
            "Frames 21685 to 21705: 14:27.4 to 14:28.2 (15 frames) - Medium Index: 21695\n",
            "Frames 21719 to 21769: 14:28.8 to 14:30.8 (25 frames) - Medium Index: 21744\n",
            "Frames 21786 to 21915: 14:31.4 to 14:36.6 (69 frames) - Medium Index: 21850\n",
            "Frames 21974 to 21999: 14:39.0 to 14:40.0 (19 frames) - Medium Index: 21986\n",
            "Frames 22015 to 22141: 14:40.6 to 14:45.6 (103 frames) - Medium Index: 22078\n",
            "Frames 22363 to 22392: 14:54.5 to 14:55.7 (23 frames) - Medium Index: 22377\n",
            "Frames 22477 to 22491: 14:59.1 to 14:59.6 (15 frames) - Medium Index: 22484\n",
            "Frames 22528 to 22553: 15:01.1 to 15:02.1 (16 frames) - Medium Index: 22540\n",
            "Frames 22585 to 22620: 15:03.4 to 15:04.8 (26 frames) - Medium Index: 22602\n",
            "Frames 22645 to 22682: 15:05.8 to 15:07.3 (28 frames) - Medium Index: 22663\n",
            "Frames 22799 to 22828: 15:12.0 to 15:13.1 (15 frames) - Medium Index: 22813\n",
            "Frames 22887 to 22910: 15:15.5 to 15:16.4 (24 frames) - Medium Index: 22898\n",
            "Frames 22930 to 22953: 15:17.2 to 15:18.1 (24 frames) - Medium Index: 22941\n",
            "Frames 22996 to 23057: 15:19.8 to 15:22.3 (36 frames) - Medium Index: 23026\n",
            "Frames 23520 to 23543: 15:40.8 to 15:41.7 (15 frames) - Medium Index: 23531\n",
            "Frames 23623 to 23666: 15:44.9 to 15:46.6 (21 frames) - Medium Index: 23644\n",
            "Frames 23778 to 23811: 15:51.1 to 15:52.4 (21 frames) - Medium Index: 23794\n",
            "Frames 23847 to 23893: 15:53.9 to 15:55.7 (28 frames) - Medium Index: 23870\n",
            "Frames 24331 to 24361: 16:13.2 to 16:14.4 (16 frames) - Medium Index: 24346\n",
            "Frames 24414 to 24448: 16:16.6 to 16:17.9 (24 frames) - Medium Index: 24431\n",
            "\n",
            "List of medium indices for further processing: [235, 652, 706, 840, 961, 1129, 1193, 1338, 1405, 1450, 1507, 1633, 1700, 2079, 2292, 2517, 2593, 3024, 3116, 3177, 3301, 3534, 3587, 3711, 3864, 3968, 4255, 4440, 4599, 4734, 4906, 5242, 5354, 5401, 5745, 5818, 6122, 6385, 6540, 6653, 6698, 6770, 6847, 6969, 7031, 7233, 7286, 7342, 7729, 7827, 8074, 8159, 8323, 8395, 8521, 8706, 8891, 8965, 9034, 9100, 9150, 9314, 9417, 9499, 9623, 9733, 9944, 10158, 10320, 10548, 10786, 10842, 10936, 10984, 11274, 11537, 11614, 11724, 11833, 11912, 11996, 12140, 12455, 12552, 12600, 12831, 12925, 13111, 13331, 13989, 14121, 14217, 14374, 14451, 14541, 14596, 14668, 14766, 14877, 14923, 15007, 15085, 15129, 15241, 15365, 15450, 15648, 16026, 16127, 16233, 16520, 16915, 17015, 17125, 17243, 17371, 17545, 17906, 18006, 18046, 18255, 18488, 18659, 18754, 19021, 19255, 19396, 19572, 19770, 19826, 19914, 20024, 20347, 20461, 20627, 20721, 20792, 20868, 21128, 21214, 21308, 21379, 21488, 21605, 21695, 21744, 21850, 21986, 22078, 22377, 22484, 22540, 22602, 22663, 22813, 22898, 22941, 23026, 23531, 23644, 23794, 23870, 24346, 24431]\n"
          ]
        }
      ]
    },
    {
      "cell_type": "code",
      "source": [
        "len(medium_indices)"
      ],
      "metadata": {
        "colab": {
          "base_uri": "https://localhost:8080/"
        },
        "id": "SKXCSm_bKewg",
        "outputId": "c93837a6-5b1d-4132-9109-0b3694299c43"
      },
      "execution_count": null,
      "outputs": [
        {
          "output_type": "execute_result",
          "data": {
            "text/plain": [
              "65"
            ]
          },
          "metadata": {},
          "execution_count": 13
        }
      ]
    },
    {
      "cell_type": "code",
      "source": [
        "time_in_s = [(frame / 25) for frame in medium_indices]"
      ],
      "metadata": {
        "id": "CsZI5oJdPmSh"
      },
      "execution_count": null,
      "outputs": []
    },
    {
      "cell_type": "code",
      "source": [
        "time_in_s"
      ],
      "metadata": {
        "colab": {
          "base_uri": "https://localhost:8080/"
        },
        "id": "bjWKMDOsQCNK",
        "outputId": "4379f55c-3e83-4ed1-e5e9-2156807c26be"
      },
      "execution_count": null,
      "outputs": [
        {
          "output_type": "execute_result",
          "data": {
            "text/plain": [
              "[4.68,\n",
              " 14.12,\n",
              " 20.6,\n",
              " 34.48,\n",
              " 46.4,\n",
              " 62.44,\n",
              " 66.68,\n",
              " 79.52,\n",
              " 86.96,\n",
              " 96.6,\n",
              " 107.84,\n",
              " 115.2,\n",
              " 124.72,\n",
              " 131.32,\n",
              " 147.48,\n",
              " 154.44,\n",
              " 159.64,\n",
              " 169.44,\n",
              " 180.92,\n",
              " 192.72,\n",
              " 201.28,\n",
              " 217.56,\n",
              " 249.2,\n",
              " 254.16,\n",
              " 303.64,\n",
              " 316.88,\n",
              " 365.56,\n",
              " 373.48,\n",
              " 406.72,\n",
              " 409.88,\n",
              " 444.92,\n",
              " 458.84,\n",
              " 479.0,\n",
              " 492.6,\n",
              " 506.32,\n",
              " 517.2,\n",
              " 535.12,\n",
              " 550.84,\n",
              " 560.44,\n",
              " 571.92,\n",
              " 632.64,\n",
              " 634.56,\n",
              " 659.08,\n",
              " 683.24,\n",
              " 700.36,\n",
              " 709.92,\n",
              " 728.0,\n",
              " 732.96,\n",
              " 766.08,\n",
              " 774.88,\n",
              " 787.52,\n",
              " 831.52,\n",
              " 875.72,\n",
              " 878.44,\n",
              " 886.12,\n",
              " 891.2,\n",
              " 912.48,\n",
              " 917.72,\n",
              " 948.24,\n",
              " 959.72,\n",
              " 964.76,\n",
              " 972.68,\n",
              " 992.28,\n",
              " 997.68,\n",
              " 1012.0]"
            ]
          },
          "metadata": {},
          "execution_count": 15
        }
      ]
    },
    {
      "cell_type": "code",
      "source": [
        "timestamps = time_in_s # List of timestamps in seconds\n",
        "\n",
        "# Get concatenated texts for the timestamps\n",
        "results = find_and_concatenate_segments(segments, timestamps)\n",
        "\n",
        "# Print results\n",
        "for i, (timestamp, text) in enumerate(zip(timestamps, results)):\n",
        "    print(f\"Timestamp {timestamp:.2f}: {text}\")"
      ],
      "metadata": {
        "id": "58FluRvVEzLF"
      },
      "execution_count": null,
      "outputs": []
    },
    {
      "cell_type": "code",
      "source": [
        "earlist_in_s = segments[1]['start']\n",
        "for index, t in enumerate(time_in_s):\n",
        "  if t > earlist_in_s:\n",
        "    break\n",
        "  start_t = t\n"
      ],
      "metadata": {
        "id": "DSHPBznnQDb3"
      },
      "execution_count": null,
      "outputs": []
    },
    {
      "cell_type": "code",
      "source": [
        "index,start_t"
      ],
      "metadata": {
        "colab": {
          "base_uri": "https://localhost:8080/"
        },
        "id": "Zr0DuAIsCaY1",
        "outputId": "6d1e5adf-da15-4271-8e32-e5554716cd36"
      },
      "execution_count": null,
      "outputs": [
        {
          "output_type": "execute_result",
          "data": {
            "text/plain": [
              "(2, 14.12)"
            ]
          },
          "metadata": {},
          "execution_count": 17
        }
      ]
    },
    {
      "cell_type": "code",
      "source": [
        "final_groups[index-1][-1]"
      ],
      "metadata": {
        "colab": {
          "base_uri": "https://localhost:8080/"
        },
        "id": "wBt6U4f5Cb27",
        "outputId": "e41a5221-4d2a-4acc-a666-30ff2a765bee"
      },
      "execution_count": null,
      "outputs": [
        {
          "output_type": "execute_result",
          "data": {
            "text/plain": [
              "411"
            ]
          },
          "metadata": {},
          "execution_count": 18
        }
      ]
    },
    {
      "cell_type": "code",
      "source": [
        "cut_frames = [411]"
      ],
      "metadata": {
        "id": "vsZPYh6KC9Gr"
      },
      "execution_count": null,
      "outputs": []
    },
    {
      "cell_type": "code",
      "source": [
        "for i in medium_indices[index:]:\n",
        "  cut_frames.append(i)\n"
      ],
      "metadata": {
        "id": "YyhRGWO0Crev"
      },
      "execution_count": null,
      "outputs": []
    },
    {
      "cell_type": "code",
      "source": [
        "cut_instructions = []\n",
        "for i in range(len(cut_frames)-1):\n",
        "  cut_instructions.append({\"cut_start\": cut_frames[i], \"cut_end\" : cut_frames[i+1]})\n",
        "\n"
      ],
      "metadata": {
        "id": "GPruua2iDXbv"
      },
      "execution_count": null,
      "outputs": []
    },
    {
      "cell_type": "code",
      "source": [
        "len(results[2:]), len(cut_instructions)"
      ],
      "metadata": {
        "colab": {
          "base_uri": "https://localhost:8080/"
        },
        "id": "KhpzY87EGRNf",
        "outputId": "39780ff8-75c9-4df2-c964-8446355f94e8"
      },
      "execution_count": null,
      "outputs": [
        {
          "output_type": "execute_result",
          "data": {
            "text/plain": [
              "(63, 63)"
            ]
          },
          "metadata": {},
          "execution_count": 24
        }
      ]
    },
    {
      "cell_type": "code",
      "source": [
        "results[2]"
      ],
      "metadata": {
        "colab": {
          "base_uri": "https://localhost:8080/",
          "height": 35
        },
        "id": "jujkESQ-Gk6H",
        "outputId": "84c0b351-a2d0-4468-a663-46695b0baa77"
      },
      "execution_count": null,
      "outputs": [
        {
          "output_type": "execute_result",
          "data": {
            "text/plain": [
              "' Ich begrüße Sie zur Tagesschau.'"
            ],
            "application/vnd.google.colaboratory.intrinsic+json": {
              "type": "string"
            }
          },
          "metadata": {},
          "execution_count": 25
        }
      ]
    },
    {
      "cell_type": "code",
      "source": [
        "cut_instructions"
      ],
      "metadata": {
        "colab": {
          "base_uri": "https://localhost:8080/"
        },
        "id": "zPaPyF0wEfJZ",
        "outputId": "6a19de46-948e-4d93-8e1d-5bcb21b6a9f7"
      },
      "execution_count": null,
      "outputs": [
        {
          "output_type": "execute_result",
          "data": {
            "text/plain": [
              "[{'cut_start': 411, 'cut_end': 515},\n",
              " {'cut_start': 515, 'cut_end': 862},\n",
              " {'cut_start': 862, 'cut_end': 1160},\n",
              " {'cut_start': 1160, 'cut_end': 1561},\n",
              " {'cut_start': 1561, 'cut_end': 1667},\n",
              " {'cut_start': 1667, 'cut_end': 1988},\n",
              " {'cut_start': 1988, 'cut_end': 2174},\n",
              " {'cut_start': 2174, 'cut_end': 2415},\n",
              " {'cut_start': 2415, 'cut_end': 2696},\n",
              " {'cut_start': 2696, 'cut_end': 2880},\n",
              " {'cut_start': 2880, 'cut_end': 3118},\n",
              " {'cut_start': 3118, 'cut_end': 3283},\n",
              " {'cut_start': 3283, 'cut_end': 3687},\n",
              " {'cut_start': 3687, 'cut_end': 3861},\n",
              " {'cut_start': 3861, 'cut_end': 3991},\n",
              " {'cut_start': 3991, 'cut_end': 4236},\n",
              " {'cut_start': 4236, 'cut_end': 4523},\n",
              " {'cut_start': 4523, 'cut_end': 4818},\n",
              " {'cut_start': 4818, 'cut_end': 5032},\n",
              " {'cut_start': 5032, 'cut_end': 5439},\n",
              " {'cut_start': 5439, 'cut_end': 6230},\n",
              " {'cut_start': 6230, 'cut_end': 6354},\n",
              " {'cut_start': 6354, 'cut_end': 7591},\n",
              " {'cut_start': 7591, 'cut_end': 7922},\n",
              " {'cut_start': 7922, 'cut_end': 9139},\n",
              " {'cut_start': 9139, 'cut_end': 9337},\n",
              " {'cut_start': 9337, 'cut_end': 10168},\n",
              " {'cut_start': 10168, 'cut_end': 10247},\n",
              " {'cut_start': 10247, 'cut_end': 11123},\n",
              " {'cut_start': 11123, 'cut_end': 11471},\n",
              " {'cut_start': 11471, 'cut_end': 11975},\n",
              " {'cut_start': 11975, 'cut_end': 12315},\n",
              " {'cut_start': 12315, 'cut_end': 12658},\n",
              " {'cut_start': 12658, 'cut_end': 12930},\n",
              " {'cut_start': 12930, 'cut_end': 13378},\n",
              " {'cut_start': 13378, 'cut_end': 13771},\n",
              " {'cut_start': 13771, 'cut_end': 14011},\n",
              " {'cut_start': 14011, 'cut_end': 14298},\n",
              " {'cut_start': 14298, 'cut_end': 15816},\n",
              " {'cut_start': 15816, 'cut_end': 15864},\n",
              " {'cut_start': 15864, 'cut_end': 16477},\n",
              " {'cut_start': 16477, 'cut_end': 17081},\n",
              " {'cut_start': 17081, 'cut_end': 17509},\n",
              " {'cut_start': 17509, 'cut_end': 17748},\n",
              " {'cut_start': 17748, 'cut_end': 18200},\n",
              " {'cut_start': 18200, 'cut_end': 18324},\n",
              " {'cut_start': 18324, 'cut_end': 19152},\n",
              " {'cut_start': 19152, 'cut_end': 19372},\n",
              " {'cut_start': 19372, 'cut_end': 19688},\n",
              " {'cut_start': 19688, 'cut_end': 20788},\n",
              " {'cut_start': 20788, 'cut_end': 21893},\n",
              " {'cut_start': 21893, 'cut_end': 21961},\n",
              " {'cut_start': 21961, 'cut_end': 22153},\n",
              " {'cut_start': 22153, 'cut_end': 22280},\n",
              " {'cut_start': 22280, 'cut_end': 22812},\n",
              " {'cut_start': 22812, 'cut_end': 22943},\n",
              " {'cut_start': 22943, 'cut_end': 23706},\n",
              " {'cut_start': 23706, 'cut_end': 23993},\n",
              " {'cut_start': 23993, 'cut_end': 24119},\n",
              " {'cut_start': 24119, 'cut_end': 24317},\n",
              " {'cut_start': 24317, 'cut_end': 24807},\n",
              " {'cut_start': 24807, 'cut_end': 24942},\n",
              " {'cut_start': 24942, 'cut_end': 25300}]"
            ]
          },
          "metadata": {},
          "execution_count": 26
        }
      ]
    },
    {
      "cell_type": "code",
      "source": [
        "!pip install -q moviepy"
      ],
      "metadata": {
        "id": "aj49N-FtEwKa"
      },
      "execution_count": null,
      "outputs": []
    },
    {
      "cell_type": "code",
      "source": [
        "from moviepy.video.io.VideoFileClip import VideoFileClip\n",
        "\n",
        "def split_video(input_video, cutting_sequences, output_prefix, fps=30):\n",
        "    \"\"\"\n",
        "    Splits a video into multiple subsequences based on a list of cutting sequences.\n",
        "\n",
        "    :param input_video: Path to the input video file (mp4 format)\n",
        "    :param cutting_sequences: List of dictionaries with 'cut_start' and 'cut_end' keys\n",
        "    :param output_prefix: Prefix for the output video filenames\n",
        "    :param fps: Frames per second of the video (default is 30)\n",
        "    \"\"\"\n",
        "    # Load the video file\n",
        "    clip = VideoFileClip(input_video)\n",
        "\n",
        "    for i, sequence in enumerate(cutting_sequences):\n",
        "        start_frame = sequence['cut_start']\n",
        "        end_frame = sequence['cut_end']\n",
        "\n",
        "        # Calculate start and end times in seconds\n",
        "        start_time = start_frame / fps\n",
        "        end_time = end_frame / fps\n",
        "\n",
        "        # Extract the subsequence\n",
        "        subclip = clip.subclip(start_time, end_time)\n",
        "\n",
        "        # Define the output filename\n",
        "        output_video = f\"{output_prefix}_part_{i+1}.mp4\"\n",
        "\n",
        "        # Write the output video\n",
        "        subclip.write_videofile(output_video, codec='libx264')\n",
        "\n",
        "# Example usage\n",
        "input_video = \"TV-20241106-2027-0600.webxxl.h264.mp4\"\n",
        "output_prefix = \"TV-20241106-2027-0600.webxxl.h264_processed\"\n",
        "fps = 25  # Frames per second\n",
        "\n",
        "split_video(input_video, cut_instructions, output_prefix, fps)\n"
      ],
      "metadata": {
        "colab": {
          "base_uri": "https://localhost:8080/"
        },
        "id": "OYTG2Ye_FU9v",
        "outputId": "dcf56a12-88b9-44d1-cccb-f933ae36f6a1"
      },
      "execution_count": null,
      "outputs": [
        {
          "metadata": {
            "tags": null
          },
          "name": "stdout",
          "output_type": "stream",
          "text": [
            "Moviepy - Building video TV-20241106-2027-0600.webxxl.h264_processed_part_1.mp4.\n",
            "MoviePy - Writing audio in TV-20241106-2027-0600.webxxl.h264_processed_part_1TEMP_MPY_wvf_snd.mp3\n"
          ]
        },
        {
          "metadata": {
            "tags": null
          },
          "name": "stderr",
          "output_type": "stream",
          "text": [
            ""
          ]
        },
        {
          "metadata": {
            "tags": null
          },
          "name": "stdout",
          "output_type": "stream",
          "text": [
            "MoviePy - Done.\n",
            "Moviepy - Writing video TV-20241106-2027-0600.webxxl.h264_processed_part_1.mp4\n",
            "\n"
          ]
        },
        {
          "metadata": {
            "tags": null
          },
          "name": "stderr",
          "output_type": "stream",
          "text": [
            ""
          ]
        },
        {
          "metadata": {
            "tags": null
          },
          "name": "stdout",
          "output_type": "stream",
          "text": [
            "Moviepy - Done !\n",
            "Moviepy - video ready TV-20241106-2027-0600.webxxl.h264_processed_part_1.mp4\n",
            "Moviepy - Building video TV-20241106-2027-0600.webxxl.h264_processed_part_2.mp4.\n",
            "MoviePy - Writing audio in TV-20241106-2027-0600.webxxl.h264_processed_part_2TEMP_MPY_wvf_snd.mp3\n"
          ]
        },
        {
          "metadata": {
            "tags": null
          },
          "name": "stderr",
          "output_type": "stream",
          "text": [
            ""
          ]
        },
        {
          "metadata": {
            "tags": null
          },
          "name": "stdout",
          "output_type": "stream",
          "text": [
            "MoviePy - Done.\n",
            "Moviepy - Writing video TV-20241106-2027-0600.webxxl.h264_processed_part_2.mp4\n",
            "\n"
          ]
        },
        {
          "metadata": {
            "tags": null
          },
          "name": "stderr",
          "output_type": "stream",
          "text": [
            ""
          ]
        },
        {
          "metadata": {
            "tags": null
          },
          "name": "stdout",
          "output_type": "stream",
          "text": [
            "Moviepy - Done !\n",
            "Moviepy - video ready TV-20241106-2027-0600.webxxl.h264_processed_part_2.mp4\n",
            "Moviepy - Building video TV-20241106-2027-0600.webxxl.h264_processed_part_3.mp4.\n",
            "MoviePy - Writing audio in TV-20241106-2027-0600.webxxl.h264_processed_part_3TEMP_MPY_wvf_snd.mp3\n"
          ]
        },
        {
          "metadata": {
            "tags": null
          },
          "name": "stderr",
          "output_type": "stream",
          "text": [
            ""
          ]
        },
        {
          "metadata": {
            "tags": null
          },
          "name": "stdout",
          "output_type": "stream",
          "text": [
            "MoviePy - Done.\n",
            "Moviepy - Writing video TV-20241106-2027-0600.webxxl.h264_processed_part_3.mp4\n",
            "\n"
          ]
        },
        {
          "metadata": {
            "tags": null
          },
          "name": "stderr",
          "output_type": "stream",
          "text": [
            ""
          ]
        },
        {
          "metadata": {
            "tags": null
          },
          "name": "stdout",
          "output_type": "stream",
          "text": [
            "Moviepy - Done !\n",
            "Moviepy - video ready TV-20241106-2027-0600.webxxl.h264_processed_part_3.mp4\n",
            "Moviepy - Building video TV-20241106-2027-0600.webxxl.h264_processed_part_4.mp4.\n",
            "MoviePy - Writing audio in TV-20241106-2027-0600.webxxl.h264_processed_part_4TEMP_MPY_wvf_snd.mp3\n"
          ]
        },
        {
          "metadata": {
            "tags": null
          },
          "name": "stderr",
          "output_type": "stream",
          "text": [
            ""
          ]
        },
        {
          "metadata": {
            "tags": null
          },
          "name": "stdout",
          "output_type": "stream",
          "text": [
            "MoviePy - Done.\n",
            "Moviepy - Writing video TV-20241106-2027-0600.webxxl.h264_processed_part_4.mp4\n",
            "\n"
          ]
        },
        {
          "metadata": {
            "tags": null
          },
          "name": "stderr",
          "output_type": "stream",
          "text": [
            ""
          ]
        },
        {
          "metadata": {
            "tags": null
          },
          "name": "stdout",
          "output_type": "stream",
          "text": [
            "Moviepy - Done !\n",
            "Moviepy - video ready TV-20241106-2027-0600.webxxl.h264_processed_part_4.mp4\n",
            "Moviepy - Building video TV-20241106-2027-0600.webxxl.h264_processed_part_5.mp4.\n",
            "MoviePy - Writing audio in TV-20241106-2027-0600.webxxl.h264_processed_part_5TEMP_MPY_wvf_snd.mp3\n"
          ]
        },
        {
          "metadata": {
            "tags": null
          },
          "name": "stderr",
          "output_type": "stream",
          "text": [
            ""
          ]
        },
        {
          "metadata": {
            "tags": null
          },
          "name": "stdout",
          "output_type": "stream",
          "text": [
            "MoviePy - Done.\n",
            "Moviepy - Writing video TV-20241106-2027-0600.webxxl.h264_processed_part_5.mp4\n",
            "\n"
          ]
        },
        {
          "metadata": {
            "tags": null
          },
          "name": "stderr",
          "output_type": "stream",
          "text": [
            ""
          ]
        },
        {
          "metadata": {
            "tags": null
          },
          "name": "stdout",
          "output_type": "stream",
          "text": [
            "Moviepy - Done !\n",
            "Moviepy - video ready TV-20241106-2027-0600.webxxl.h264_processed_part_5.mp4\n",
            "Moviepy - Building video TV-20241106-2027-0600.webxxl.h264_processed_part_6.mp4.\n",
            "MoviePy - Writing audio in TV-20241106-2027-0600.webxxl.h264_processed_part_6TEMP_MPY_wvf_snd.mp3\n"
          ]
        },
        {
          "metadata": {
            "tags": null
          },
          "name": "stderr",
          "output_type": "stream",
          "text": [
            ""
          ]
        },
        {
          "metadata": {
            "tags": null
          },
          "name": "stdout",
          "output_type": "stream",
          "text": [
            "MoviePy - Done.\n",
            "Moviepy - Writing video TV-20241106-2027-0600.webxxl.h264_processed_part_6.mp4\n",
            "\n"
          ]
        },
        {
          "metadata": {
            "tags": null
          },
          "name": "stderr",
          "output_type": "stream",
          "text": [
            ""
          ]
        },
        {
          "metadata": {
            "tags": null
          },
          "name": "stdout",
          "output_type": "stream",
          "text": [
            "Moviepy - Done !\n",
            "Moviepy - video ready TV-20241106-2027-0600.webxxl.h264_processed_part_6.mp4\n",
            "Moviepy - Building video TV-20241106-2027-0600.webxxl.h264_processed_part_7.mp4.\n",
            "MoviePy - Writing audio in TV-20241106-2027-0600.webxxl.h264_processed_part_7TEMP_MPY_wvf_snd.mp3\n"
          ]
        },
        {
          "metadata": {
            "tags": null
          },
          "name": "stderr",
          "output_type": "stream",
          "text": [
            ""
          ]
        },
        {
          "metadata": {
            "tags": null
          },
          "name": "stdout",
          "output_type": "stream",
          "text": [
            "MoviePy - Done.\n",
            "Moviepy - Writing video TV-20241106-2027-0600.webxxl.h264_processed_part_7.mp4\n",
            "\n"
          ]
        },
        {
          "metadata": {
            "tags": null
          },
          "name": "stderr",
          "output_type": "stream",
          "text": [
            ""
          ]
        },
        {
          "metadata": {
            "tags": null
          },
          "name": "stdout",
          "output_type": "stream",
          "text": [
            "Moviepy - Done !\n",
            "Moviepy - video ready TV-20241106-2027-0600.webxxl.h264_processed_part_7.mp4\n",
            "Moviepy - Building video TV-20241106-2027-0600.webxxl.h264_processed_part_8.mp4.\n",
            "MoviePy - Writing audio in TV-20241106-2027-0600.webxxl.h264_processed_part_8TEMP_MPY_wvf_snd.mp3\n"
          ]
        },
        {
          "metadata": {
            "tags": null
          },
          "name": "stderr",
          "output_type": "stream",
          "text": [
            ""
          ]
        },
        {
          "metadata": {
            "tags": null
          },
          "name": "stdout",
          "output_type": "stream",
          "text": [
            "MoviePy - Done.\n",
            "Moviepy - Writing video TV-20241106-2027-0600.webxxl.h264_processed_part_8.mp4\n",
            "\n"
          ]
        },
        {
          "metadata": {
            "tags": null
          },
          "name": "stderr",
          "output_type": "stream",
          "text": [
            ""
          ]
        },
        {
          "metadata": {
            "tags": null
          },
          "name": "stdout",
          "output_type": "stream",
          "text": [
            "Moviepy - Done !\n",
            "Moviepy - video ready TV-20241106-2027-0600.webxxl.h264_processed_part_8.mp4\n",
            "Moviepy - Building video TV-20241106-2027-0600.webxxl.h264_processed_part_9.mp4.\n",
            "MoviePy - Writing audio in TV-20241106-2027-0600.webxxl.h264_processed_part_9TEMP_MPY_wvf_snd.mp3\n"
          ]
        },
        {
          "metadata": {
            "tags": null
          },
          "name": "stderr",
          "output_type": "stream",
          "text": [
            ""
          ]
        },
        {
          "metadata": {
            "tags": null
          },
          "name": "stdout",
          "output_type": "stream",
          "text": [
            "MoviePy - Done.\n",
            "Moviepy - Writing video TV-20241106-2027-0600.webxxl.h264_processed_part_9.mp4\n",
            "\n"
          ]
        },
        {
          "metadata": {
            "tags": null
          },
          "name": "stderr",
          "output_type": "stream",
          "text": [
            ""
          ]
        },
        {
          "metadata": {
            "tags": null
          },
          "name": "stdout",
          "output_type": "stream",
          "text": [
            "Moviepy - Done !\n",
            "Moviepy - video ready TV-20241106-2027-0600.webxxl.h264_processed_part_9.mp4\n",
            "Moviepy - Building video TV-20241106-2027-0600.webxxl.h264_processed_part_10.mp4.\n",
            "MoviePy - Writing audio in TV-20241106-2027-0600.webxxl.h264_processed_part_10TEMP_MPY_wvf_snd.mp3\n"
          ]
        },
        {
          "metadata": {
            "tags": null
          },
          "name": "stderr",
          "output_type": "stream",
          "text": [
            ""
          ]
        },
        {
          "metadata": {
            "tags": null
          },
          "name": "stdout",
          "output_type": "stream",
          "text": [
            "MoviePy - Done.\n",
            "Moviepy - Writing video TV-20241106-2027-0600.webxxl.h264_processed_part_10.mp4\n",
            "\n"
          ]
        },
        {
          "metadata": {
            "tags": null
          },
          "name": "stderr",
          "output_type": "stream",
          "text": [
            ""
          ]
        },
        {
          "metadata": {
            "tags": null
          },
          "name": "stdout",
          "output_type": "stream",
          "text": [
            "Moviepy - Done !\n",
            "Moviepy - video ready TV-20241106-2027-0600.webxxl.h264_processed_part_10.mp4\n",
            "Moviepy - Building video TV-20241106-2027-0600.webxxl.h264_processed_part_11.mp4.\n",
            "MoviePy - Writing audio in TV-20241106-2027-0600.webxxl.h264_processed_part_11TEMP_MPY_wvf_snd.mp3\n"
          ]
        },
        {
          "metadata": {
            "tags": null
          },
          "name": "stderr",
          "output_type": "stream",
          "text": [
            ""
          ]
        },
        {
          "metadata": {
            "tags": null
          },
          "name": "stdout",
          "output_type": "stream",
          "text": [
            "MoviePy - Done.\n",
            "Moviepy - Writing video TV-20241106-2027-0600.webxxl.h264_processed_part_11.mp4\n",
            "\n"
          ]
        },
        {
          "metadata": {
            "tags": null
          },
          "name": "stderr",
          "output_type": "stream",
          "text": [
            ""
          ]
        },
        {
          "metadata": {
            "tags": null
          },
          "name": "stdout",
          "output_type": "stream",
          "text": [
            "Moviepy - Done !\n",
            "Moviepy - video ready TV-20241106-2027-0600.webxxl.h264_processed_part_11.mp4\n",
            "Moviepy - Building video TV-20241106-2027-0600.webxxl.h264_processed_part_12.mp4.\n",
            "MoviePy - Writing audio in TV-20241106-2027-0600.webxxl.h264_processed_part_12TEMP_MPY_wvf_snd.mp3\n"
          ]
        },
        {
          "metadata": {
            "tags": null
          },
          "name": "stderr",
          "output_type": "stream",
          "text": [
            ""
          ]
        },
        {
          "metadata": {
            "tags": null
          },
          "name": "stdout",
          "output_type": "stream",
          "text": [
            "MoviePy - Done.\n",
            "Moviepy - Writing video TV-20241106-2027-0600.webxxl.h264_processed_part_12.mp4\n",
            "\n"
          ]
        },
        {
          "metadata": {
            "tags": null
          },
          "name": "stderr",
          "output_type": "stream",
          "text": [
            ""
          ]
        },
        {
          "metadata": {
            "tags": null
          },
          "name": "stdout",
          "output_type": "stream",
          "text": [
            "Moviepy - Done !\n",
            "Moviepy - video ready TV-20241106-2027-0600.webxxl.h264_processed_part_12.mp4\n",
            "Moviepy - Building video TV-20241106-2027-0600.webxxl.h264_processed_part_13.mp4.\n",
            "MoviePy - Writing audio in TV-20241106-2027-0600.webxxl.h264_processed_part_13TEMP_MPY_wvf_snd.mp3\n"
          ]
        },
        {
          "metadata": {
            "tags": null
          },
          "name": "stderr",
          "output_type": "stream",
          "text": [
            ""
          ]
        },
        {
          "metadata": {
            "tags": null
          },
          "name": "stdout",
          "output_type": "stream",
          "text": [
            "MoviePy - Done.\n",
            "Moviepy - Writing video TV-20241106-2027-0600.webxxl.h264_processed_part_13.mp4\n",
            "\n"
          ]
        },
        {
          "metadata": {
            "tags": null
          },
          "name": "stderr",
          "output_type": "stream",
          "text": [
            ""
          ]
        },
        {
          "metadata": {
            "tags": null
          },
          "name": "stdout",
          "output_type": "stream",
          "text": [
            "Moviepy - Done !\n",
            "Moviepy - video ready TV-20241106-2027-0600.webxxl.h264_processed_part_13.mp4\n",
            "Moviepy - Building video TV-20241106-2027-0600.webxxl.h264_processed_part_14.mp4.\n",
            "MoviePy - Writing audio in TV-20241106-2027-0600.webxxl.h264_processed_part_14TEMP_MPY_wvf_snd.mp3\n"
          ]
        },
        {
          "metadata": {
            "tags": null
          },
          "name": "stderr",
          "output_type": "stream",
          "text": [
            ""
          ]
        },
        {
          "metadata": {
            "tags": null
          },
          "name": "stdout",
          "output_type": "stream",
          "text": [
            "MoviePy - Done.\n",
            "Moviepy - Writing video TV-20241106-2027-0600.webxxl.h264_processed_part_14.mp4\n",
            "\n"
          ]
        },
        {
          "metadata": {
            "tags": null
          },
          "name": "stderr",
          "output_type": "stream",
          "text": [
            ""
          ]
        },
        {
          "metadata": {
            "tags": null
          },
          "name": "stdout",
          "output_type": "stream",
          "text": [
            "Moviepy - Done !\n",
            "Moviepy - video ready TV-20241106-2027-0600.webxxl.h264_processed_part_14.mp4\n",
            "Moviepy - Building video TV-20241106-2027-0600.webxxl.h264_processed_part_15.mp4.\n",
            "MoviePy - Writing audio in TV-20241106-2027-0600.webxxl.h264_processed_part_15TEMP_MPY_wvf_snd.mp3\n"
          ]
        },
        {
          "metadata": {
            "tags": null
          },
          "name": "stderr",
          "output_type": "stream",
          "text": [
            ""
          ]
        },
        {
          "metadata": {
            "tags": null
          },
          "name": "stdout",
          "output_type": "stream",
          "text": [
            "MoviePy - Done.\n",
            "Moviepy - Writing video TV-20241106-2027-0600.webxxl.h264_processed_part_15.mp4\n",
            "\n"
          ]
        },
        {
          "metadata": {
            "tags": null
          },
          "name": "stderr",
          "output_type": "stream",
          "text": [
            ""
          ]
        },
        {
          "metadata": {
            "tags": null
          },
          "name": "stdout",
          "output_type": "stream",
          "text": [
            "Moviepy - Done !\n",
            "Moviepy - video ready TV-20241106-2027-0600.webxxl.h264_processed_part_15.mp4\n",
            "Moviepy - Building video TV-20241106-2027-0600.webxxl.h264_processed_part_16.mp4.\n",
            "MoviePy - Writing audio in TV-20241106-2027-0600.webxxl.h264_processed_part_16TEMP_MPY_wvf_snd.mp3\n"
          ]
        },
        {
          "metadata": {
            "tags": null
          },
          "name": "stderr",
          "output_type": "stream",
          "text": [
            ""
          ]
        },
        {
          "metadata": {
            "tags": null
          },
          "name": "stdout",
          "output_type": "stream",
          "text": [
            "MoviePy - Done.\n",
            "Moviepy - Writing video TV-20241106-2027-0600.webxxl.h264_processed_part_16.mp4\n",
            "\n"
          ]
        },
        {
          "metadata": {
            "tags": null
          },
          "name": "stderr",
          "output_type": "stream",
          "text": [
            ""
          ]
        },
        {
          "metadata": {
            "tags": null
          },
          "name": "stdout",
          "output_type": "stream",
          "text": [
            "Moviepy - Done !\n",
            "Moviepy - video ready TV-20241106-2027-0600.webxxl.h264_processed_part_16.mp4\n",
            "Moviepy - Building video TV-20241106-2027-0600.webxxl.h264_processed_part_17.mp4.\n",
            "MoviePy - Writing audio in TV-20241106-2027-0600.webxxl.h264_processed_part_17TEMP_MPY_wvf_snd.mp3\n"
          ]
        },
        {
          "metadata": {
            "tags": null
          },
          "name": "stderr",
          "output_type": "stream",
          "text": [
            ""
          ]
        },
        {
          "metadata": {
            "tags": null
          },
          "name": "stdout",
          "output_type": "stream",
          "text": [
            "MoviePy - Done.\n",
            "Moviepy - Writing video TV-20241106-2027-0600.webxxl.h264_processed_part_17.mp4\n",
            "\n"
          ]
        },
        {
          "metadata": {
            "tags": null
          },
          "name": "stderr",
          "output_type": "stream",
          "text": [
            ""
          ]
        },
        {
          "metadata": {
            "tags": null
          },
          "name": "stdout",
          "output_type": "stream",
          "text": [
            "Moviepy - Done !\n",
            "Moviepy - video ready TV-20241106-2027-0600.webxxl.h264_processed_part_17.mp4\n",
            "Moviepy - Building video TV-20241106-2027-0600.webxxl.h264_processed_part_18.mp4.\n",
            "MoviePy - Writing audio in TV-20241106-2027-0600.webxxl.h264_processed_part_18TEMP_MPY_wvf_snd.mp3\n"
          ]
        },
        {
          "metadata": {
            "tags": null
          },
          "name": "stderr",
          "output_type": "stream",
          "text": [
            ""
          ]
        },
        {
          "metadata": {
            "tags": null
          },
          "name": "stdout",
          "output_type": "stream",
          "text": [
            "MoviePy - Done.\n",
            "Moviepy - Writing video TV-20241106-2027-0600.webxxl.h264_processed_part_18.mp4\n",
            "\n"
          ]
        },
        {
          "metadata": {
            "tags": null
          },
          "name": "stderr",
          "output_type": "stream",
          "text": [
            ""
          ]
        },
        {
          "metadata": {
            "tags": null
          },
          "name": "stdout",
          "output_type": "stream",
          "text": [
            "Moviepy - Done !\n",
            "Moviepy - video ready TV-20241106-2027-0600.webxxl.h264_processed_part_18.mp4\n",
            "Moviepy - Building video TV-20241106-2027-0600.webxxl.h264_processed_part_19.mp4.\n",
            "MoviePy - Writing audio in TV-20241106-2027-0600.webxxl.h264_processed_part_19TEMP_MPY_wvf_snd.mp3\n"
          ]
        },
        {
          "metadata": {
            "tags": null
          },
          "name": "stderr",
          "output_type": "stream",
          "text": [
            ""
          ]
        },
        {
          "metadata": {
            "tags": null
          },
          "name": "stdout",
          "output_type": "stream",
          "text": [
            "MoviePy - Done.\n",
            "Moviepy - Writing video TV-20241106-2027-0600.webxxl.h264_processed_part_19.mp4\n",
            "\n"
          ]
        },
        {
          "metadata": {
            "tags": null
          },
          "name": "stderr",
          "output_type": "stream",
          "text": [
            ""
          ]
        },
        {
          "metadata": {
            "tags": null
          },
          "name": "stdout",
          "output_type": "stream",
          "text": [
            "Moviepy - Done !\n",
            "Moviepy - video ready TV-20241106-2027-0600.webxxl.h264_processed_part_19.mp4\n",
            "Moviepy - Building video TV-20241106-2027-0600.webxxl.h264_processed_part_20.mp4.\n",
            "MoviePy - Writing audio in TV-20241106-2027-0600.webxxl.h264_processed_part_20TEMP_MPY_wvf_snd.mp3\n"
          ]
        },
        {
          "metadata": {
            "tags": null
          },
          "name": "stderr",
          "output_type": "stream",
          "text": [
            ""
          ]
        },
        {
          "metadata": {
            "tags": null
          },
          "name": "stdout",
          "output_type": "stream",
          "text": [
            "MoviePy - Done.\n",
            "Moviepy - Writing video TV-20241106-2027-0600.webxxl.h264_processed_part_20.mp4\n",
            "\n"
          ]
        },
        {
          "metadata": {
            "tags": null
          },
          "name": "stderr",
          "output_type": "stream",
          "text": [
            ""
          ]
        },
        {
          "metadata": {
            "tags": null
          },
          "name": "stdout",
          "output_type": "stream",
          "text": [
            "Moviepy - Done !\n",
            "Moviepy - video ready TV-20241106-2027-0600.webxxl.h264_processed_part_20.mp4\n",
            "Moviepy - Building video TV-20241106-2027-0600.webxxl.h264_processed_part_21.mp4.\n",
            "MoviePy - Writing audio in TV-20241106-2027-0600.webxxl.h264_processed_part_21TEMP_MPY_wvf_snd.mp3\n"
          ]
        },
        {
          "metadata": {
            "tags": null
          },
          "name": "stderr",
          "output_type": "stream",
          "text": [
            ""
          ]
        },
        {
          "metadata": {
            "tags": null
          },
          "name": "stdout",
          "output_type": "stream",
          "text": [
            "MoviePy - Done.\n",
            "Moviepy - Writing video TV-20241106-2027-0600.webxxl.h264_processed_part_21.mp4\n",
            "\n"
          ]
        },
        {
          "metadata": {
            "tags": null
          },
          "name": "stderr",
          "output_type": "stream",
          "text": [
            ""
          ]
        },
        {
          "metadata": {
            "tags": null
          },
          "name": "stdout",
          "output_type": "stream",
          "text": [
            "Moviepy - Done !\n",
            "Moviepy - video ready TV-20241106-2027-0600.webxxl.h264_processed_part_21.mp4\n",
            "Moviepy - Building video TV-20241106-2027-0600.webxxl.h264_processed_part_22.mp4.\n",
            "MoviePy - Writing audio in TV-20241106-2027-0600.webxxl.h264_processed_part_22TEMP_MPY_wvf_snd.mp3\n"
          ]
        },
        {
          "metadata": {
            "tags": null
          },
          "name": "stderr",
          "output_type": "stream",
          "text": [
            ""
          ]
        },
        {
          "metadata": {
            "tags": null
          },
          "name": "stdout",
          "output_type": "stream",
          "text": [
            "MoviePy - Done.\n",
            "Moviepy - Writing video TV-20241106-2027-0600.webxxl.h264_processed_part_22.mp4\n",
            "\n"
          ]
        },
        {
          "metadata": {
            "tags": null
          },
          "name": "stderr",
          "output_type": "stream",
          "text": [
            ""
          ]
        },
        {
          "metadata": {
            "tags": null
          },
          "name": "stdout",
          "output_type": "stream",
          "text": [
            "Moviepy - Done !\n",
            "Moviepy - video ready TV-20241106-2027-0600.webxxl.h264_processed_part_22.mp4\n",
            "Moviepy - Building video TV-20241106-2027-0600.webxxl.h264_processed_part_23.mp4.\n",
            "MoviePy - Writing audio in TV-20241106-2027-0600.webxxl.h264_processed_part_23TEMP_MPY_wvf_snd.mp3\n"
          ]
        },
        {
          "metadata": {
            "tags": null
          },
          "name": "stderr",
          "output_type": "stream",
          "text": [
            ""
          ]
        },
        {
          "metadata": {
            "tags": null
          },
          "name": "stdout",
          "output_type": "stream",
          "text": [
            "MoviePy - Done.\n",
            "Moviepy - Writing video TV-20241106-2027-0600.webxxl.h264_processed_part_23.mp4\n",
            "\n"
          ]
        },
        {
          "metadata": {
            "tags": null
          },
          "name": "stderr",
          "output_type": "stream",
          "text": [
            ""
          ]
        },
        {
          "metadata": {
            "tags": null
          },
          "name": "stdout",
          "output_type": "stream",
          "text": [
            "Moviepy - Done !\n",
            "Moviepy - video ready TV-20241106-2027-0600.webxxl.h264_processed_part_23.mp4\n",
            "Moviepy - Building video TV-20241106-2027-0600.webxxl.h264_processed_part_24.mp4.\n",
            "MoviePy - Writing audio in TV-20241106-2027-0600.webxxl.h264_processed_part_24TEMP_MPY_wvf_snd.mp3\n"
          ]
        },
        {
          "metadata": {
            "tags": null
          },
          "name": "stderr",
          "output_type": "stream",
          "text": [
            ""
          ]
        },
        {
          "metadata": {
            "tags": null
          },
          "name": "stdout",
          "output_type": "stream",
          "text": [
            "MoviePy - Done.\n",
            "Moviepy - Writing video TV-20241106-2027-0600.webxxl.h264_processed_part_24.mp4\n",
            "\n"
          ]
        },
        {
          "metadata": {
            "tags": null
          },
          "name": "stderr",
          "output_type": "stream",
          "text": [
            ""
          ]
        },
        {
          "metadata": {
            "tags": null
          },
          "name": "stdout",
          "output_type": "stream",
          "text": [
            "Moviepy - Done !\n",
            "Moviepy - video ready TV-20241106-2027-0600.webxxl.h264_processed_part_24.mp4\n",
            "Moviepy - Building video TV-20241106-2027-0600.webxxl.h264_processed_part_25.mp4.\n",
            "MoviePy - Writing audio in TV-20241106-2027-0600.webxxl.h264_processed_part_25TEMP_MPY_wvf_snd.mp3\n"
          ]
        },
        {
          "metadata": {
            "tags": null
          },
          "name": "stderr",
          "output_type": "stream",
          "text": [
            ""
          ]
        },
        {
          "metadata": {
            "tags": null
          },
          "name": "stdout",
          "output_type": "stream",
          "text": [
            "MoviePy - Done.\n",
            "Moviepy - Writing video TV-20241106-2027-0600.webxxl.h264_processed_part_25.mp4\n",
            "\n"
          ]
        },
        {
          "metadata": {
            "tags": null
          },
          "name": "stderr",
          "output_type": "stream",
          "text": [
            ""
          ]
        },
        {
          "metadata": {
            "tags": null
          },
          "name": "stdout",
          "output_type": "stream",
          "text": [
            "Moviepy - Done !\n",
            "Moviepy - video ready TV-20241106-2027-0600.webxxl.h264_processed_part_25.mp4\n",
            "Moviepy - Building video TV-20241106-2027-0600.webxxl.h264_processed_part_26.mp4.\n",
            "MoviePy - Writing audio in TV-20241106-2027-0600.webxxl.h264_processed_part_26TEMP_MPY_wvf_snd.mp3\n"
          ]
        },
        {
          "metadata": {
            "tags": null
          },
          "name": "stderr",
          "output_type": "stream",
          "text": [
            ""
          ]
        },
        {
          "metadata": {
            "tags": null
          },
          "name": "stdout",
          "output_type": "stream",
          "text": [
            "MoviePy - Done.\n",
            "Moviepy - Writing video TV-20241106-2027-0600.webxxl.h264_processed_part_26.mp4\n",
            "\n"
          ]
        },
        {
          "metadata": {
            "tags": null
          },
          "name": "stderr",
          "output_type": "stream",
          "text": [
            ""
          ]
        },
        {
          "metadata": {
            "tags": null
          },
          "name": "stdout",
          "output_type": "stream",
          "text": [
            "Moviepy - Done !\n",
            "Moviepy - video ready TV-20241106-2027-0600.webxxl.h264_processed_part_26.mp4\n",
            "Moviepy - Building video TV-20241106-2027-0600.webxxl.h264_processed_part_27.mp4.\n",
            "MoviePy - Writing audio in TV-20241106-2027-0600.webxxl.h264_processed_part_27TEMP_MPY_wvf_snd.mp3\n"
          ]
        },
        {
          "metadata": {
            "tags": null
          },
          "name": "stderr",
          "output_type": "stream",
          "text": [
            ""
          ]
        },
        {
          "metadata": {
            "tags": null
          },
          "name": "stdout",
          "output_type": "stream",
          "text": [
            "MoviePy - Done.\n",
            "Moviepy - Writing video TV-20241106-2027-0600.webxxl.h264_processed_part_27.mp4\n",
            "\n"
          ]
        },
        {
          "metadata": {
            "tags": null
          },
          "name": "stderr",
          "output_type": "stream",
          "text": [
            ""
          ]
        },
        {
          "metadata": {
            "tags": null
          },
          "name": "stdout",
          "output_type": "stream",
          "text": [
            "Moviepy - Done !\n",
            "Moviepy - video ready TV-20241106-2027-0600.webxxl.h264_processed_part_27.mp4\n",
            "Moviepy - Building video TV-20241106-2027-0600.webxxl.h264_processed_part_28.mp4.\n",
            "MoviePy - Writing audio in TV-20241106-2027-0600.webxxl.h264_processed_part_28TEMP_MPY_wvf_snd.mp3\n"
          ]
        },
        {
          "metadata": {
            "tags": null
          },
          "name": "stderr",
          "output_type": "stream",
          "text": [
            ""
          ]
        },
        {
          "metadata": {
            "tags": null
          },
          "name": "stdout",
          "output_type": "stream",
          "text": [
            "MoviePy - Done.\n",
            "Moviepy - Writing video TV-20241106-2027-0600.webxxl.h264_processed_part_28.mp4\n",
            "\n"
          ]
        },
        {
          "metadata": {
            "tags": null
          },
          "name": "stderr",
          "output_type": "stream",
          "text": [
            ""
          ]
        },
        {
          "metadata": {
            "tags": null
          },
          "name": "stdout",
          "output_type": "stream",
          "text": [
            "Moviepy - Done !\n",
            "Moviepy - video ready TV-20241106-2027-0600.webxxl.h264_processed_part_28.mp4\n",
            "Moviepy - Building video TV-20241106-2027-0600.webxxl.h264_processed_part_29.mp4.\n",
            "MoviePy - Writing audio in TV-20241106-2027-0600.webxxl.h264_processed_part_29TEMP_MPY_wvf_snd.mp3\n"
          ]
        },
        {
          "metadata": {
            "tags": null
          },
          "name": "stderr",
          "output_type": "stream",
          "text": [
            ""
          ]
        },
        {
          "metadata": {
            "tags": null
          },
          "name": "stdout",
          "output_type": "stream",
          "text": [
            "MoviePy - Done.\n",
            "Moviepy - Writing video TV-20241106-2027-0600.webxxl.h264_processed_part_29.mp4\n",
            "\n"
          ]
        },
        {
          "metadata": {
            "tags": null
          },
          "name": "stderr",
          "output_type": "stream",
          "text": [
            ""
          ]
        },
        {
          "metadata": {
            "tags": null
          },
          "name": "stdout",
          "output_type": "stream",
          "text": [
            "Moviepy - Done !\n",
            "Moviepy - video ready TV-20241106-2027-0600.webxxl.h264_processed_part_29.mp4\n",
            "Moviepy - Building video TV-20241106-2027-0600.webxxl.h264_processed_part_30.mp4.\n",
            "MoviePy - Writing audio in TV-20241106-2027-0600.webxxl.h264_processed_part_30TEMP_MPY_wvf_snd.mp3\n"
          ]
        },
        {
          "metadata": {
            "tags": null
          },
          "name": "stderr",
          "output_type": "stream",
          "text": [
            ""
          ]
        },
        {
          "metadata": {
            "tags": null
          },
          "name": "stdout",
          "output_type": "stream",
          "text": [
            "MoviePy - Done.\n",
            "Moviepy - Writing video TV-20241106-2027-0600.webxxl.h264_processed_part_30.mp4\n",
            "\n"
          ]
        },
        {
          "metadata": {
            "tags": null
          },
          "name": "stderr",
          "output_type": "stream",
          "text": [
            ""
          ]
        },
        {
          "metadata": {
            "tags": null
          },
          "name": "stdout",
          "output_type": "stream",
          "text": [
            "Moviepy - Done !\n",
            "Moviepy - video ready TV-20241106-2027-0600.webxxl.h264_processed_part_30.mp4\n",
            "Moviepy - Building video TV-20241106-2027-0600.webxxl.h264_processed_part_31.mp4.\n",
            "MoviePy - Writing audio in TV-20241106-2027-0600.webxxl.h264_processed_part_31TEMP_MPY_wvf_snd.mp3\n"
          ]
        },
        {
          "metadata": {
            "tags": null
          },
          "name": "stderr",
          "output_type": "stream",
          "text": [
            ""
          ]
        },
        {
          "metadata": {
            "tags": null
          },
          "name": "stdout",
          "output_type": "stream",
          "text": [
            "MoviePy - Done.\n",
            "Moviepy - Writing video TV-20241106-2027-0600.webxxl.h264_processed_part_31.mp4\n",
            "\n"
          ]
        },
        {
          "metadata": {
            "tags": null
          },
          "name": "stderr",
          "output_type": "stream",
          "text": [
            ""
          ]
        },
        {
          "metadata": {
            "tags": null
          },
          "name": "stdout",
          "output_type": "stream",
          "text": [
            "Moviepy - Done !\n",
            "Moviepy - video ready TV-20241106-2027-0600.webxxl.h264_processed_part_31.mp4\n",
            "Moviepy - Building video TV-20241106-2027-0600.webxxl.h264_processed_part_32.mp4.\n",
            "MoviePy - Writing audio in TV-20241106-2027-0600.webxxl.h264_processed_part_32TEMP_MPY_wvf_snd.mp3\n"
          ]
        },
        {
          "metadata": {
            "tags": null
          },
          "name": "stderr",
          "output_type": "stream",
          "text": [
            ""
          ]
        },
        {
          "metadata": {
            "tags": null
          },
          "name": "stdout",
          "output_type": "stream",
          "text": [
            "MoviePy - Done.\n",
            "Moviepy - Writing video TV-20241106-2027-0600.webxxl.h264_processed_part_32.mp4\n",
            "\n"
          ]
        },
        {
          "metadata": {
            "tags": null
          },
          "name": "stderr",
          "output_type": "stream",
          "text": [
            ""
          ]
        },
        {
          "metadata": {
            "tags": null
          },
          "name": "stdout",
          "output_type": "stream",
          "text": [
            "Moviepy - Done !\n",
            "Moviepy - video ready TV-20241106-2027-0600.webxxl.h264_processed_part_32.mp4\n",
            "Moviepy - Building video TV-20241106-2027-0600.webxxl.h264_processed_part_33.mp4.\n",
            "MoviePy - Writing audio in TV-20241106-2027-0600.webxxl.h264_processed_part_33TEMP_MPY_wvf_snd.mp3\n"
          ]
        },
        {
          "metadata": {
            "tags": null
          },
          "name": "stderr",
          "output_type": "stream",
          "text": [
            ""
          ]
        },
        {
          "metadata": {
            "tags": null
          },
          "name": "stdout",
          "output_type": "stream",
          "text": [
            "MoviePy - Done.\n",
            "Moviepy - Writing video TV-20241106-2027-0600.webxxl.h264_processed_part_33.mp4\n",
            "\n"
          ]
        },
        {
          "metadata": {
            "tags": null
          },
          "name": "stderr",
          "output_type": "stream",
          "text": [
            ""
          ]
        },
        {
          "metadata": {
            "tags": null
          },
          "name": "stdout",
          "output_type": "stream",
          "text": [
            "Moviepy - Done !\n",
            "Moviepy - video ready TV-20241106-2027-0600.webxxl.h264_processed_part_33.mp4\n",
            "Moviepy - Building video TV-20241106-2027-0600.webxxl.h264_processed_part_34.mp4.\n",
            "MoviePy - Writing audio in TV-20241106-2027-0600.webxxl.h264_processed_part_34TEMP_MPY_wvf_snd.mp3\n"
          ]
        },
        {
          "metadata": {
            "tags": null
          },
          "name": "stderr",
          "output_type": "stream",
          "text": [
            ""
          ]
        },
        {
          "metadata": {
            "tags": null
          },
          "name": "stdout",
          "output_type": "stream",
          "text": [
            "MoviePy - Done.\n",
            "Moviepy - Writing video TV-20241106-2027-0600.webxxl.h264_processed_part_34.mp4\n",
            "\n"
          ]
        },
        {
          "metadata": {
            "tags": null
          },
          "name": "stderr",
          "output_type": "stream",
          "text": [
            ""
          ]
        },
        {
          "metadata": {
            "tags": null
          },
          "name": "stdout",
          "output_type": "stream",
          "text": [
            "Moviepy - Done !\n",
            "Moviepy - video ready TV-20241106-2027-0600.webxxl.h264_processed_part_34.mp4\n",
            "Moviepy - Building video TV-20241106-2027-0600.webxxl.h264_processed_part_35.mp4.\n",
            "MoviePy - Writing audio in TV-20241106-2027-0600.webxxl.h264_processed_part_35TEMP_MPY_wvf_snd.mp3\n"
          ]
        },
        {
          "metadata": {
            "tags": null
          },
          "name": "stderr",
          "output_type": "stream",
          "text": [
            ""
          ]
        },
        {
          "metadata": {
            "tags": null
          },
          "name": "stdout",
          "output_type": "stream",
          "text": [
            "MoviePy - Done.\n",
            "Moviepy - Writing video TV-20241106-2027-0600.webxxl.h264_processed_part_35.mp4\n",
            "\n"
          ]
        },
        {
          "metadata": {
            "tags": null
          },
          "name": "stderr",
          "output_type": "stream",
          "text": [
            ""
          ]
        },
        {
          "metadata": {
            "tags": null
          },
          "name": "stdout",
          "output_type": "stream",
          "text": [
            "Moviepy - Done !\n",
            "Moviepy - video ready TV-20241106-2027-0600.webxxl.h264_processed_part_35.mp4\n",
            "Moviepy - Building video TV-20241106-2027-0600.webxxl.h264_processed_part_36.mp4.\n",
            "MoviePy - Writing audio in TV-20241106-2027-0600.webxxl.h264_processed_part_36TEMP_MPY_wvf_snd.mp3\n"
          ]
        },
        {
          "metadata": {
            "tags": null
          },
          "name": "stderr",
          "output_type": "stream",
          "text": [
            ""
          ]
        },
        {
          "metadata": {
            "tags": null
          },
          "name": "stdout",
          "output_type": "stream",
          "text": [
            "MoviePy - Done.\n",
            "Moviepy - Writing video TV-20241106-2027-0600.webxxl.h264_processed_part_36.mp4\n",
            "\n"
          ]
        },
        {
          "metadata": {
            "tags": null
          },
          "name": "stderr",
          "output_type": "stream",
          "text": [
            ""
          ]
        },
        {
          "metadata": {
            "tags": null
          },
          "name": "stdout",
          "output_type": "stream",
          "text": [
            "Moviepy - Done !\n",
            "Moviepy - video ready TV-20241106-2027-0600.webxxl.h264_processed_part_36.mp4\n",
            "Moviepy - Building video TV-20241106-2027-0600.webxxl.h264_processed_part_37.mp4.\n",
            "MoviePy - Writing audio in TV-20241106-2027-0600.webxxl.h264_processed_part_37TEMP_MPY_wvf_snd.mp3\n"
          ]
        },
        {
          "metadata": {
            "tags": null
          },
          "name": "stderr",
          "output_type": "stream",
          "text": [
            ""
          ]
        },
        {
          "metadata": {
            "tags": null
          },
          "name": "stdout",
          "output_type": "stream",
          "text": [
            "MoviePy - Done.\n",
            "Moviepy - Writing video TV-20241106-2027-0600.webxxl.h264_processed_part_37.mp4\n",
            "\n"
          ]
        },
        {
          "metadata": {
            "tags": null
          },
          "name": "stderr",
          "output_type": "stream",
          "text": [
            ""
          ]
        },
        {
          "metadata": {
            "tags": null
          },
          "name": "stdout",
          "output_type": "stream",
          "text": [
            "Moviepy - Done !\n",
            "Moviepy - video ready TV-20241106-2027-0600.webxxl.h264_processed_part_37.mp4\n",
            "Moviepy - Building video TV-20241106-2027-0600.webxxl.h264_processed_part_38.mp4.\n",
            "MoviePy - Writing audio in TV-20241106-2027-0600.webxxl.h264_processed_part_38TEMP_MPY_wvf_snd.mp3\n"
          ]
        },
        {
          "metadata": {
            "tags": null
          },
          "name": "stderr",
          "output_type": "stream",
          "text": [
            ""
          ]
        },
        {
          "metadata": {
            "tags": null
          },
          "name": "stdout",
          "output_type": "stream",
          "text": [
            "MoviePy - Done.\n",
            "Moviepy - Writing video TV-20241106-2027-0600.webxxl.h264_processed_part_38.mp4\n",
            "\n"
          ]
        },
        {
          "metadata": {
            "tags": null
          },
          "name": "stderr",
          "output_type": "stream",
          "text": [
            ""
          ]
        },
        {
          "metadata": {
            "tags": null
          },
          "name": "stdout",
          "output_type": "stream",
          "text": [
            "Moviepy - Done !\n",
            "Moviepy - video ready TV-20241106-2027-0600.webxxl.h264_processed_part_38.mp4\n",
            "Moviepy - Building video TV-20241106-2027-0600.webxxl.h264_processed_part_39.mp4.\n",
            "MoviePy - Writing audio in TV-20241106-2027-0600.webxxl.h264_processed_part_39TEMP_MPY_wvf_snd.mp3\n"
          ]
        },
        {
          "metadata": {
            "tags": null
          },
          "name": "stderr",
          "output_type": "stream",
          "text": [
            ""
          ]
        },
        {
          "metadata": {
            "tags": null
          },
          "name": "stdout",
          "output_type": "stream",
          "text": [
            "MoviePy - Done.\n",
            "Moviepy - Writing video TV-20241106-2027-0600.webxxl.h264_processed_part_39.mp4\n",
            "\n"
          ]
        },
        {
          "metadata": {
            "tags": null
          },
          "name": "stderr",
          "output_type": "stream",
          "text": [
            ""
          ]
        },
        {
          "metadata": {
            "tags": null
          },
          "name": "stdout",
          "output_type": "stream",
          "text": [
            "Moviepy - Done !\n",
            "Moviepy - video ready TV-20241106-2027-0600.webxxl.h264_processed_part_39.mp4\n",
            "Moviepy - Building video TV-20241106-2027-0600.webxxl.h264_processed_part_40.mp4.\n",
            "MoviePy - Writing audio in TV-20241106-2027-0600.webxxl.h264_processed_part_40TEMP_MPY_wvf_snd.mp3\n"
          ]
        },
        {
          "metadata": {
            "tags": null
          },
          "name": "stderr",
          "output_type": "stream",
          "text": [
            ""
          ]
        },
        {
          "metadata": {
            "tags": null
          },
          "name": "stdout",
          "output_type": "stream",
          "text": [
            "MoviePy - Done.\n",
            "Moviepy - Writing video TV-20241106-2027-0600.webxxl.h264_processed_part_40.mp4\n",
            "\n"
          ]
        },
        {
          "metadata": {
            "tags": null
          },
          "name": "stderr",
          "output_type": "stream",
          "text": [
            ""
          ]
        },
        {
          "metadata": {
            "tags": null
          },
          "name": "stdout",
          "output_type": "stream",
          "text": [
            "Moviepy - Done !\n",
            "Moviepy - video ready TV-20241106-2027-0600.webxxl.h264_processed_part_40.mp4\n",
            "Moviepy - Building video TV-20241106-2027-0600.webxxl.h264_processed_part_41.mp4.\n",
            "MoviePy - Writing audio in TV-20241106-2027-0600.webxxl.h264_processed_part_41TEMP_MPY_wvf_snd.mp3\n"
          ]
        },
        {
          "metadata": {
            "tags": null
          },
          "name": "stderr",
          "output_type": "stream",
          "text": [
            ""
          ]
        },
        {
          "metadata": {
            "tags": null
          },
          "name": "stdout",
          "output_type": "stream",
          "text": [
            "MoviePy - Done.\n",
            "Moviepy - Writing video TV-20241106-2027-0600.webxxl.h264_processed_part_41.mp4\n",
            "\n"
          ]
        },
        {
          "metadata": {
            "tags": null
          },
          "name": "stderr",
          "output_type": "stream",
          "text": [
            ""
          ]
        },
        {
          "metadata": {
            "tags": null
          },
          "name": "stdout",
          "output_type": "stream",
          "text": [
            "Moviepy - Done !\n",
            "Moviepy - video ready TV-20241106-2027-0600.webxxl.h264_processed_part_41.mp4\n",
            "Moviepy - Building video TV-20241106-2027-0600.webxxl.h264_processed_part_42.mp4.\n",
            "MoviePy - Writing audio in TV-20241106-2027-0600.webxxl.h264_processed_part_42TEMP_MPY_wvf_snd.mp3\n"
          ]
        },
        {
          "metadata": {
            "tags": null
          },
          "name": "stderr",
          "output_type": "stream",
          "text": [
            ""
          ]
        },
        {
          "metadata": {
            "tags": null
          },
          "name": "stdout",
          "output_type": "stream",
          "text": [
            "MoviePy - Done.\n",
            "Moviepy - Writing video TV-20241106-2027-0600.webxxl.h264_processed_part_42.mp4\n",
            "\n"
          ]
        },
        {
          "metadata": {
            "tags": null
          },
          "name": "stderr",
          "output_type": "stream",
          "text": [
            ""
          ]
        },
        {
          "metadata": {
            "tags": null
          },
          "name": "stdout",
          "output_type": "stream",
          "text": [
            "Moviepy - Done !\n",
            "Moviepy - video ready TV-20241106-2027-0600.webxxl.h264_processed_part_42.mp4\n",
            "Moviepy - Building video TV-20241106-2027-0600.webxxl.h264_processed_part_43.mp4.\n",
            "MoviePy - Writing audio in TV-20241106-2027-0600.webxxl.h264_processed_part_43TEMP_MPY_wvf_snd.mp3\n"
          ]
        },
        {
          "metadata": {
            "tags": null
          },
          "name": "stderr",
          "output_type": "stream",
          "text": [
            ""
          ]
        },
        {
          "metadata": {
            "tags": null
          },
          "name": "stdout",
          "output_type": "stream",
          "text": [
            "MoviePy - Done.\n",
            "Moviepy - Writing video TV-20241106-2027-0600.webxxl.h264_processed_part_43.mp4\n",
            "\n"
          ]
        },
        {
          "metadata": {
            "tags": null
          },
          "name": "stderr",
          "output_type": "stream",
          "text": [
            ""
          ]
        },
        {
          "metadata": {
            "tags": null
          },
          "name": "stdout",
          "output_type": "stream",
          "text": [
            "Moviepy - Done !\n",
            "Moviepy - video ready TV-20241106-2027-0600.webxxl.h264_processed_part_43.mp4\n",
            "Moviepy - Building video TV-20241106-2027-0600.webxxl.h264_processed_part_44.mp4.\n",
            "MoviePy - Writing audio in TV-20241106-2027-0600.webxxl.h264_processed_part_44TEMP_MPY_wvf_snd.mp3\n"
          ]
        },
        {
          "metadata": {
            "tags": null
          },
          "name": "stderr",
          "output_type": "stream",
          "text": [
            ""
          ]
        },
        {
          "metadata": {
            "tags": null
          },
          "name": "stdout",
          "output_type": "stream",
          "text": [
            "MoviePy - Done.\n",
            "Moviepy - Writing video TV-20241106-2027-0600.webxxl.h264_processed_part_44.mp4\n",
            "\n"
          ]
        },
        {
          "metadata": {
            "tags": null
          },
          "name": "stderr",
          "output_type": "stream",
          "text": [
            ""
          ]
        },
        {
          "metadata": {
            "tags": null
          },
          "name": "stdout",
          "output_type": "stream",
          "text": [
            "Moviepy - Done !\n",
            "Moviepy - video ready TV-20241106-2027-0600.webxxl.h264_processed_part_44.mp4\n",
            "Moviepy - Building video TV-20241106-2027-0600.webxxl.h264_processed_part_45.mp4.\n",
            "MoviePy - Writing audio in TV-20241106-2027-0600.webxxl.h264_processed_part_45TEMP_MPY_wvf_snd.mp3\n"
          ]
        },
        {
          "metadata": {
            "tags": null
          },
          "name": "stderr",
          "output_type": "stream",
          "text": [
            ""
          ]
        },
        {
          "metadata": {
            "tags": null
          },
          "name": "stdout",
          "output_type": "stream",
          "text": [
            "MoviePy - Done.\n",
            "Moviepy - Writing video TV-20241106-2027-0600.webxxl.h264_processed_part_45.mp4\n",
            "\n"
          ]
        },
        {
          "metadata": {
            "tags": null
          },
          "name": "stderr",
          "output_type": "stream",
          "text": [
            ""
          ]
        },
        {
          "metadata": {
            "tags": null
          },
          "name": "stdout",
          "output_type": "stream",
          "text": [
            "Moviepy - Done !\n",
            "Moviepy - video ready TV-20241106-2027-0600.webxxl.h264_processed_part_45.mp4\n",
            "Moviepy - Building video TV-20241106-2027-0600.webxxl.h264_processed_part_46.mp4.\n",
            "MoviePy - Writing audio in TV-20241106-2027-0600.webxxl.h264_processed_part_46TEMP_MPY_wvf_snd.mp3\n"
          ]
        },
        {
          "metadata": {
            "tags": null
          },
          "name": "stderr",
          "output_type": "stream",
          "text": [
            ""
          ]
        },
        {
          "metadata": {
            "tags": null
          },
          "name": "stdout",
          "output_type": "stream",
          "text": [
            "MoviePy - Done.\n",
            "Moviepy - Writing video TV-20241106-2027-0600.webxxl.h264_processed_part_46.mp4\n",
            "\n"
          ]
        },
        {
          "metadata": {
            "tags": null
          },
          "name": "stderr",
          "output_type": "stream",
          "text": [
            ""
          ]
        },
        {
          "metadata": {
            "tags": null
          },
          "name": "stdout",
          "output_type": "stream",
          "text": [
            "Moviepy - Done !\n",
            "Moviepy - video ready TV-20241106-2027-0600.webxxl.h264_processed_part_46.mp4\n",
            "Moviepy - Building video TV-20241106-2027-0600.webxxl.h264_processed_part_47.mp4.\n",
            "MoviePy - Writing audio in TV-20241106-2027-0600.webxxl.h264_processed_part_47TEMP_MPY_wvf_snd.mp3\n"
          ]
        },
        {
          "metadata": {
            "tags": null
          },
          "name": "stderr",
          "output_type": "stream",
          "text": [
            ""
          ]
        },
        {
          "metadata": {
            "tags": null
          },
          "name": "stdout",
          "output_type": "stream",
          "text": [
            "MoviePy - Done.\n",
            "Moviepy - Writing video TV-20241106-2027-0600.webxxl.h264_processed_part_47.mp4\n",
            "\n"
          ]
        },
        {
          "metadata": {
            "tags": null
          },
          "name": "stderr",
          "output_type": "stream",
          "text": [
            ""
          ]
        },
        {
          "metadata": {
            "tags": null
          },
          "name": "stdout",
          "output_type": "stream",
          "text": [
            "Moviepy - Done !\n",
            "Moviepy - video ready TV-20241106-2027-0600.webxxl.h264_processed_part_47.mp4\n",
            "Moviepy - Building video TV-20241106-2027-0600.webxxl.h264_processed_part_48.mp4.\n",
            "MoviePy - Writing audio in TV-20241106-2027-0600.webxxl.h264_processed_part_48TEMP_MPY_wvf_snd.mp3\n"
          ]
        },
        {
          "metadata": {
            "tags": null
          },
          "name": "stderr",
          "output_type": "stream",
          "text": [
            ""
          ]
        },
        {
          "metadata": {
            "tags": null
          },
          "name": "stdout",
          "output_type": "stream",
          "text": [
            "MoviePy - Done.\n",
            "Moviepy - Writing video TV-20241106-2027-0600.webxxl.h264_processed_part_48.mp4\n",
            "\n"
          ]
        },
        {
          "metadata": {
            "tags": null
          },
          "name": "stderr",
          "output_type": "stream",
          "text": [
            ""
          ]
        },
        {
          "metadata": {
            "tags": null
          },
          "name": "stdout",
          "output_type": "stream",
          "text": [
            "Moviepy - Done !\n",
            "Moviepy - video ready TV-20241106-2027-0600.webxxl.h264_processed_part_48.mp4\n",
            "Moviepy - Building video TV-20241106-2027-0600.webxxl.h264_processed_part_49.mp4.\n",
            "MoviePy - Writing audio in TV-20241106-2027-0600.webxxl.h264_processed_part_49TEMP_MPY_wvf_snd.mp3\n"
          ]
        },
        {
          "metadata": {
            "tags": null
          },
          "name": "stderr",
          "output_type": "stream",
          "text": [
            ""
          ]
        },
        {
          "metadata": {
            "tags": null
          },
          "name": "stdout",
          "output_type": "stream",
          "text": [
            "MoviePy - Done.\n",
            "Moviepy - Writing video TV-20241106-2027-0600.webxxl.h264_processed_part_49.mp4\n",
            "\n"
          ]
        },
        {
          "output_type": "stream",
          "name": "stderr",
          "text": []
        },
        {
          "output_type": "stream",
          "name": "stdout",
          "text": [
            "Moviepy - Done !\n",
            "Moviepy - video ready TV-20241106-2027-0600.webxxl.h264_processed_part_49.mp4\n",
            "Moviepy - Building video TV-20241106-2027-0600.webxxl.h264_processed_part_50.mp4.\n",
            "MoviePy - Writing audio in TV-20241106-2027-0600.webxxl.h264_processed_part_50TEMP_MPY_wvf_snd.mp3\n"
          ]
        },
        {
          "output_type": "stream",
          "name": "stderr",
          "text": []
        },
        {
          "output_type": "stream",
          "name": "stdout",
          "text": [
            "MoviePy - Done.\n",
            "Moviepy - Writing video TV-20241106-2027-0600.webxxl.h264_processed_part_50.mp4\n",
            "\n"
          ]
        },
        {
          "output_type": "stream",
          "name": "stderr",
          "text": []
        },
        {
          "output_type": "stream",
          "name": "stdout",
          "text": [
            "Moviepy - Done !\n",
            "Moviepy - video ready TV-20241106-2027-0600.webxxl.h264_processed_part_50.mp4\n",
            "Moviepy - Building video TV-20241106-2027-0600.webxxl.h264_processed_part_51.mp4.\n",
            "MoviePy - Writing audio in TV-20241106-2027-0600.webxxl.h264_processed_part_51TEMP_MPY_wvf_snd.mp3\n"
          ]
        },
        {
          "output_type": "stream",
          "name": "stderr",
          "text": []
        },
        {
          "output_type": "stream",
          "name": "stdout",
          "text": [
            "MoviePy - Done.\n",
            "Moviepy - Writing video TV-20241106-2027-0600.webxxl.h264_processed_part_51.mp4\n",
            "\n"
          ]
        },
        {
          "output_type": "stream",
          "name": "stderr",
          "text": []
        },
        {
          "output_type": "stream",
          "name": "stdout",
          "text": [
            "Moviepy - Done !\n",
            "Moviepy - video ready TV-20241106-2027-0600.webxxl.h264_processed_part_51.mp4\n",
            "Moviepy - Building video TV-20241106-2027-0600.webxxl.h264_processed_part_52.mp4.\n",
            "MoviePy - Writing audio in TV-20241106-2027-0600.webxxl.h264_processed_part_52TEMP_MPY_wvf_snd.mp3\n"
          ]
        },
        {
          "output_type": "stream",
          "name": "stderr",
          "text": []
        },
        {
          "output_type": "stream",
          "name": "stdout",
          "text": [
            "MoviePy - Done.\n",
            "Moviepy - Writing video TV-20241106-2027-0600.webxxl.h264_processed_part_52.mp4\n",
            "\n"
          ]
        },
        {
          "output_type": "stream",
          "name": "stderr",
          "text": []
        },
        {
          "output_type": "stream",
          "name": "stdout",
          "text": [
            "Moviepy - Done !\n",
            "Moviepy - video ready TV-20241106-2027-0600.webxxl.h264_processed_part_52.mp4\n",
            "Moviepy - Building video TV-20241106-2027-0600.webxxl.h264_processed_part_53.mp4.\n",
            "MoviePy - Writing audio in TV-20241106-2027-0600.webxxl.h264_processed_part_53TEMP_MPY_wvf_snd.mp3\n"
          ]
        },
        {
          "output_type": "stream",
          "name": "stderr",
          "text": []
        },
        {
          "output_type": "stream",
          "name": "stdout",
          "text": [
            "MoviePy - Done.\n",
            "Moviepy - Writing video TV-20241106-2027-0600.webxxl.h264_processed_part_53.mp4\n",
            "\n"
          ]
        },
        {
          "output_type": "stream",
          "name": "stderr",
          "text": []
        },
        {
          "output_type": "stream",
          "name": "stdout",
          "text": [
            "Moviepy - Done !\n",
            "Moviepy - video ready TV-20241106-2027-0600.webxxl.h264_processed_part_53.mp4\n",
            "Moviepy - Building video TV-20241106-2027-0600.webxxl.h264_processed_part_54.mp4.\n",
            "MoviePy - Writing audio in TV-20241106-2027-0600.webxxl.h264_processed_part_54TEMP_MPY_wvf_snd.mp3\n"
          ]
        },
        {
          "output_type": "stream",
          "name": "stderr",
          "text": []
        },
        {
          "output_type": "stream",
          "name": "stdout",
          "text": [
            "MoviePy - Done.\n",
            "Moviepy - Writing video TV-20241106-2027-0600.webxxl.h264_processed_part_54.mp4\n",
            "\n"
          ]
        },
        {
          "output_type": "stream",
          "name": "stderr",
          "text": []
        },
        {
          "output_type": "stream",
          "name": "stdout",
          "text": [
            "Moviepy - Done !\n",
            "Moviepy - video ready TV-20241106-2027-0600.webxxl.h264_processed_part_54.mp4\n",
            "Moviepy - Building video TV-20241106-2027-0600.webxxl.h264_processed_part_55.mp4.\n",
            "MoviePy - Writing audio in TV-20241106-2027-0600.webxxl.h264_processed_part_55TEMP_MPY_wvf_snd.mp3\n"
          ]
        },
        {
          "output_type": "stream",
          "name": "stderr",
          "text": []
        },
        {
          "output_type": "stream",
          "name": "stdout",
          "text": [
            "MoviePy - Done.\n",
            "Moviepy - Writing video TV-20241106-2027-0600.webxxl.h264_processed_part_55.mp4\n",
            "\n"
          ]
        },
        {
          "output_type": "stream",
          "name": "stderr",
          "text": []
        },
        {
          "output_type": "stream",
          "name": "stdout",
          "text": [
            "Moviepy - Done !\n",
            "Moviepy - video ready TV-20241106-2027-0600.webxxl.h264_processed_part_55.mp4\n",
            "Moviepy - Building video TV-20241106-2027-0600.webxxl.h264_processed_part_56.mp4.\n",
            "MoviePy - Writing audio in TV-20241106-2027-0600.webxxl.h264_processed_part_56TEMP_MPY_wvf_snd.mp3\n"
          ]
        },
        {
          "output_type": "stream",
          "name": "stderr",
          "text": []
        },
        {
          "output_type": "stream",
          "name": "stdout",
          "text": [
            "MoviePy - Done.\n",
            "Moviepy - Writing video TV-20241106-2027-0600.webxxl.h264_processed_part_56.mp4\n",
            "\n"
          ]
        },
        {
          "output_type": "stream",
          "name": "stderr",
          "text": []
        },
        {
          "output_type": "stream",
          "name": "stdout",
          "text": [
            "Moviepy - Done !\n",
            "Moviepy - video ready TV-20241106-2027-0600.webxxl.h264_processed_part_56.mp4\n",
            "Moviepy - Building video TV-20241106-2027-0600.webxxl.h264_processed_part_57.mp4.\n",
            "MoviePy - Writing audio in TV-20241106-2027-0600.webxxl.h264_processed_part_57TEMP_MPY_wvf_snd.mp3\n"
          ]
        },
        {
          "output_type": "stream",
          "name": "stderr",
          "text": []
        },
        {
          "output_type": "stream",
          "name": "stdout",
          "text": [
            "MoviePy - Done.\n",
            "Moviepy - Writing video TV-20241106-2027-0600.webxxl.h264_processed_part_57.mp4\n",
            "\n"
          ]
        },
        {
          "output_type": "stream",
          "name": "stderr",
          "text": []
        },
        {
          "output_type": "stream",
          "name": "stdout",
          "text": [
            "Moviepy - Done !\n",
            "Moviepy - video ready TV-20241106-2027-0600.webxxl.h264_processed_part_57.mp4\n",
            "Moviepy - Building video TV-20241106-2027-0600.webxxl.h264_processed_part_58.mp4.\n",
            "MoviePy - Writing audio in TV-20241106-2027-0600.webxxl.h264_processed_part_58TEMP_MPY_wvf_snd.mp3\n"
          ]
        },
        {
          "output_type": "stream",
          "name": "stderr",
          "text": []
        },
        {
          "output_type": "stream",
          "name": "stdout",
          "text": [
            "MoviePy - Done.\n",
            "Moviepy - Writing video TV-20241106-2027-0600.webxxl.h264_processed_part_58.mp4\n",
            "\n"
          ]
        },
        {
          "output_type": "stream",
          "name": "stderr",
          "text": []
        },
        {
          "output_type": "stream",
          "name": "stdout",
          "text": [
            "Moviepy - Done !\n",
            "Moviepy - video ready TV-20241106-2027-0600.webxxl.h264_processed_part_58.mp4\n",
            "Moviepy - Building video TV-20241106-2027-0600.webxxl.h264_processed_part_59.mp4.\n",
            "MoviePy - Writing audio in TV-20241106-2027-0600.webxxl.h264_processed_part_59TEMP_MPY_wvf_snd.mp3\n"
          ]
        },
        {
          "output_type": "stream",
          "name": "stderr",
          "text": []
        },
        {
          "output_type": "stream",
          "name": "stdout",
          "text": [
            "MoviePy - Done.\n",
            "Moviepy - Writing video TV-20241106-2027-0600.webxxl.h264_processed_part_59.mp4\n",
            "\n"
          ]
        },
        {
          "output_type": "stream",
          "name": "stderr",
          "text": []
        },
        {
          "output_type": "stream",
          "name": "stdout",
          "text": [
            "Moviepy - Done !\n",
            "Moviepy - video ready TV-20241106-2027-0600.webxxl.h264_processed_part_59.mp4\n",
            "Moviepy - Building video TV-20241106-2027-0600.webxxl.h264_processed_part_60.mp4.\n",
            "MoviePy - Writing audio in TV-20241106-2027-0600.webxxl.h264_processed_part_60TEMP_MPY_wvf_snd.mp3\n"
          ]
        },
        {
          "output_type": "stream",
          "name": "stderr",
          "text": []
        },
        {
          "output_type": "stream",
          "name": "stdout",
          "text": [
            "MoviePy - Done.\n",
            "Moviepy - Writing video TV-20241106-2027-0600.webxxl.h264_processed_part_60.mp4\n",
            "\n"
          ]
        },
        {
          "output_type": "stream",
          "name": "stderr",
          "text": []
        },
        {
          "output_type": "stream",
          "name": "stdout",
          "text": [
            "Moviepy - Done !\n",
            "Moviepy - video ready TV-20241106-2027-0600.webxxl.h264_processed_part_60.mp4\n",
            "Moviepy - Building video TV-20241106-2027-0600.webxxl.h264_processed_part_61.mp4.\n",
            "MoviePy - Writing audio in TV-20241106-2027-0600.webxxl.h264_processed_part_61TEMP_MPY_wvf_snd.mp3\n"
          ]
        },
        {
          "output_type": "stream",
          "name": "stderr",
          "text": []
        },
        {
          "output_type": "stream",
          "name": "stdout",
          "text": [
            "MoviePy - Done.\n",
            "Moviepy - Writing video TV-20241106-2027-0600.webxxl.h264_processed_part_61.mp4\n",
            "\n"
          ]
        },
        {
          "output_type": "stream",
          "name": "stderr",
          "text": []
        },
        {
          "output_type": "stream",
          "name": "stdout",
          "text": [
            "Moviepy - Done !\n",
            "Moviepy - video ready TV-20241106-2027-0600.webxxl.h264_processed_part_61.mp4\n",
            "Moviepy - Building video TV-20241106-2027-0600.webxxl.h264_processed_part_62.mp4.\n",
            "MoviePy - Writing audio in TV-20241106-2027-0600.webxxl.h264_processed_part_62TEMP_MPY_wvf_snd.mp3\n"
          ]
        },
        {
          "output_type": "stream",
          "name": "stderr",
          "text": []
        },
        {
          "output_type": "stream",
          "name": "stdout",
          "text": [
            "MoviePy - Done.\n",
            "Moviepy - Writing video TV-20241106-2027-0600.webxxl.h264_processed_part_62.mp4\n",
            "\n"
          ]
        },
        {
          "output_type": "stream",
          "name": "stderr",
          "text": []
        },
        {
          "output_type": "stream",
          "name": "stdout",
          "text": [
            "Moviepy - Done !\n",
            "Moviepy - video ready TV-20241106-2027-0600.webxxl.h264_processed_part_62.mp4\n",
            "Moviepy - Building video TV-20241106-2027-0600.webxxl.h264_processed_part_63.mp4.\n",
            "MoviePy - Writing audio in TV-20241106-2027-0600.webxxl.h264_processed_part_63TEMP_MPY_wvf_snd.mp3\n"
          ]
        },
        {
          "output_type": "stream",
          "name": "stderr",
          "text": []
        },
        {
          "output_type": "stream",
          "name": "stdout",
          "text": [
            "MoviePy - Done.\n",
            "Moviepy - Writing video TV-20241106-2027-0600.webxxl.h264_processed_part_63.mp4\n",
            "\n"
          ]
        },
        {
          "output_type": "stream",
          "name": "stderr",
          "text": []
        },
        {
          "output_type": "stream",
          "name": "stdout",
          "text": [
            "Moviepy - Done !\n",
            "Moviepy - video ready TV-20241106-2027-0600.webxxl.h264_processed_part_63.mp4\n"
          ]
        }
      ]
    },
    {
      "cell_type": "code",
      "source": [
        "!pip install -q mediapipe"
      ],
      "metadata": {
        "colab": {
          "base_uri": "https://localhost:8080/"
        },
        "id": "BtMfNVNAjO8_",
        "outputId": "fbc80bc6-3364-4891-cc9b-72b3a52be95f"
      },
      "execution_count": null,
      "outputs": [
        {
          "output_type": "stream",
          "name": "stdout",
          "text": [
            "\u001b[2K   \u001b[90m━━━━━━━━━━━━━━━━━━━━━━━━━━━━━━━━━━━━━━━━\u001b[0m \u001b[32m36.1/36.1 MB\u001b[0m \u001b[31m26.3 MB/s\u001b[0m eta \u001b[36m0:00:00\u001b[0m\n",
            "\u001b[?25h"
          ]
        }
      ]
    },
    {
      "cell_type": "code",
      "source": [
        "# Example list of video files. Replace with your actual paths.\n",
        "video_files = [f\"TV-20241106-2027-0600.webxxl.h264_processed_part_{i}.mp4\" for i in range(1,64)]"
      ],
      "metadata": {
        "id": "Q9k6k0XVjfh3"
      },
      "execution_count": null,
      "outputs": []
    },
    {
      "cell_type": "code",
      "source": [
        "video_files"
      ],
      "metadata": {
        "colab": {
          "base_uri": "https://localhost:8080/"
        },
        "id": "VXw2_TbSjvfI",
        "outputId": "54467eb6-977f-49bc-8291-4a16772824d4"
      },
      "execution_count": null,
      "outputs": [
        {
          "output_type": "execute_result",
          "data": {
            "text/plain": [
              "['TV-20241106-2027-0600.webxxl.h264_processed_part_1.mp4',\n",
              " 'TV-20241106-2027-0600.webxxl.h264_processed_part_2.mp4',\n",
              " 'TV-20241106-2027-0600.webxxl.h264_processed_part_3.mp4',\n",
              " 'TV-20241106-2027-0600.webxxl.h264_processed_part_4.mp4',\n",
              " 'TV-20241106-2027-0600.webxxl.h264_processed_part_5.mp4',\n",
              " 'TV-20241106-2027-0600.webxxl.h264_processed_part_6.mp4',\n",
              " 'TV-20241106-2027-0600.webxxl.h264_processed_part_7.mp4',\n",
              " 'TV-20241106-2027-0600.webxxl.h264_processed_part_8.mp4',\n",
              " 'TV-20241106-2027-0600.webxxl.h264_processed_part_9.mp4',\n",
              " 'TV-20241106-2027-0600.webxxl.h264_processed_part_10.mp4',\n",
              " 'TV-20241106-2027-0600.webxxl.h264_processed_part_11.mp4',\n",
              " 'TV-20241106-2027-0600.webxxl.h264_processed_part_12.mp4',\n",
              " 'TV-20241106-2027-0600.webxxl.h264_processed_part_13.mp4',\n",
              " 'TV-20241106-2027-0600.webxxl.h264_processed_part_14.mp4',\n",
              " 'TV-20241106-2027-0600.webxxl.h264_processed_part_15.mp4',\n",
              " 'TV-20241106-2027-0600.webxxl.h264_processed_part_16.mp4',\n",
              " 'TV-20241106-2027-0600.webxxl.h264_processed_part_17.mp4',\n",
              " 'TV-20241106-2027-0600.webxxl.h264_processed_part_18.mp4',\n",
              " 'TV-20241106-2027-0600.webxxl.h264_processed_part_19.mp4',\n",
              " 'TV-20241106-2027-0600.webxxl.h264_processed_part_20.mp4',\n",
              " 'TV-20241106-2027-0600.webxxl.h264_processed_part_21.mp4',\n",
              " 'TV-20241106-2027-0600.webxxl.h264_processed_part_22.mp4',\n",
              " 'TV-20241106-2027-0600.webxxl.h264_processed_part_23.mp4',\n",
              " 'TV-20241106-2027-0600.webxxl.h264_processed_part_24.mp4',\n",
              " 'TV-20241106-2027-0600.webxxl.h264_processed_part_25.mp4',\n",
              " 'TV-20241106-2027-0600.webxxl.h264_processed_part_26.mp4',\n",
              " 'TV-20241106-2027-0600.webxxl.h264_processed_part_27.mp4',\n",
              " 'TV-20241106-2027-0600.webxxl.h264_processed_part_28.mp4',\n",
              " 'TV-20241106-2027-0600.webxxl.h264_processed_part_29.mp4',\n",
              " 'TV-20241106-2027-0600.webxxl.h264_processed_part_30.mp4',\n",
              " 'TV-20241106-2027-0600.webxxl.h264_processed_part_31.mp4',\n",
              " 'TV-20241106-2027-0600.webxxl.h264_processed_part_32.mp4',\n",
              " 'TV-20241106-2027-0600.webxxl.h264_processed_part_33.mp4',\n",
              " 'TV-20241106-2027-0600.webxxl.h264_processed_part_34.mp4',\n",
              " 'TV-20241106-2027-0600.webxxl.h264_processed_part_35.mp4',\n",
              " 'TV-20241106-2027-0600.webxxl.h264_processed_part_36.mp4',\n",
              " 'TV-20241106-2027-0600.webxxl.h264_processed_part_37.mp4',\n",
              " 'TV-20241106-2027-0600.webxxl.h264_processed_part_38.mp4',\n",
              " 'TV-20241106-2027-0600.webxxl.h264_processed_part_39.mp4',\n",
              " 'TV-20241106-2027-0600.webxxl.h264_processed_part_40.mp4',\n",
              " 'TV-20241106-2027-0600.webxxl.h264_processed_part_41.mp4',\n",
              " 'TV-20241106-2027-0600.webxxl.h264_processed_part_42.mp4',\n",
              " 'TV-20241106-2027-0600.webxxl.h264_processed_part_43.mp4',\n",
              " 'TV-20241106-2027-0600.webxxl.h264_processed_part_44.mp4',\n",
              " 'TV-20241106-2027-0600.webxxl.h264_processed_part_45.mp4',\n",
              " 'TV-20241106-2027-0600.webxxl.h264_processed_part_46.mp4',\n",
              " 'TV-20241106-2027-0600.webxxl.h264_processed_part_47.mp4',\n",
              " 'TV-20241106-2027-0600.webxxl.h264_processed_part_48.mp4',\n",
              " 'TV-20241106-2027-0600.webxxl.h264_processed_part_49.mp4',\n",
              " 'TV-20241106-2027-0600.webxxl.h264_processed_part_50.mp4',\n",
              " 'TV-20241106-2027-0600.webxxl.h264_processed_part_51.mp4',\n",
              " 'TV-20241106-2027-0600.webxxl.h264_processed_part_52.mp4',\n",
              " 'TV-20241106-2027-0600.webxxl.h264_processed_part_53.mp4',\n",
              " 'TV-20241106-2027-0600.webxxl.h264_processed_part_54.mp4',\n",
              " 'TV-20241106-2027-0600.webxxl.h264_processed_part_55.mp4',\n",
              " 'TV-20241106-2027-0600.webxxl.h264_processed_part_56.mp4',\n",
              " 'TV-20241106-2027-0600.webxxl.h264_processed_part_57.mp4',\n",
              " 'TV-20241106-2027-0600.webxxl.h264_processed_part_58.mp4',\n",
              " 'TV-20241106-2027-0600.webxxl.h264_processed_part_59.mp4',\n",
              " 'TV-20241106-2027-0600.webxxl.h264_processed_part_60.mp4',\n",
              " 'TV-20241106-2027-0600.webxxl.h264_processed_part_61.mp4',\n",
              " 'TV-20241106-2027-0600.webxxl.h264_processed_part_62.mp4',\n",
              " 'TV-20241106-2027-0600.webxxl.h264_processed_part_63.mp4']"
            ]
          },
          "metadata": {},
          "execution_count": 34
        }
      ]
    },
    {
      "cell_type": "code",
      "source": [
        "import cv2\n",
        "import json\n",
        "import mediapipe as mp\n",
        "import os\n",
        "\n",
        "def extract_landmarks_from_right_half(video_path):\n",
        "    # Initialize MediaPipe Holistic\n",
        "    mp_holistic = mp.solutions.holistic\n",
        "    with mp_holistic.Holistic(\n",
        "        static_image_mode=False,\n",
        "        model_complexity=2,\n",
        "        smooth_landmarks=True,\n",
        "        enable_segmentation=False,\n",
        "        refine_face_landmarks=True,\n",
        "        min_detection_confidence=0.5,\n",
        "        min_tracking_confidence=0.5\n",
        "    ) as holistic:\n",
        "\n",
        "        # Open the video file\n",
        "        cap = cv2.VideoCapture(video_path)\n",
        "        frames_landmarks = []\n",
        "\n",
        "        while True:\n",
        "            success, frame = cap.read()\n",
        "            if not success:\n",
        "                break\n",
        "\n",
        "            # Determine the right half of the frame\n",
        "            h, w, c = frame.shape\n",
        "            right_half = frame[:, w//2:, :]  # Crop to the right half\n",
        "\n",
        "            # Convert the BGR image to RGB and run through MediaPipe Holistic\n",
        "            image_rgb = cv2.cvtColor(right_half, cv2.COLOR_BGR2RGB)\n",
        "            image_rgb.flags.writeable = False\n",
        "            results = holistic.process(image_rgb)\n",
        "\n",
        "            # Collect frame data\n",
        "            frame_data = {\n",
        "                \"pose_landmarks\": [],\n",
        "                \"face_landmarks\": [],\n",
        "                \"left_hand_landmarks\": [],\n",
        "                \"right_hand_landmarks\": []\n",
        "            }\n",
        "\n",
        "            # Extract all landmarks (no filtering by x needed since image is already cropped)\n",
        "            # Pose landmarks\n",
        "            if results.pose_landmarks:\n",
        "                for lm in results.pose_landmarks.landmark:\n",
        "                    # Pose landmarks have (x,y,z,visibility)\n",
        "                    frame_data[\"pose_landmarks\"].append([lm.x, lm.y, lm.z, lm.visibility])\n",
        "\n",
        "            # Face landmarks\n",
        "            if results.face_landmarks:\n",
        "                for lm in results.face_landmarks.landmark:\n",
        "                    # Face landmarks have (x,y,z)\n",
        "                    frame_data[\"face_landmarks\"].append([lm.x, lm.y, lm.z])\n",
        "\n",
        "            # Left hand landmarks\n",
        "            if results.left_hand_landmarks:\n",
        "                for lm in results.left_hand_landmarks.landmark:\n",
        "                    frame_data[\"left_hand_landmarks\"].append([lm.x, lm.y, lm.z])\n",
        "\n",
        "            # Right hand landmarks\n",
        "            if results.right_hand_landmarks:\n",
        "                for lm in results.right_hand_landmarks.landmark:\n",
        "                    frame_data[\"right_hand_landmarks\"].append([lm.x, lm.y, lm.z])\n",
        "\n",
        "            frames_landmarks.append(frame_data)\n",
        "\n",
        "        cap.release()\n",
        "        return frames_landmarks\n",
        "\n",
        "\n",
        "if __name__ == \"__main__\":\n",
        "\n",
        "    for video_path in video_files:\n",
        "        landmarks_data = extract_landmarks_from_right_half(video_path)\n",
        "\n",
        "        # Generate output JSON filename (same name, different extension)\n",
        "        base_name = os.path.splitext(os.path.basename(video_path))[0]\n",
        "        json_filename = f\"{base_name}.json\"\n",
        "\n",
        "        # Save data as JSON\n",
        "        with open(json_filename, 'w') as f:\n",
        "            json.dump(landmarks_data, f, indent=4)\n",
        "\n",
        "        print(f\"Landmarks for {video_path} saved to {json_filename}.\")\n"
      ],
      "metadata": {
        "colab": {
          "base_uri": "https://localhost:8080/"
        },
        "id": "1D_ZTi6njQAW",
        "outputId": "092d1a07-8969-4065-c7c0-53d66a97bef6"
      },
      "execution_count": null,
      "outputs": [
        {
          "output_type": "stream",
          "name": "stdout",
          "text": [
            "Downloading model to /usr/local/lib/python3.10/dist-packages/mediapipe/modules/pose_landmark/pose_landmark_heavy.tflite\n",
            "Landmarks for TV-20241106-2027-0600.webxxl.h264_processed_part_1.mp4 saved to TV-20241106-2027-0600.webxxl.h264_processed_part_1.json.\n",
            "Landmarks for TV-20241106-2027-0600.webxxl.h264_processed_part_2.mp4 saved to TV-20241106-2027-0600.webxxl.h264_processed_part_2.json.\n",
            "Landmarks for TV-20241106-2027-0600.webxxl.h264_processed_part_3.mp4 saved to TV-20241106-2027-0600.webxxl.h264_processed_part_3.json.\n",
            "Landmarks for TV-20241106-2027-0600.webxxl.h264_processed_part_4.mp4 saved to TV-20241106-2027-0600.webxxl.h264_processed_part_4.json.\n",
            "Landmarks for TV-20241106-2027-0600.webxxl.h264_processed_part_5.mp4 saved to TV-20241106-2027-0600.webxxl.h264_processed_part_5.json.\n",
            "Landmarks for TV-20241106-2027-0600.webxxl.h264_processed_part_6.mp4 saved to TV-20241106-2027-0600.webxxl.h264_processed_part_6.json.\n",
            "Landmarks for TV-20241106-2027-0600.webxxl.h264_processed_part_7.mp4 saved to TV-20241106-2027-0600.webxxl.h264_processed_part_7.json.\n",
            "Landmarks for TV-20241106-2027-0600.webxxl.h264_processed_part_8.mp4 saved to TV-20241106-2027-0600.webxxl.h264_processed_part_8.json.\n",
            "Landmarks for TV-20241106-2027-0600.webxxl.h264_processed_part_9.mp4 saved to TV-20241106-2027-0600.webxxl.h264_processed_part_9.json.\n",
            "Landmarks for TV-20241106-2027-0600.webxxl.h264_processed_part_10.mp4 saved to TV-20241106-2027-0600.webxxl.h264_processed_part_10.json.\n",
            "Landmarks for TV-20241106-2027-0600.webxxl.h264_processed_part_11.mp4 saved to TV-20241106-2027-0600.webxxl.h264_processed_part_11.json.\n",
            "Landmarks for TV-20241106-2027-0600.webxxl.h264_processed_part_12.mp4 saved to TV-20241106-2027-0600.webxxl.h264_processed_part_12.json.\n",
            "Landmarks for TV-20241106-2027-0600.webxxl.h264_processed_part_13.mp4 saved to TV-20241106-2027-0600.webxxl.h264_processed_part_13.json.\n",
            "Landmarks for TV-20241106-2027-0600.webxxl.h264_processed_part_14.mp4 saved to TV-20241106-2027-0600.webxxl.h264_processed_part_14.json.\n",
            "Landmarks for TV-20241106-2027-0600.webxxl.h264_processed_part_15.mp4 saved to TV-20241106-2027-0600.webxxl.h264_processed_part_15.json.\n",
            "Landmarks for TV-20241106-2027-0600.webxxl.h264_processed_part_16.mp4 saved to TV-20241106-2027-0600.webxxl.h264_processed_part_16.json.\n",
            "Landmarks for TV-20241106-2027-0600.webxxl.h264_processed_part_17.mp4 saved to TV-20241106-2027-0600.webxxl.h264_processed_part_17.json.\n",
            "Landmarks for TV-20241106-2027-0600.webxxl.h264_processed_part_18.mp4 saved to TV-20241106-2027-0600.webxxl.h264_processed_part_18.json.\n",
            "Landmarks for TV-20241106-2027-0600.webxxl.h264_processed_part_19.mp4 saved to TV-20241106-2027-0600.webxxl.h264_processed_part_19.json.\n",
            "Landmarks for TV-20241106-2027-0600.webxxl.h264_processed_part_20.mp4 saved to TV-20241106-2027-0600.webxxl.h264_processed_part_20.json.\n",
            "Landmarks for TV-20241106-2027-0600.webxxl.h264_processed_part_21.mp4 saved to TV-20241106-2027-0600.webxxl.h264_processed_part_21.json.\n",
            "Landmarks for TV-20241106-2027-0600.webxxl.h264_processed_part_22.mp4 saved to TV-20241106-2027-0600.webxxl.h264_processed_part_22.json.\n",
            "Landmarks for TV-20241106-2027-0600.webxxl.h264_processed_part_23.mp4 saved to TV-20241106-2027-0600.webxxl.h264_processed_part_23.json.\n",
            "Landmarks for TV-20241106-2027-0600.webxxl.h264_processed_part_24.mp4 saved to TV-20241106-2027-0600.webxxl.h264_processed_part_24.json.\n",
            "Landmarks for TV-20241106-2027-0600.webxxl.h264_processed_part_25.mp4 saved to TV-20241106-2027-0600.webxxl.h264_processed_part_25.json.\n",
            "Landmarks for TV-20241106-2027-0600.webxxl.h264_processed_part_26.mp4 saved to TV-20241106-2027-0600.webxxl.h264_processed_part_26.json.\n",
            "Landmarks for TV-20241106-2027-0600.webxxl.h264_processed_part_27.mp4 saved to TV-20241106-2027-0600.webxxl.h264_processed_part_27.json.\n",
            "Landmarks for TV-20241106-2027-0600.webxxl.h264_processed_part_28.mp4 saved to TV-20241106-2027-0600.webxxl.h264_processed_part_28.json.\n",
            "Landmarks for TV-20241106-2027-0600.webxxl.h264_processed_part_29.mp4 saved to TV-20241106-2027-0600.webxxl.h264_processed_part_29.json.\n",
            "Landmarks for TV-20241106-2027-0600.webxxl.h264_processed_part_30.mp4 saved to TV-20241106-2027-0600.webxxl.h264_processed_part_30.json.\n",
            "Landmarks for TV-20241106-2027-0600.webxxl.h264_processed_part_31.mp4 saved to TV-20241106-2027-0600.webxxl.h264_processed_part_31.json.\n",
            "Landmarks for TV-20241106-2027-0600.webxxl.h264_processed_part_32.mp4 saved to TV-20241106-2027-0600.webxxl.h264_processed_part_32.json.\n",
            "Landmarks for TV-20241106-2027-0600.webxxl.h264_processed_part_33.mp4 saved to TV-20241106-2027-0600.webxxl.h264_processed_part_33.json.\n",
            "Landmarks for TV-20241106-2027-0600.webxxl.h264_processed_part_34.mp4 saved to TV-20241106-2027-0600.webxxl.h264_processed_part_34.json.\n",
            "Landmarks for TV-20241106-2027-0600.webxxl.h264_processed_part_35.mp4 saved to TV-20241106-2027-0600.webxxl.h264_processed_part_35.json.\n",
            "Landmarks for TV-20241106-2027-0600.webxxl.h264_processed_part_36.mp4 saved to TV-20241106-2027-0600.webxxl.h264_processed_part_36.json.\n",
            "Landmarks for TV-20241106-2027-0600.webxxl.h264_processed_part_37.mp4 saved to TV-20241106-2027-0600.webxxl.h264_processed_part_37.json.\n",
            "Landmarks for TV-20241106-2027-0600.webxxl.h264_processed_part_38.mp4 saved to TV-20241106-2027-0600.webxxl.h264_processed_part_38.json.\n",
            "Landmarks for TV-20241106-2027-0600.webxxl.h264_processed_part_39.mp4 saved to TV-20241106-2027-0600.webxxl.h264_processed_part_39.json.\n",
            "Landmarks for TV-20241106-2027-0600.webxxl.h264_processed_part_40.mp4 saved to TV-20241106-2027-0600.webxxl.h264_processed_part_40.json.\n",
            "Landmarks for TV-20241106-2027-0600.webxxl.h264_processed_part_41.mp4 saved to TV-20241106-2027-0600.webxxl.h264_processed_part_41.json.\n",
            "Landmarks for TV-20241106-2027-0600.webxxl.h264_processed_part_42.mp4 saved to TV-20241106-2027-0600.webxxl.h264_processed_part_42.json.\n",
            "Landmarks for TV-20241106-2027-0600.webxxl.h264_processed_part_43.mp4 saved to TV-20241106-2027-0600.webxxl.h264_processed_part_43.json.\n",
            "Landmarks for TV-20241106-2027-0600.webxxl.h264_processed_part_44.mp4 saved to TV-20241106-2027-0600.webxxl.h264_processed_part_44.json.\n",
            "Landmarks for TV-20241106-2027-0600.webxxl.h264_processed_part_45.mp4 saved to TV-20241106-2027-0600.webxxl.h264_processed_part_45.json.\n",
            "Landmarks for TV-20241106-2027-0600.webxxl.h264_processed_part_46.mp4 saved to TV-20241106-2027-0600.webxxl.h264_processed_part_46.json.\n",
            "Landmarks for TV-20241106-2027-0600.webxxl.h264_processed_part_47.mp4 saved to TV-20241106-2027-0600.webxxl.h264_processed_part_47.json.\n",
            "Landmarks for TV-20241106-2027-0600.webxxl.h264_processed_part_48.mp4 saved to TV-20241106-2027-0600.webxxl.h264_processed_part_48.json.\n",
            "Landmarks for TV-20241106-2027-0600.webxxl.h264_processed_part_49.mp4 saved to TV-20241106-2027-0600.webxxl.h264_processed_part_49.json.\n",
            "Landmarks for TV-20241106-2027-0600.webxxl.h264_processed_part_50.mp4 saved to TV-20241106-2027-0600.webxxl.h264_processed_part_50.json.\n",
            "Landmarks for TV-20241106-2027-0600.webxxl.h264_processed_part_51.mp4 saved to TV-20241106-2027-0600.webxxl.h264_processed_part_51.json.\n",
            "Landmarks for TV-20241106-2027-0600.webxxl.h264_processed_part_52.mp4 saved to TV-20241106-2027-0600.webxxl.h264_processed_part_52.json.\n",
            "Landmarks for TV-20241106-2027-0600.webxxl.h264_processed_part_53.mp4 saved to TV-20241106-2027-0600.webxxl.h264_processed_part_53.json.\n",
            "Landmarks for TV-20241106-2027-0600.webxxl.h264_processed_part_54.mp4 saved to TV-20241106-2027-0600.webxxl.h264_processed_part_54.json.\n",
            "Landmarks for TV-20241106-2027-0600.webxxl.h264_processed_part_55.mp4 saved to TV-20241106-2027-0600.webxxl.h264_processed_part_55.json.\n",
            "Landmarks for TV-20241106-2027-0600.webxxl.h264_processed_part_56.mp4 saved to TV-20241106-2027-0600.webxxl.h264_processed_part_56.json.\n",
            "Landmarks for TV-20241106-2027-0600.webxxl.h264_processed_part_57.mp4 saved to TV-20241106-2027-0600.webxxl.h264_processed_part_57.json.\n",
            "Landmarks for TV-20241106-2027-0600.webxxl.h264_processed_part_58.mp4 saved to TV-20241106-2027-0600.webxxl.h264_processed_part_58.json.\n",
            "Landmarks for TV-20241106-2027-0600.webxxl.h264_processed_part_59.mp4 saved to TV-20241106-2027-0600.webxxl.h264_processed_part_59.json.\n",
            "Landmarks for TV-20241106-2027-0600.webxxl.h264_processed_part_60.mp4 saved to TV-20241106-2027-0600.webxxl.h264_processed_part_60.json.\n",
            "Landmarks for TV-20241106-2027-0600.webxxl.h264_processed_part_61.mp4 saved to TV-20241106-2027-0600.webxxl.h264_processed_part_61.json.\n",
            "Landmarks for TV-20241106-2027-0600.webxxl.h264_processed_part_62.mp4 saved to TV-20241106-2027-0600.webxxl.h264_processed_part_62.json.\n",
            "Landmarks for TV-20241106-2027-0600.webxxl.h264_processed_part_63.mp4 saved to TV-20241106-2027-0600.webxxl.h264_processed_part_63.json.\n"
          ]
        }
      ]
    },
    {
      "cell_type": "code",
      "source": [
        "download_files = [f\"TV-20241106-2027-0600.webxxl.h264_processed_part_{i}.mp4\" for i in range(1,64)] + [f\"TV-20241106-2027-0600.webxxl.h264_processed_part_{i}.json\" for i in range(1,64)]"
      ],
      "metadata": {
        "id": "KlmbldDLjeS0"
      },
      "execution_count": null,
      "outputs": []
    },
    {
      "cell_type": "code",
      "source": [
        "# Join them into a single space-separated string\n",
        "files_str = \" \".join(download_files)\n",
        "\n",
        "# Use the files_str variable within the shell command\n",
        "!zip -r data_files.zip $files_str"
      ],
      "metadata": {
        "colab": {
          "base_uri": "https://localhost:8080/"
        },
        "id": "en0mmgFe-qL_",
        "outputId": "9cc6d4dd-8a68-4827-d785-746807602850"
      },
      "execution_count": null,
      "outputs": [
        {
          "output_type": "stream",
          "name": "stdout",
          "text": [
            "  adding: TV-20241106-2027-0600.webxxl.h264_processed_part_1.mp4 (deflated 0%)\n",
            "  adding: TV-20241106-2027-0600.webxxl.h264_processed_part_2.mp4 (deflated 0%)\n",
            "  adding: TV-20241106-2027-0600.webxxl.h264_processed_part_3.mp4 (deflated 0%)\n",
            "  adding: TV-20241106-2027-0600.webxxl.h264_processed_part_4.mp4 (deflated 0%)\n",
            "  adding: TV-20241106-2027-0600.webxxl.h264_processed_part_5.mp4 (deflated 0%)\n",
            "  adding: TV-20241106-2027-0600.webxxl.h264_processed_part_6.mp4 (deflated 0%)\n",
            "  adding: TV-20241106-2027-0600.webxxl.h264_processed_part_7.mp4 (deflated 0%)\n",
            "  adding: TV-20241106-2027-0600.webxxl.h264_processed_part_8.mp4 (deflated 0%)\n",
            "  adding: TV-20241106-2027-0600.webxxl.h264_processed_part_9.mp4 (deflated 0%)\n",
            "  adding: TV-20241106-2027-0600.webxxl.h264_processed_part_10.mp4 (deflated 0%)\n",
            "  adding: TV-20241106-2027-0600.webxxl.h264_processed_part_11.mp4 (deflated 0%)\n",
            "  adding: TV-20241106-2027-0600.webxxl.h264_processed_part_12.mp4 (deflated 0%)\n",
            "  adding: TV-20241106-2027-0600.webxxl.h264_processed_part_13.mp4 (deflated 0%)\n",
            "  adding: TV-20241106-2027-0600.webxxl.h264_processed_part_14.mp4 (deflated 0%)\n",
            "  adding: TV-20241106-2027-0600.webxxl.h264_processed_part_15.mp4 (deflated 0%)\n",
            "  adding: TV-20241106-2027-0600.webxxl.h264_processed_part_16.mp4 (deflated 0%)\n",
            "  adding: TV-20241106-2027-0600.webxxl.h264_processed_part_17.mp4 (deflated 0%)\n",
            "  adding: TV-20241106-2027-0600.webxxl.h264_processed_part_18.mp4 (deflated 0%)\n",
            "  adding: TV-20241106-2027-0600.webxxl.h264_processed_part_19.mp4 (deflated 0%)\n",
            "  adding: TV-20241106-2027-0600.webxxl.h264_processed_part_20.mp4 (deflated 0%)\n",
            "  adding: TV-20241106-2027-0600.webxxl.h264_processed_part_21.mp4 (deflated 0%)\n",
            "  adding: TV-20241106-2027-0600.webxxl.h264_processed_part_22.mp4 (deflated 0%)\n",
            "  adding: TV-20241106-2027-0600.webxxl.h264_processed_part_23.mp4 (deflated 0%)\n",
            "  adding: TV-20241106-2027-0600.webxxl.h264_processed_part_24.mp4 (deflated 0%)\n",
            "  adding: TV-20241106-2027-0600.webxxl.h264_processed_part_25.mp4 (deflated 0%)\n",
            "  adding: TV-20241106-2027-0600.webxxl.h264_processed_part_26.mp4 (deflated 0%)\n",
            "  adding: TV-20241106-2027-0600.webxxl.h264_processed_part_27.mp4 (deflated 0%)\n",
            "  adding: TV-20241106-2027-0600.webxxl.h264_processed_part_28.mp4 (deflated 0%)\n",
            "  adding: TV-20241106-2027-0600.webxxl.h264_processed_part_29.mp4 (deflated 0%)\n",
            "  adding: TV-20241106-2027-0600.webxxl.h264_processed_part_30.mp4 (deflated 0%)\n",
            "  adding: TV-20241106-2027-0600.webxxl.h264_processed_part_31.mp4 (deflated 0%)\n",
            "  adding: TV-20241106-2027-0600.webxxl.h264_processed_part_32.mp4 (deflated 0%)\n",
            "  adding: TV-20241106-2027-0600.webxxl.h264_processed_part_33.mp4 (deflated 0%)\n",
            "  adding: TV-20241106-2027-0600.webxxl.h264_processed_part_34.mp4 (deflated 0%)\n",
            "  adding: TV-20241106-2027-0600.webxxl.h264_processed_part_35.mp4 (deflated 0%)\n",
            "  adding: TV-20241106-2027-0600.webxxl.h264_processed_part_36.mp4 (deflated 0%)\n",
            "  adding: TV-20241106-2027-0600.webxxl.h264_processed_part_37.mp4 (deflated 0%)\n",
            "  adding: TV-20241106-2027-0600.webxxl.h264_processed_part_38.mp4 (deflated 0%)\n",
            "  adding: TV-20241106-2027-0600.webxxl.h264_processed_part_39.mp4 (deflated 0%)\n",
            "  adding: TV-20241106-2027-0600.webxxl.h264_processed_part_40.mp4 (deflated 1%)\n",
            "  adding: TV-20241106-2027-0600.webxxl.h264_processed_part_41.mp4 (deflated 0%)\n",
            "  adding: TV-20241106-2027-0600.webxxl.h264_processed_part_42.mp4 (deflated 0%)\n",
            "  adding: TV-20241106-2027-0600.webxxl.h264_processed_part_43.mp4 (deflated 0%)\n",
            "  adding: TV-20241106-2027-0600.webxxl.h264_processed_part_44.mp4 (deflated 0%)\n",
            "  adding: TV-20241106-2027-0600.webxxl.h264_processed_part_45.mp4 (deflated 0%)\n",
            "  adding: TV-20241106-2027-0600.webxxl.h264_processed_part_46.mp4 (deflated 0%)\n",
            "  adding: TV-20241106-2027-0600.webxxl.h264_processed_part_47.mp4 (deflated 0%)\n",
            "  adding: TV-20241106-2027-0600.webxxl.h264_processed_part_48.mp4 (deflated 0%)\n",
            "  adding: TV-20241106-2027-0600.webxxl.h264_processed_part_49.mp4 (deflated 0%)\n",
            "  adding: TV-20241106-2027-0600.webxxl.h264_processed_part_50.mp4 (deflated 0%)\n",
            "  adding: TV-20241106-2027-0600.webxxl.h264_processed_part_51.mp4 (deflated 0%)\n",
            "  adding: TV-20241106-2027-0600.webxxl.h264_processed_part_52.mp4 (deflated 0%)\n",
            "  adding: TV-20241106-2027-0600.webxxl.h264_processed_part_53.mp4 (deflated 0%)\n",
            "  adding: TV-20241106-2027-0600.webxxl.h264_processed_part_54.mp4 (deflated 0%)\n",
            "  adding: TV-20241106-2027-0600.webxxl.h264_processed_part_55.mp4 (deflated 0%)\n",
            "  adding: TV-20241106-2027-0600.webxxl.h264_processed_part_56.mp4 (deflated 0%)\n",
            "  adding: TV-20241106-2027-0600.webxxl.h264_processed_part_57.mp4 (deflated 0%)\n",
            "  adding: TV-20241106-2027-0600.webxxl.h264_processed_part_58.mp4 (deflated 0%)\n",
            "  adding: TV-20241106-2027-0600.webxxl.h264_processed_part_59.mp4 (deflated 0%)\n",
            "  adding: TV-20241106-2027-0600.webxxl.h264_processed_part_60.mp4 (deflated 0%)\n",
            "  adding: TV-20241106-2027-0600.webxxl.h264_processed_part_61.mp4 (deflated 0%)\n",
            "  adding: TV-20241106-2027-0600.webxxl.h264_processed_part_62.mp4 (deflated 1%)\n",
            "  adding: TV-20241106-2027-0600.webxxl.h264_processed_part_63.mp4 (deflated 1%)\n",
            "  adding: TV-20241106-2027-0600.webxxl.h264_processed_part_1.json (deflated 78%)\n",
            "  adding: TV-20241106-2027-0600.webxxl.h264_processed_part_2.json (deflated 78%)\n",
            "  adding: TV-20241106-2027-0600.webxxl.h264_processed_part_3.json (deflated 78%)\n",
            "  adding: TV-20241106-2027-0600.webxxl.h264_processed_part_4.json (deflated 78%)\n",
            "  adding: TV-20241106-2027-0600.webxxl.h264_processed_part_5.json (deflated 78%)\n",
            "  adding: TV-20241106-2027-0600.webxxl.h264_processed_part_6.json (deflated 78%)\n",
            "  adding: TV-20241106-2027-0600.webxxl.h264_processed_part_7.json (deflated 78%)\n",
            "  adding: TV-20241106-2027-0600.webxxl.h264_processed_part_8.json (deflated 78%)\n",
            "  adding: TV-20241106-2027-0600.webxxl.h264_processed_part_9.json (deflated 78%)\n",
            "  adding: TV-20241106-2027-0600.webxxl.h264_processed_part_10.json (deflated 78%)\n",
            "  adding: TV-20241106-2027-0600.webxxl.h264_processed_part_11.json (deflated 78%)\n",
            "  adding: TV-20241106-2027-0600.webxxl.h264_processed_part_12.json (deflated 78%)\n",
            "  adding: TV-20241106-2027-0600.webxxl.h264_processed_part_13.json (deflated 78%)\n",
            "  adding: TV-20241106-2027-0600.webxxl.h264_processed_part_14.json (deflated 78%)\n",
            "  adding: TV-20241106-2027-0600.webxxl.h264_processed_part_15.json (deflated 78%)\n",
            "  adding: TV-20241106-2027-0600.webxxl.h264_processed_part_16.json (deflated 78%)\n",
            "  adding: TV-20241106-2027-0600.webxxl.h264_processed_part_17.json (deflated 78%)\n",
            "  adding: TV-20241106-2027-0600.webxxl.h264_processed_part_18.json (deflated 78%)\n",
            "  adding: TV-20241106-2027-0600.webxxl.h264_processed_part_19.json (deflated 78%)\n",
            "  adding: TV-20241106-2027-0600.webxxl.h264_processed_part_20.json (deflated 78%)\n",
            "  adding: TV-20241106-2027-0600.webxxl.h264_processed_part_21.json (deflated 78%)\n",
            "  adding: TV-20241106-2027-0600.webxxl.h264_processed_part_22.json (deflated 78%)\n",
            "  adding: TV-20241106-2027-0600.webxxl.h264_processed_part_23.json (deflated 78%)\n",
            "  adding: TV-20241106-2027-0600.webxxl.h264_processed_part_24.json (deflated 78%)\n",
            "  adding: TV-20241106-2027-0600.webxxl.h264_processed_part_25.json (deflated 78%)\n",
            "  adding: TV-20241106-2027-0600.webxxl.h264_processed_part_26.json (deflated 78%)\n",
            "  adding: TV-20241106-2027-0600.webxxl.h264_processed_part_27.json (deflated 78%)\n",
            "  adding: TV-20241106-2027-0600.webxxl.h264_processed_part_28.json (deflated 78%)\n",
            "  adding: TV-20241106-2027-0600.webxxl.h264_processed_part_29.json (deflated 78%)\n",
            "  adding: TV-20241106-2027-0600.webxxl.h264_processed_part_30.json (deflated 78%)\n",
            "  adding: TV-20241106-2027-0600.webxxl.h264_processed_part_31.json (deflated 78%)\n",
            "  adding: TV-20241106-2027-0600.webxxl.h264_processed_part_32.json (deflated 78%)\n",
            "  adding: TV-20241106-2027-0600.webxxl.h264_processed_part_33.json (deflated 78%)\n",
            "  adding: TV-20241106-2027-0600.webxxl.h264_processed_part_34.json (deflated 78%)\n",
            "  adding: TV-20241106-2027-0600.webxxl.h264_processed_part_35.json (deflated 78%)\n",
            "  adding: TV-20241106-2027-0600.webxxl.h264_processed_part_36.json (deflated 78%)\n",
            "  adding: TV-20241106-2027-0600.webxxl.h264_processed_part_37.json (deflated 78%)\n",
            "  adding: TV-20241106-2027-0600.webxxl.h264_processed_part_38.json (deflated 78%)\n",
            "  adding: TV-20241106-2027-0600.webxxl.h264_processed_part_39.json (deflated 78%)\n",
            "  adding: TV-20241106-2027-0600.webxxl.h264_processed_part_40.json (deflated 78%)\n",
            "  adding: TV-20241106-2027-0600.webxxl.h264_processed_part_41.json (deflated 78%)\n",
            "  adding: TV-20241106-2027-0600.webxxl.h264_processed_part_42.json (deflated 78%)\n",
            "  adding: TV-20241106-2027-0600.webxxl.h264_processed_part_43.json (deflated 78%)\n",
            "  adding: TV-20241106-2027-0600.webxxl.h264_processed_part_44.json (deflated 78%)\n",
            "  adding: TV-20241106-2027-0600.webxxl.h264_processed_part_45.json (deflated 78%)\n",
            "  adding: TV-20241106-2027-0600.webxxl.h264_processed_part_46.json (deflated 78%)\n",
            "  adding: TV-20241106-2027-0600.webxxl.h264_processed_part_47.json (deflated 78%)\n",
            "  adding: TV-20241106-2027-0600.webxxl.h264_processed_part_48.json (deflated 78%)\n",
            "  adding: TV-20241106-2027-0600.webxxl.h264_processed_part_49.json (deflated 78%)\n",
            "  adding: TV-20241106-2027-0600.webxxl.h264_processed_part_50.json (deflated 78%)\n",
            "  adding: TV-20241106-2027-0600.webxxl.h264_processed_part_51.json (deflated 78%)\n",
            "  adding: TV-20241106-2027-0600.webxxl.h264_processed_part_52.json (deflated 78%)\n",
            "  adding: TV-20241106-2027-0600.webxxl.h264_processed_part_53.json (deflated 78%)\n",
            "  adding: TV-20241106-2027-0600.webxxl.h264_processed_part_54.json (deflated 78%)\n",
            "  adding: TV-20241106-2027-0600.webxxl.h264_processed_part_55.json (deflated 78%)\n",
            "  adding: TV-20241106-2027-0600.webxxl.h264_processed_part_56.json (deflated 78%)\n",
            "  adding: TV-20241106-2027-0600.webxxl.h264_processed_part_57.json (deflated 78%)\n",
            "  adding: TV-20241106-2027-0600.webxxl.h264_processed_part_58.json (deflated 78%)\n",
            "  adding: TV-20241106-2027-0600.webxxl.h264_processed_part_59.json (deflated 78%)\n",
            "  adding: TV-20241106-2027-0600.webxxl.h264_processed_part_60.json (deflated 78%)\n",
            "  adding: TV-20241106-2027-0600.webxxl.h264_processed_part_61.json (deflated 78%)\n",
            "  adding: TV-20241106-2027-0600.webxxl.h264_processed_part_62.json (deflated 78%)\n",
            "  adding: TV-20241106-2027-0600.webxxl.h264_processed_part_63.json (deflated 78%)\n"
          ]
        }
      ]
    },
    {
      "cell_type": "code",
      "source": [
        "from google.colab import files\n",
        "files.download(\"data_files.zip\")"
      ],
      "metadata": {
        "colab": {
          "base_uri": "https://localhost:8080/",
          "height": 17
        },
        "id": "UPoNojrW-1HZ",
        "outputId": "7c4ec54e-f951-446b-bcdd-7b25cdbbf9c2"
      },
      "execution_count": null,
      "outputs": [
        {
          "output_type": "display_data",
          "data": {
            "text/plain": [
              "<IPython.core.display.Javascript object>"
            ],
            "application/javascript": [
              "\n",
              "    async function download(id, filename, size) {\n",
              "      if (!google.colab.kernel.accessAllowed) {\n",
              "        return;\n",
              "      }\n",
              "      const div = document.createElement('div');\n",
              "      const label = document.createElement('label');\n",
              "      label.textContent = `Downloading \"${filename}\": `;\n",
              "      div.appendChild(label);\n",
              "      const progress = document.createElement('progress');\n",
              "      progress.max = size;\n",
              "      div.appendChild(progress);\n",
              "      document.body.appendChild(div);\n",
              "\n",
              "      const buffers = [];\n",
              "      let downloaded = 0;\n",
              "\n",
              "      const channel = await google.colab.kernel.comms.open(id);\n",
              "      // Send a message to notify the kernel that we're ready.\n",
              "      channel.send({})\n",
              "\n",
              "      for await (const message of channel.messages) {\n",
              "        // Send a message to notify the kernel that we're ready.\n",
              "        channel.send({})\n",
              "        if (message.buffers) {\n",
              "          for (const buffer of message.buffers) {\n",
              "            buffers.push(buffer);\n",
              "            downloaded += buffer.byteLength;\n",
              "            progress.value = downloaded;\n",
              "          }\n",
              "        }\n",
              "      }\n",
              "      const blob = new Blob(buffers, {type: 'application/binary'});\n",
              "      const a = document.createElement('a');\n",
              "      a.href = window.URL.createObjectURL(blob);\n",
              "      a.download = filename;\n",
              "      div.appendChild(a);\n",
              "      a.click();\n",
              "      div.remove();\n",
              "    }\n",
              "  "
            ]
          },
          "metadata": {}
        },
        {
          "output_type": "display_data",
          "data": {
            "text/plain": [
              "<IPython.core.display.Javascript object>"
            ],
            "application/javascript": [
              "download(\"download_e63fd23b-41f5-458d-a854-66adb688acd4\", \"data_files.zip\", 754445026)"
            ]
          },
          "metadata": {}
        }
      ]
    },
    {
      "cell_type": "code",
      "source": [
        "transcripts = results[2:]"
      ],
      "metadata": {
        "id": "MDCIoz-8B1ze"
      },
      "execution_count": null,
      "outputs": []
    },
    {
      "cell_type": "code",
      "source": [
        "transcripts[0] = 'Guten Abend, meine Damen und Herren. Ich begrüße Sie zur Tagesschau.'"
      ],
      "metadata": {
        "id": "UNhVEMPQCDss"
      },
      "execution_count": null,
      "outputs": []
    },
    {
      "cell_type": "code",
      "source": [
        "# Specify the directory where files will be saved\n",
        "import os\n",
        "output_directory = \"transcript_files\"\n",
        "os.makedirs(output_directory, exist_ok=True)  # Create the directory if it doesn't exist\n",
        "\n",
        "# Save each string to a separate file\n",
        "for idx, item in enumerate(transcripts):\n",
        "    filename = os.path.join(output_directory, f\"TV-20241106-2027-0600.webxxl.h264_processed_part_{idx+1}.txt\")\n",
        "    with open(filename, \"w\") as file:\n",
        "        file.write(item)\n",
        "\n",
        "print(f\"Saved {len(transcripts)} files in the '{output_directory}' directory.\")"
      ],
      "metadata": {
        "colab": {
          "base_uri": "https://localhost:8080/"
        },
        "id": "d9ghEncpCjH8",
        "outputId": "382649c0-3f59-497d-f937-9773064f7d59"
      },
      "execution_count": null,
      "outputs": [
        {
          "output_type": "stream",
          "name": "stdout",
          "text": [
            "Saved 63 files in the 'transcript_files' directory.\n"
          ]
        }
      ]
    },
    {
      "cell_type": "code",
      "source": [
        "import shutil\n",
        "from google.colab import files\n",
        "\n",
        "# Specify the folder to zip and the name of the zip file\n",
        "folder_to_zip = \"transcript_files\"\n",
        "zip_file_name = \"transcript_files.zip\"\n",
        "\n",
        "# Zip the folder\n",
        "shutil.make_archive(\"transcript_files\", \"zip\", folder_to_zip)\n",
        "\n",
        "# Download the zip file\n",
        "files.download(zip_file_name)\n"
      ],
      "metadata": {
        "colab": {
          "base_uri": "https://localhost:8080/",
          "height": 17
        },
        "id": "s1f23QMZD9Oi",
        "outputId": "20796dea-651f-411e-b022-d098933f6c79"
      },
      "execution_count": null,
      "outputs": [
        {
          "output_type": "display_data",
          "data": {
            "text/plain": [
              "<IPython.core.display.Javascript object>"
            ],
            "application/javascript": [
              "\n",
              "    async function download(id, filename, size) {\n",
              "      if (!google.colab.kernel.accessAllowed) {\n",
              "        return;\n",
              "      }\n",
              "      const div = document.createElement('div');\n",
              "      const label = document.createElement('label');\n",
              "      label.textContent = `Downloading \"${filename}\": `;\n",
              "      div.appendChild(label);\n",
              "      const progress = document.createElement('progress');\n",
              "      progress.max = size;\n",
              "      div.appendChild(progress);\n",
              "      document.body.appendChild(div);\n",
              "\n",
              "      const buffers = [];\n",
              "      let downloaded = 0;\n",
              "\n",
              "      const channel = await google.colab.kernel.comms.open(id);\n",
              "      // Send a message to notify the kernel that we're ready.\n",
              "      channel.send({})\n",
              "\n",
              "      for await (const message of channel.messages) {\n",
              "        // Send a message to notify the kernel that we're ready.\n",
              "        channel.send({})\n",
              "        if (message.buffers) {\n",
              "          for (const buffer of message.buffers) {\n",
              "            buffers.push(buffer);\n",
              "            downloaded += buffer.byteLength;\n",
              "            progress.value = downloaded;\n",
              "          }\n",
              "        }\n",
              "      }\n",
              "      const blob = new Blob(buffers, {type: 'application/binary'});\n",
              "      const a = document.createElement('a');\n",
              "      a.href = window.URL.createObjectURL(blob);\n",
              "      a.download = filename;\n",
              "      div.appendChild(a);\n",
              "      a.click();\n",
              "      div.remove();\n",
              "    }\n",
              "  "
            ]
          },
          "metadata": {}
        },
        {
          "output_type": "display_data",
          "data": {
            "text/plain": [
              "<IPython.core.display.Javascript object>"
            ],
            "application/javascript": [
              "download(\"download_9ea9415d-993d-417b-bb15-09e827909126\", \"transcript_files.zip\", 22682)"
            ]
          },
          "metadata": {}
        }
      ]
    },
    {
      "cell_type": "code",
      "source": [
        "type(landmarks_data)"
      ],
      "metadata": {
        "colab": {
          "base_uri": "https://localhost:8080/"
        },
        "id": "8PjTvoUuE9Tk",
        "outputId": "b72cf7df-3cd8-4372-dd95-1a64c5714dbe"
      },
      "execution_count": null,
      "outputs": [
        {
          "output_type": "execute_result",
          "data": {
            "text/plain": [
              "list"
            ]
          },
          "metadata": {},
          "execution_count": 47
        }
      ]
    },
    {
      "cell_type": "code",
      "source": [
        "landmarks_data[0]"
      ],
      "metadata": {
        "colab": {
          "base_uri": "https://localhost:8080/"
        },
        "id": "HovUvANoE-VE",
        "outputId": "20680064-63cc-4149-cf7f-c2dc912de67f"
      },
      "execution_count": null,
      "outputs": [
        {
          "output_type": "execute_result",
          "data": {
            "text/plain": [
              "{'pose_landmarks': [[0.47315719723701477,\n",
              "   0.35227102041244507,\n",
              "   -1.550862193107605,\n",
              "   0.97074294090271],\n",
              "  [0.501369059085846,\n",
              "   0.31503933668136597,\n",
              "   -1.4995743036270142,\n",
              "   0.920889675617218],\n",
              "  [0.5158088803291321,\n",
              "   0.31579291820526123,\n",
              "   -1.500583291053772,\n",
              "   0.9173220992088318],\n",
              "  [0.5337693691253662,\n",
              "   0.3158043622970581,\n",
              "   -1.500672698020935,\n",
              "   0.9342018961906433],\n",
              "  [0.45192182064056396,\n",
              "   0.3145601153373718,\n",
              "   -1.5011669397354126,\n",
              "   0.935892641544342],\n",
              "  [0.4369954466819763,\n",
              "   0.3144415020942688,\n",
              "   -1.5025094747543335,\n",
              "   0.948828399181366],\n",
              "  [0.42431968450546265,\n",
              "   0.31316906213760376,\n",
              "   -1.5036656856536865,\n",
              "   0.9612526893615723],\n",
              "  [0.559418797492981,\n",
              "   0.32501864433288574,\n",
              "   -1.091577410697937,\n",
              "   0.9650343060493469],\n",
              "  [0.400733083486557,\n",
              "   0.3240092396736145,\n",
              "   -1.0950819253921509,\n",
              "   0.9298573136329651],\n",
              "  [0.5028167366981506,\n",
              "   0.38731205463409424,\n",
              "   -1.3775126934051514,\n",
              "   0.971735954284668],\n",
              "  [0.4446449279785156,\n",
              "   0.38691723346710205,\n",
              "   -1.3850795030593872,\n",
              "   0.9665442109107971],\n",
              "  [0.7075890302658081,\n",
              "   0.5231021642684937,\n",
              "   -0.7572872638702393,\n",
              "   0.9981491565704346],\n",
              "  [0.2661507725715637,\n",
              "   0.5217971801757812,\n",
              "   -0.7735380530357361,\n",
              "   0.996570348739624],\n",
              "  [0.7832071185112,\n",
              "   0.8194255828857422,\n",
              "   -0.8081395030021667,\n",
              "   0.9038782119750977],\n",
              "  [0.2055298238992691,\n",
              "   0.8222038745880127,\n",
              "   -0.7808226943016052,\n",
              "   0.7699164748191833],\n",
              "  [0.6036680936813354,\n",
              "   0.994743287563324,\n",
              "   -1.2888829708099365,\n",
              "   0.4034759998321533],\n",
              "  [0.3857075870037079,\n",
              "   0.995371401309967,\n",
              "   -1.155436396598816,\n",
              "   0.33906203508377075],\n",
              "  [0.5689857602119446,\n",
              "   1.0646976232528687,\n",
              "   -1.4413501024246216,\n",
              "   0.3451281785964966],\n",
              "  [0.4140934944152832,\n",
              "   1.0520681142807007,\n",
              "   -1.3112250566482544,\n",
              "   0.2622115910053253],\n",
              "  [0.5271465182304382,\n",
              "   1.035380244255066,\n",
              "   -1.4930330514907837,\n",
              "   0.3837875723838806],\n",
              "  [0.4585523307323456,\n",
              "   1.0319077968597412,\n",
              "   -1.3551623821258545,\n",
              "   0.2983759641647339],\n",
              "  [0.5379438996315002,\n",
              "   1.0094482898712158,\n",
              "   -1.3153817653656006,\n",
              "   0.32388409972190857],\n",
              "  [0.4574207365512848,\n",
              "   1.0085145235061646,\n",
              "   -1.180559754371643,\n",
              "   0.26092395186424255],\n",
              "  [0.6227213144302368,\n",
              "   1.0114033222198486,\n",
              "   0.021340321749448776,\n",
              "   0.7824094891548157],\n",
              "  [0.36618298292160034,\n",
              "   1.0085755586624146,\n",
              "   -0.021686606109142303,\n",
              "   0.7905631065368652],\n",
              "  [0.6221087574958801,\n",
              "   1.4161672592163086,\n",
              "   -0.10236073285341263,\n",
              "   0.011364703066647053],\n",
              "  [0.35928869247436523,\n",
              "   1.380197286605835,\n",
              "   -0.270814448595047,\n",
              "   0.020796798169612885],\n",
              "  [0.611251950263977,\n",
              "   1.7296481132507324,\n",
              "   0.38340646028518677,\n",
              "   0.005941218230873346],\n",
              "  [0.3542357087135315,\n",
              "   1.7053961753845215,\n",
              "   0.48943182826042175,\n",
              "   0.005582092795521021],\n",
              "  [0.6162397861480713,\n",
              "   1.7706940174102783,\n",
              "   0.4082429111003876,\n",
              "   0.00535711320117116],\n",
              "  [0.3538505434989929,\n",
              "   1.748164176940918,\n",
              "   0.5529521703720093,\n",
              "   0.005474563222378492],\n",
              "  [0.5561780333518982,\n",
              "   1.8456536531448364,\n",
              "   -0.04928658902645111,\n",
              "   0.004052815027534962],\n",
              "  [0.3814406991004944,\n",
              "   1.8298685550689697,\n",
              "   0.1692638397216797,\n",
              "   0.003103462280705571]],\n",
              " 'face_landmarks': [[0.4727153182029724,\n",
              "   0.3733082413673401,\n",
              "   -0.023664791136980057],\n",
              "  [0.47178712487220764, 0.3492484390735626, -0.04624607414007187],\n",
              "  [0.4717014729976654, 0.3571074604988098, -0.024626297876238823],\n",
              "  [0.46622392535209656, 0.3238300681114197, -0.034547366201877594],\n",
              "  [0.4721112549304962, 0.3412880301475525, -0.04921891912817955],\n",
              "  [0.47272467613220215, 0.33114001154899597, -0.045901861041784286],\n",
              "  [0.4743754267692566, 0.3071547746658325, -0.023458000272512436],\n",
              "  [0.4186766445636749, 0.30387985706329346, 0.014119165018200874],\n",
              "  [0.4751814305782318, 0.2935061752796173, -0.018444331362843513],\n",
              "  [0.47564324736595154, 0.2841067612171173, -0.020292561501264572],\n",
              "  [0.4780360758304596, 0.24396899342536926, -0.010359730571508408],\n",
              "  [0.47257983684539795, 0.3762352466583252, -0.022327257320284843],\n",
              "  [0.47238725423812866, 0.379103422164917, -0.019531667232513428],\n",
              "  [0.47227242588996887, 0.381077378988266, -0.015461113303899765],\n",
              "  [0.47239187359809875, 0.3813951313495636, -0.015455566346645355],\n",
              "  [0.47234246134757996, 0.3850415050983429, -0.016834868118166924],\n",
              "  [0.47210630774497986, 0.3894795775413513, -0.01910874806344509],\n",
              "  [0.4718247354030609, 0.39417389035224915, -0.018636317923665047],\n",
              "  [0.47031065821647644, 0.405144065618515, -0.011598985642194748],\n",
              "  [0.4717251658439636, 0.35346752405166626, -0.041833870112895966],\n",
              "  [0.46341320872306824, 0.3529355525970459, -0.029857030138373375],\n",
              "  [0.3860147297382355, 0.27873820066452026, 0.05518960952758789],\n",
              "  [0.44044142961502075, 0.3096579611301422, 0.00499713746830821],\n",
              "  [0.43238532543182373, 0.3103443682193756, 0.00569062028080225],\n",
              "  [0.4245760440826416, 0.31016507744789124, 0.008123033680021763],\n",
              "  [0.4149750769138336, 0.30676326155662537, 0.015504680573940277],\n",
              "  [0.4473523795604706, 0.30798372626304626, 0.00514499144628644],\n",
              "  [0.4289560914039612, 0.2918453514575958, 0.0013806320494040847],\n",
              "  [0.4381565749645233, 0.2922183573246002, 0.0012380476109683514],\n",
              "  [0.4206134080886841, 0.29325777292251587, 0.0042818947695195675],\n",
              "  [0.4152824878692627, 0.29587557911872864, 0.008098597638309002],\n",
              "  [0.4072953462600708, 0.3112220764160156, 0.019991055130958557],\n",
              "  [0.4375719428062439, 0.4193965196609497, 0.0008939452236518264],\n",
              "  [0.4159289300441742, 0.30250364542007446, 0.0168068278580904],\n",
              "  [0.3821519911289215, 0.3115593194961548, 0.05915186181664467],\n",
              "  [0.39776700735092163, 0.306861013174057, 0.028708044439554214],\n",
              "  [0.43085533380508423, 0.34212157130241394, -0.0033637608867138624],\n",
              "  [0.46041762828826904, 0.37093791365623474, -0.02223999984562397],\n",
              "  [0.4615260362625122, 0.3781021237373352, -0.017697425559163094],\n",
              "  [0.44857925176620483, 0.37270164489746094, -0.016175875440239906],\n",
              "  [0.44081538915634155, 0.37499964237213135, -0.00846933014690876],\n",
              "  [0.4521254301071167, 0.37776535749435425, -0.013281183317303658],\n",
              "  [0.4448227286338806, 0.3779800236225128, -0.006349919363856316],\n",
              "  [0.42965540289878845, 0.3893103003501892, 0.005385273136198521],\n",
              "  [0.46450570225715637, 0.3488536477088928, -0.04527158662676811],\n",
              "  [0.4638112783432007, 0.34122875332832336, -0.04793475940823555],\n",
              "  [0.40311399102211, 0.2912231385707855, 0.009663315489888191],\n",
              "  [0.44949716329574585, 0.3236265182495117, -0.005468766205012798],\n",
              "  [0.44378283619880676, 0.3456662893295288, -0.023060452193021774],\n",
              "  [0.44376933574676514, 0.34150776267051697, -0.02027430571615696],\n",
              "  [0.4068862795829773, 0.3407241106033325, 0.00870419479906559],\n",
              "  [0.46496543288230896, 0.3318174481391907, -0.04283564165234566],\n",
              "  [0.42308616638183594, 0.2842457890510559, -0.006731876637786627],\n",
              "  [0.41134679317474365, 0.28660672903060913, 0.000276176753686741],\n",
              "  [0.39455536007881165, 0.26495903730392456, 0.037470798939466476],\n",
              "  [0.45948106050491333, 0.29039594531059265, -0.015092271380126476],\n",
              "  [0.4461240768432617, 0.294576495885849, 0.003809987800195813],\n",
              "  [0.422846257686615, 0.38142019510269165, 0.008002711459994316],\n",
              "  [0.38808339834213257, 0.38603898882865906, 0.081889808177948],\n",
              "  [0.44987037777900696, 0.35032564401626587, -0.01993504911661148],\n",
              "  [0.4569360613822937, 0.35305270552635193, -0.021713167428970337],\n",
              "  [0.4317691922187805, 0.3791419565677643, 0.007502683438360691],\n",
              "  [0.43409913778305054, 0.37910163402557373, 0.005071648862212896],\n",
              "  [0.4068557918071747, 0.2820360064506531, 0.004844334442168474],\n",
              "  [0.44283807277679443, 0.34883907437324524, -0.018320921808481216],\n",
              "  [0.43918606638908386, 0.28508633375167847, -0.011947663500905037],\n",
              "  [0.4376940429210663, 0.27918893098831177, -0.013727553188800812],\n",
              "  [0.42983052134513855, 0.24710023403167725, 0.0028520096093416214],\n",
              "  [0.4006728231906891, 0.2731640934944153, 0.01888158917427063],\n",
              "  [0.4343423545360565, 0.26235657930374146, -0.005943687167018652],\n",
              "  [0.39829403162002563, 0.2879374027252197, 0.017328331246972084],\n",
              "  [0.39179548621177673, 0.2840243875980377, 0.03521682694554329],\n",
              "  [0.4606977105140686, 0.37486860156059265, -0.02080407179892063],\n",
              "  [0.45029371976852417, 0.37546253204345703, -0.015002865344285965],\n",
              "  [0.44272539019584656, 0.3765643537044525, -0.008100846782326698],\n",
              "  [0.45171427726745605, 0.3518088459968567, -0.018639162182807922],\n",
              "  [0.43293657898902893, 0.3791322708129883, 0.006157640367746353],\n",
              "  [0.43730655312538147, 0.3809419572353363, 0.00012849969789385796],\n",
              "  [0.4353485107421875, 0.37911257147789, 0.004614813253283501],\n",
              "  [0.4550853669643402, 0.34829041361808777, -0.03216852620244026],\n",
              "  [0.44657984375953674, 0.37902870774269104, -0.004900886211544275],\n",
              "  [0.45377305150032043, 0.37932732701301575, -0.009719268418848515],\n",
              "  [0.4624476134777069, 0.38013404607772827, -0.013758670538663864],\n",
              "  [0.4584416449069977, 0.4043810963630676, -0.010432807728648186],\n",
              "  [0.4598116874694824, 0.39287441968917847, -0.017274342477321625],\n",
              "  [0.4605773091316223, 0.3881712555885315, -0.017659615725278854],\n",
              "  [0.4615674316883087, 0.3838214874267578, -0.015114578418433666],\n",
              "  [0.46258869767189026, 0.38045746088027954, -0.013718626461923122],\n",
              "  [0.4466345012187958, 0.37922409176826477, -0.00479163508862257],\n",
              "  [0.4447918236255646, 0.38085275888442993, -0.006307139992713928],\n",
              "  [0.4426817297935486, 0.3830432891845703, -0.007519218139350414],\n",
              "  [0.44089218974113464, 0.3856227695941925, -0.005907213781028986],\n",
              "  [0.4331996738910675, 0.3690562844276428, -0.005816234275698662],\n",
              "  [0.38127827644348145, 0.34762436151504517, 0.09514354914426804],\n",
              "  [0.4717269241809845, 0.3552798926830292, -0.030584316700696945],\n",
              "  [0.4412572383880615, 0.3790765106678009, 0.000792848295532167],\n",
              "  [0.4393525719642639, 0.3799207806587219, -6.774193025194108e-05],\n",
              "  [0.459774911403656, 0.35622963309288025, -0.022033613175153732],\n",
              "  [0.4457366466522217, 0.35352861881256104, -0.012249885126948357],\n",
              "  [0.4584190547466278, 0.3546801209449768, -0.022164925932884216],\n",
              "  [0.4405588209629059, 0.3277556002140045, -0.0020725855138152838],\n",
              "  [0.42690426111221313, 0.3323659896850586, 0.0007197145605459809],\n",
              "  [0.4419095516204834, 0.3448336124420166, -0.015284191817045212],\n",
              "  [0.4086681008338928, 0.2540488541126251, 0.018885675817728043],\n",
              "  [0.41439855098724365, 0.2655295729637146, 0.005680565256625414],\n",
              "  [0.42036172747612, 0.2785167992115021, -0.004728261847048998],\n",
              "  [0.43724575638771057, 0.39526379108428955, -9.836440585786477e-05],\n",
              "  [0.4570313096046448, 0.2810143828392029, -0.01852254383265972],\n",
              "  [0.4543096423149109, 0.2616676092147827, -0.01289332751184702],\n",
              "  [0.4520655870437622, 0.24408474564552307, -0.007040195632725954],\n",
              "  [0.41837766766548157, 0.3090340793132782, 0.011920846998691559],\n",
              "  [0.3980211317539215, 0.3161819279193878, 0.025371495634317398],\n",
              "  [0.4518527388572693, 0.3063200116157532, 0.006072754506021738],\n",
              "  [0.4067990183830261, 0.29888686537742615, 0.015627553686499596],\n",
              "  [0.45565420389175415, 0.3188799321651459, -0.009124400094151497],\n",
              "  [0.4499649405479431, 0.3433035910129547, -0.031824421137571335],\n",
              "  [0.38874971866607666, 0.32411283254623413, 0.03533165156841278],\n",
              "  [0.40353769063949585, 0.32122117280960083, 0.01764458604156971],\n",
              "  [0.4138486087322235, 0.3240605890750885, 0.009539715014398098],\n",
              "  [0.4294281303882599, 0.3230487108230591, 0.004693757276982069],\n",
              "  [0.4410334527492523, 0.3200382888317108, 0.002394791692495346],\n",
              "  [0.4496389627456665, 0.31671249866485596, -0.0006066426285542548],\n",
              "  [0.46648192405700684, 0.3089730739593506, -0.019564444199204445],\n",
              "  [0.3890197277069092, 0.3394043743610382, 0.03328777477145195],\n",
              "  [0.3999004364013672, 0.2981734275817871, 0.019766615703701973],\n",
              "  [0.46732497215270996, 0.35309112071990967, -0.041155729442834854],\n",
              "  [0.44877889752388, 0.33069512248039246, -0.008893919177353382],\n",
              "  [0.3798457980155945, 0.3120705187320709, 0.08819638192653656],\n",
              "  [0.4561651945114136, 0.31302785873413086, -0.0023521690163761377],\n",
              "  [0.4414369463920593, 0.34530019760131836, -0.006128683220595121],\n",
              "  [0.41217443346977234, 0.3031381368637085, 0.018445374444127083],\n",
              "  [0.4500938653945923, 0.33834314346313477, -0.02846570312976837],\n",
              "  [0.38352149724960327, 0.3666631281375885, 0.09083985537290573],\n",
              "  [0.4518275260925293, 0.3038042187690735, 0.008335843682289124],\n",
              "  [0.4576154351234436, 0.33441418409347534, -0.03728180378675461],\n",
              "  [0.4031153917312622, 0.40116506814956665, 0.0362250842154026],\n",
              "  [0.40439373254776, 0.4120646119117737, 0.050657257437705994],\n",
              "  [0.38199612498283386, 0.34402868151664734, 0.06418023258447647],\n",
              "  [0.39367708563804626, 0.39105674624443054, 0.04724598303437233],\n",
              "  [0.3867758512496948, 0.29648062586784363, 0.049700330942869186],\n",
              "  [0.43565890192985535, 0.4285527467727661, 0.005552126094698906],\n",
              "  [0.46813905239105225, 0.3548417389392853, -0.029881702736020088],\n",
              "  [0.4408855140209198, 0.3361128568649292, -0.005394504871219397],\n",
              "  [0.3906485438346863, 0.3079216778278351, 0.03779372200369835],\n",
              "  [0.4258939027786255, 0.30565953254699707, 0.00894076656550169],\n",
              "  [0.43253350257873535, 0.30604827404022217, 0.006622943561524153],\n",
              "  [0.4354482889175415, 0.38218769431114197, 0.0017601823201403022],\n",
              "  [0.3891094923019409, 0.35541409254074097, 0.036160778254270554],\n",
              "  [0.45127949118614197, 0.44067126512527466, 0.005785475950688124],\n",
              "  [0.42646363377571106, 0.4298538863658905, 0.02553253062069416],\n",
              "  [0.41614195704460144, 0.422481894493103, 0.03685882315039635],\n",
              "  [0.47674480080604553, 0.2623603343963623, -0.01570768840610981],\n",
              "  [0.4694766700267792, 0.4426499903202057, 0.002482534619048238],\n",
              "  [0.43926042318344116, 0.30554693937301636, 0.005890357308089733],\n",
              "  [0.44565755128860474, 0.30462446808815, 0.006707656662911177],\n",
              "  [0.44981107115745544, 0.3042266368865967, 0.008177456445991993],\n",
              "  [0.3940246105194092, 0.2965333163738251, 0.028734173625707626],\n",
              "  [0.44467252492904663, 0.29913750290870667, 0.005615901667624712],\n",
              "  [0.43782567977905273, 0.2975688576698303, 0.004012474790215492],\n",
              "  [0.4309498965740204, 0.29748764634132385, 0.0045663961209356785],\n",
              "  [0.4241792559623718, 0.29869017004966736, 0.006888885982334614],\n",
              "  [0.42005109786987305, 0.3003067970275879, 0.010014199651777744],\n",
              "  [0.3815751075744629, 0.29343461990356445, 0.07364236563444138],\n",
              "  [0.4215906858444214, 0.30479520559310913, 0.01168739702552557],\n",
              "  [0.4715128540992737, 0.36345386505126953, -0.022429363802075386],\n",
              "  [0.4419645071029663, 0.36485734581947327, -0.011970148421823978],\n",
              "  [0.45013266801834106, 0.34912043809890747, -0.023311614990234375],\n",
              "  [0.4588701128959656, 0.3632015287876129, -0.021284710615873337],\n",
              "  [0.4748440980911255, 0.30020928382873535, -0.017409052699804306],\n",
              "  [0.41366228461265564, 0.41186779737472534, 0.026727238669991493],\n",
              "  [0.42424020171165466, 0.4203597605228424, 0.01661188341677189],\n",
              "  [0.45070046186447144, 0.43418264389038086, -0.004120142199099064],\n",
              "  [0.3954983055591583, 0.401027649641037, 0.06692387908697128],\n",
              "  [0.4495099186897278, 0.30180075764656067, 0.007162430789321661],\n",
              "  [0.46050718426704407, 0.3206124007701874, -0.021255964413285255],\n",
              "  [0.4696122407913208, 0.43604180216789246, -0.007027928717434406],\n",
              "  [0.4376888573169708, 0.43613895773887634, 0.013875233940780163],\n",
              "  [0.3837350010871887, 0.3613612949848175, 0.0628071129322052],\n",
              "  [0.4538920819759369, 0.3796243965625763, -0.00968796107918024],\n",
              "  [0.45209765434265137, 0.38225752115249634, -0.011241612024605274],\n",
              "  [0.450493186712265, 0.3856619894504547, -0.012774576433002949],\n",
              "  [0.4492197036743164, 0.3898109793663025, -0.011769936420023441],\n",
              "  [0.4465548098087311, 0.4005015790462494, -0.006122348364442587],\n",
              "  [0.43907785415649414, 0.3784140646457672, -0.0002944904554169625],\n",
              "  [0.43702512979507446, 0.3778013288974762, -0.00013134036271367222],\n",
              "  [0.43529149889945984, 0.3770366609096527, -0.0001379890600219369],\n",
              "  [0.4261607229709625, 0.374550461769104, 0.0015458657871931791],\n",
              "  [0.3987804651260376, 0.358302503824234, 0.018230363726615906],\n",
              "  [0.46133679151535034, 0.31342098116874695, -0.013680878095328808],\n",
              "  [0.4582890272140503, 0.2992398738861084, 0.0016636577202007174],\n",
              "  [0.45303747057914734, 0.2996492087841034, 0.005298942793160677],\n",
              "  [0.4412364065647125, 0.3789876401424408, 0.0006169108091853559],\n",
              "  [0.39653077721595764, 0.37820786237716675, 0.03130386024713516],\n",
              "  [0.4650067985057831, 0.299763023853302, -0.010516535490751266],\n",
              "  [0.4419979155063629, 0.4098202884197235, -0.00223167659714818],\n",
              "  [0.47332900762557983, 0.32276514172554016, -0.037961751222610474],\n",
              "  [0.46624553203582764, 0.31654906272888184, -0.027846280485391617],\n",
              "  [0.4738667905330658, 0.3150114417076111, -0.03026963211596012],\n",
              "  [0.45362335443496704, 0.3322446942329407, -0.020687179639935493],\n",
              "  [0.4697449207305908, 0.42674997448921204, -0.011951184831559658],\n",
              "  [0.47004592418670654, 0.4153565764427185, -0.011890986934304237],\n",
              "  [0.4554191827774048, 0.41437479853630066, -0.00929801631718874],\n",
              "  [0.4226376414299011, 0.39399290084838867, 0.009997308254241943],\n",
              "  [0.4346132278442383, 0.351791650056839, -0.0037579636555165052],\n",
              "  [0.4315814673900604, 0.40312495827674866, 0.004371065646409988],\n",
              "  [0.4167858064174652, 0.3508639633655548, 0.0006677479250356555],\n",
              "  [0.42650431394577026, 0.3596598505973816, -0.0011874203337356448],\n",
              "  [0.40846362709999084, 0.3636009097099304, 0.008679535239934921],\n",
              "  [0.45203253626823425, 0.42524614930152893, -0.008669967763125896],\n",
              "  [0.44778972864151, 0.33614861965179443, -0.014177344739437103],\n",
              "  [0.4160097539424896, 0.40142396092414856, 0.017603935673832893],\n",
              "  [0.42680734395980835, 0.41099435091018677, 0.010316751897335052],\n",
              "  [0.4158337712287903, 0.3836483657360077, 0.011604908853769302],\n",
              "  [0.3901395797729492, 0.36925554275512695, 0.039067428559064865],\n",
              "  [0.40619149804115295, 0.38599830865859985, 0.019995057955384254],\n",
              "  [0.38682788610458374, 0.3771825432777405, 0.05890430882573128],\n",
              "  [0.4187009334564209, 0.369296669960022, 0.003782567335292697],\n",
              "  [0.45494917035102844, 0.32564476132392883, -0.014600482769310474],\n",
              "  [0.4524490535259247, 0.34682610630989075, -0.03381703794002533],\n",
              "  [0.44627845287323, 0.34834298491477966, -0.024269934743642807],\n",
              "  [0.4565619230270386, 0.3419753611087799, -0.04049478843808174],\n",
              "  [0.4523364305496216, 0.2937681972980499, -0.0009090947569347918],\n",
              "  [0.43877333402633667, 0.2898954153060913, -0.002708056941628456],\n",
              "  [0.42676588892936707, 0.2892955541610718, -0.002091884147375822],\n",
              "  [0.4169141948223114, 0.2907950282096863, 0.0017690769163891673],\n",
              "  [0.4101518988609314, 0.29390233755111694, 0.007632721681147814],\n",
              "  [0.4058341085910797, 0.3050435781478882, 0.022023119032382965],\n",
              "  [0.38106128573417664, 0.3276123106479645, 0.06230870634317398],\n",
              "  [0.41175952553749084, 0.3142299950122833, 0.015749961137771606],\n",
              "  [0.4197811484336853, 0.3162596821784973, 0.010169224813580513],\n",
              "  [0.43064066767692566, 0.3162102699279785, 0.006245581898838282],\n",
              "  [0.4409770667552948, 0.3144609034061432, 0.0047442298382520676],\n",
              "  [0.4490344524383545, 0.31213071942329407, 0.0034707067534327507],\n",
              "  [0.4546239972114563, 0.309935986995697, 0.0027476628310978413],\n",
              "  [0.38037407398223877, 0.3298203945159912, 0.09476730972528458],\n",
              "  [0.44606128334999084, 0.35025182366371155, -0.020005304366350174],\n",
              "  [0.4597863256931305, 0.327363520860672, -0.027956044301390648],\n",
              "  [0.45854467153549194, 0.3475744128227234, -0.04084285348653793],\n",
              "  [0.4631200134754181, 0.35175517201423645, -0.03759663179516792],\n",
              "  [0.45864152908325195, 0.3489586412906647, -0.03662292659282684],\n",
              "  [0.4483044445514679, 0.35264959931373596, -0.017234422266483307],\n",
              "  [0.46466147899627686, 0.3524894714355469, -0.03993764519691467],\n",
              "  [0.46534478664398193, 0.35419318079948425, -0.029841380193829536],\n",
              "  [0.45472824573516846, 0.30422887206077576, 0.006750904023647308],\n",
              "  [0.4589918255805969, 0.3061772882938385, 0.001274069189094007],\n",
              "  [0.4611746370792389, 0.30768948793411255, -0.005467244889587164],\n",
              "  [0.4177236557006836, 0.3015223741531372, 0.012940225191414356],\n",
              "  [0.4118550717830658, 0.2990148663520813, 0.013282295316457748],\n",
              "  [0.48051637411117554, 0.3242262005805969, -0.035210758447647095],\n",
              "  [0.5325221419334412, 0.3098984956741333, 0.009311997331678867],\n",
              "  [0.4804750084877014, 0.35346072912216187, -0.030325494706630707],\n",
              "  [0.5689502954483032, 0.28367388248443604, 0.047931354492902756],\n",
              "  [0.5089832544326782, 0.3149315118789673, 0.001801615348085761],\n",
              "  [0.5172989368438721, 0.3158889412879944, 0.001924986019730568],\n",
              "  [0.5253194570541382, 0.3158565163612366, 0.0038031165022403],\n",
              "  [0.5359584093093872, 0.312736839056015, 0.010421017184853554],\n",
              "  [0.501991331577301, 0.31282278895378113, 0.002585318870842457],\n",
              "  [0.5228763818740845, 0.29621419310569763, -0.0025113883893936872],\n",
              "  [0.5131638050079346, 0.29644662141799927, -0.0018813401693478227],\n",
              "  [0.5314022898674011, 0.2979116439819336, -0.00010833957639988512],\n",
              "  [0.5366054773330688, 0.3009025752544403, 0.0033071290235966444],\n",
              "  [0.5427101850509644, 0.3175264000892639, 0.01453777402639389],\n",
              "  [0.5035094618797302, 0.42188841104507446, -0.0012485894840210676],\n",
              "  [0.5355852842330933, 0.3081830143928528, 0.011795392259955406],\n",
              "  [0.5692327618598938, 0.3169231116771698, 0.051859211176633835],\n",
              "  [0.552700936794281, 0.3137727677822113, 0.022638222202658653],\n",
              "  [0.5160980820655823, 0.34487226605415344, -0.006510457023978233],\n",
              "  [0.48486483097076416, 0.3721799850463867, -0.023046264424920082],\n",
              "  [0.4830261766910553, 0.37924644351005554, -0.018427548930048943],\n",
              "  [0.4960024058818817, 0.37516939640045166, -0.017895443364977837],\n",
              "  [0.5030272006988525, 0.37828758358955383, -0.010881601832807064],\n",
              "  [0.49198058247566223, 0.3799164295196533, -0.014819774776697159],\n",
              "  [0.4988161623477936, 0.3809264898300171, -0.008378224447369576],\n",
              "  [0.5134420990943909, 0.3924502730369568, 0.0022492490243166685],\n",
              "  [0.479245662689209, 0.34929758310317993, -0.045660350471735],\n",
              "  [0.4805152118206024, 0.3417057693004608, -0.0484442263841629],\n",
              "  [0.5491148233413696, 0.2970844805240631, 0.004035593941807747],\n",
              "  [0.4990723431110382, 0.3251298666000366, -0.007486891001462936],\n",
              "  [0.5013656616210938, 0.3475833535194397, -0.024892034009099007],\n",
              "  [0.5019630193710327, 0.3434080183506012, -0.02220294624567032],\n",
              "  [0.5410282611846924, 0.344988614320755, 0.0035130754113197327],\n",
              "  [0.4805145561695099, 0.3322261571884155, -0.04349524527788162],\n",
              "  [0.5295819640159607, 0.2892008125782013, -0.010577189736068249],\n",
              "  [0.5413351655006409, 0.29189032316207886, -0.004558364395052195],\n",
              "  [0.5613386631011963, 0.2693817615509033, 0.030998628586530685],\n",
              "  [0.49197953939437866, 0.29470765590667725, -0.016386646777391434],\n",
              "  [0.5045261979103088, 0.2989428639411926, 0.0012052925303578377],\n",
              "  [0.5209857821464539, 0.3850264251232147, 0.004292486235499382],\n",
              "  [0.5596464276313782, 0.39168781042099, 0.07518559694290161],\n",
              "  [0.49483156204223633, 0.35189181566238403, -0.021172966808080673],\n",
              "  [0.4873892068862915, 0.35408949851989746, -0.02232581377029419],\n",
              "  [0.5109357833862305, 0.3834998905658722, 0.004243184346705675],\n",
              "  [0.5085645318031311, 0.3832296133041382, 0.002159545198082924],\n",
              "  [0.5463135838508606, 0.2878246009349823, -0.00024784752167761326],\n",
              "  [0.5021423101425171, 0.35092923045158386, -0.02009791135787964],\n",
              "  [0.5132619738578796, 0.28985968232154846, -0.014579757116734982],\n",
              "  [0.5152829885482788, 0.2843359112739563, -0.016417985782027245],\n",
              "  [0.5264471769332886, 0.24966609477996826, -0.0009307742584496737],\n",
              "  [0.5536842942237854, 0.27744320034980774, 0.013348923064768314],\n",
              "  [0.5195021033287048, 0.26479485630989075, -0.009016083553433418],\n",
              "  [0.5542861819267273, 0.2944971024990082, 0.011390311643481255],\n",
              "  [0.5620080828666687, 0.2888955771923065, 0.028742648661136627],\n",
              "  [0.4841585159301758, 0.37609177827835083, -0.021640436723828316],\n",
              "  [0.49401915073394775, 0.3777969181537628, -0.016643259674310684],\n",
              "  [0.5010032057762146, 0.37968870997428894, -0.01030717696994543],\n",
              "  [0.4927833676338196, 0.35326096415519714, -0.01969921588897705],\n",
              "  [0.5097381472587585, 0.38337796926498413, 0.0031066150404512882],\n",
              "  [0.5057004690170288, 0.38470208644866943, -0.002479939954355359],\n",
              "  [0.5072541832923889, 0.38309046626091003, 0.0017932894406840205],\n",
              "  [0.4894062280654907, 0.34940654039382935, -0.03341289237141609],\n",
              "  [0.4969002604484558, 0.3817973732948303, -0.006846703588962555],\n",
              "  [0.49013543128967285, 0.3813062906265259, -0.011160490103065968],\n",
              "  [0.48184433579444885, 0.3811624050140381, -0.014540868811309338],\n",
              "  [0.4826281666755676, 0.4053121507167816, -0.011175311170518398],\n",
              "  [0.4836331903934479, 0.3941763639450073, -0.018083328381180763],\n",
              "  [0.4833401143550873, 0.3893595337867737, -0.018510865047574043],\n",
              "  [0.4827621281147003, 0.3849121928215027, -0.015970449894666672],\n",
              "  [0.4819348454475403, 0.3814769387245178, -0.014509666711091995],\n",
              "  [0.496926873922348, 0.3819858431816101, -0.006764959543943405],\n",
              "  [0.49883031845092773, 0.3838167190551758, -0.008290612138807774],\n",
              "  [0.5007883906364441, 0.38624194264411926, -0.009586458094418049],\n",
              "  [0.5023243427276611, 0.38899901509284973, -0.008132637478411198],\n",
              "  [0.5106925368309021, 0.3717983663082123, -0.008629117161035538],\n",
              "  [0.5686670541763306, 0.35327664017677307, 0.08753623813390732],\n",
              "  [0.5017663240432739, 0.3824249505996704, -0.0017133315559476614],\n",
              "  [0.5037177205085754, 0.3834826648235321, -0.002611824544146657],\n",
              "  [0.4842020273208618, 0.35712289810180664, -0.022701097652316093],\n",
              "  [0.4990127682685852, 0.3555091321468353, -0.013697288930416107],\n",
              "  [0.4857306182384491, 0.3556414544582367, -0.022778041660785675],\n",
              "  [0.5077426433563232, 0.3298531174659729, -0.004802974406629801],\n",
              "  [0.5212634801864624, 0.3353448510169983, -0.003012563567608595],\n",
              "  [0.5036935210227966, 0.3469535708427429, -0.01725856214761734],\n",
              "  [0.5477011203765869, 0.25772392749786377, 0.013565859757363796],\n",
              "  [0.5399447679519653, 0.2691270112991333, 0.0011967445025220513],\n",
              "  [0.5329416394233704, 0.2839225232601166, -0.008793804794549942],\n",
              "  [0.5052000880241394, 0.3978019654750824, -0.0027021903079003096],\n",
              "  [0.4955560863018036, 0.2859921455383301, -0.01990346796810627],\n",
              "  [0.4992971420288086, 0.2629208266735077, -0.014477386139333248],\n",
              "  [0.5040864944458008, 0.24543243646621704, -0.008937100879848003],\n",
              "  [0.5319556593894958, 0.3150396943092346, 0.007150537334382534],\n",
              "  [0.5512443780899048, 0.3227580785751343, 0.019327880814671516],\n",
              "  [0.497421532869339, 0.3108719289302826, 0.003804702777415514],\n",
              "  [0.5446796417236328, 0.3047756254673004, 0.010134672746062279],\n",
              "  [0.4931928515434265, 0.3199892044067383, -0.010760558769106865],\n",
              "  [0.4950602054595947, 0.3447616994380951, -0.033305346965789795],\n",
              "  [0.5611520409584045, 0.3292960524559021, 0.02850295417010784],\n",
              "  [0.545157790184021, 0.32710975408554077, 0.01196979358792305],\n",
              "  [0.5343103408813477, 0.32889556884765625, 0.0046312701888382435],\n",
              "  [0.5185452699661255, 0.3271656334400177, 0.000899630831554532],\n",
              "  [0.5069702863693237, 0.32379150390625, -0.0005102576687932014],\n",
              "  [0.4983871877193451, 0.32011324167251587, -0.002751996275037527],\n",
              "  [0.48238569498062134, 0.3094151020050049, -0.020258622244000435],\n",
              "  [0.5598729252815247, 0.34478437900543213, 0.026491405442357063],\n",
              "  [0.5514670610427856, 0.3047163486480713, 0.013844438828527927],\n",
              "  [0.4762209951877594, 0.353350967168808, -0.041479747742414474],\n",
              "  [0.4987386167049408, 0.3322597146034241, -0.010822275653481483],\n",
              "  [0.572330117225647, 0.3174031972885132, 0.0804324820637703],\n",
              "  [0.49208685755729675, 0.31611698865890503, -0.004057517275214195],\n",
              "  [0.5044493675231934, 0.3474899232387543, -0.008187302388250828],\n",
              "  [0.5392558574676514, 0.30895090103149414, 0.01322789117693901],\n",
              "  [0.4956354796886444, 0.3397752046585083, -0.029968541115522385],\n",
              "  [0.5654164552688599, 0.37238210439682007, 0.0836772471666336],\n",
              "  [0.4975036680698395, 0.3084835708141327, 0.00601881742477417],\n",
              "  [0.4880169630050659, 0.3352862298488617, -0.038424476981163025],\n",
              "  [0.5418797135353088, 0.4061735272407532, 0.03128703311085701],\n",
              "  [0.5405324697494507, 0.4171508550643921, 0.04559534043073654],\n",
              "  [0.567133367061615, 0.349691241979599, 0.05682457983493805],\n",
              "  [0.5524322986602783, 0.3964957296848297, 0.041452955454587936],\n",
              "  [0.5658119320869446, 0.3015592098236084, 0.04275977984070778],\n",
              "  [0.5050721168518066, 0.43124255537986755, 0.0032503241673111916],\n",
              "  [0.47539493441581726, 0.3550723195075989, -0.030067920684814453],\n",
              "  [0.5063106417655945, 0.338235467672348, -0.007794711273163557],\n",
              "  [0.559822678565979, 0.3155781328678131, 0.03113996610045433],\n",
              "  [0.5246199369430542, 0.31178367137908936, 0.004700928460806608],\n",
              "  [0.5176423192024231, 0.31196796894073486, 0.0028157075867056847],\n",
              "  [0.5074643492698669, 0.38611549139022827, -0.0010402173502370715],\n",
              "  [0.5589544773101807, 0.36089643836021423, 0.02963149920105934],\n",
              "  [0.4880853295326233, 0.44208595156669617, 0.004555051214993],\n",
              "  [0.5153235793113708, 0.43331459164619446, 0.02229262702167034],\n",
              "  [0.5271927118301392, 0.426774263381958, 0.03278525173664093],\n",
              "  [0.5106551647186279, 0.31121763586997986, 0.002637825207784772],\n",
              "  [0.5040381550788879, 0.3099043667316437, 0.003939697984606028],\n",
              "  [0.4996929466724396, 0.30920684337615967, 0.005714088212698698],\n",
              "  [0.5573961734771729, 0.3038248121738434, 0.022327950224280357],\n",
              "  [0.5058583617210388, 0.30358192324638367, 0.002799171954393387],\n",
              "  [0.51319420337677, 0.30171310901641846, 0.0007412721170112491],\n",
              "  [0.520444393157959, 0.3015553653240204, 0.0008010653546079993],\n",
              "  [0.5274040699005127, 0.303027868270874, 0.002598801162093878],\n",
              "  [0.5315098762512207, 0.30510908365249634, 0.005371757782995701],\n",
              "  [0.5720009207725525, 0.2985887825489044, 0.0661090761423111],\n",
              "  [0.5293306708335876, 0.31094643473625183, 0.007136521860957146],\n",
              "  [0.5019661784172058, 0.36700746417045593, -0.014021593146026134],\n",
              "  [0.4945369362831116, 0.35066017508506775, -0.024572061374783516],\n",
              "  [0.4846237301826477, 0.3641640841960907, -0.02210582233965397],\n",
              "  [0.5298917293548584, 0.4162479341030121, 0.022787848487496376],\n",
              "  [0.5179752707481384, 0.42402374744415283, 0.013490082696080208],\n",
              "  [0.48893916606903076, 0.4356180727481842, -0.005352449603378773],\n",
              "  [0.5508766174316406, 0.406430184841156, 0.06095593795180321],\n",
              "  [0.5002660155296326, 0.30644190311431885, 0.004635385237634182],\n",
              "  [0.4873597323894501, 0.3213885426521301, -0.02237650565803051],\n",
              "  [0.5026586651802063, 0.4386504590511322, 0.011486501432955265],\n",
              "  [0.5644581317901611, 0.3670824468135834, 0.05589434131979942],\n",
              "  [0.49024927616119385, 0.38159555196762085, -0.011090629734098911],\n",
              "  [0.49190714955329895, 0.3843976855278015, -0.012721688486635685],\n",
              "  [0.4932529330253601, 0.3879985511302948, -0.014376710169017315],\n",
              "  [0.4942213296890259, 0.39229318499565125, -0.013485291041433811],\n",
              "  [0.49511027336120605, 0.402290940284729, -0.007980044931173325],\n",
              "  [0.5040026307106018, 0.3819791078567505, -0.002807294251397252],\n",
              "  [0.5060986876487732, 0.38155075907707214, -0.0029069415759295225],\n",
              "  [0.507946789264679, 0.38095012307167053, -0.0030548926442861557],\n",
              "  [0.5177130699157715, 0.3778077960014343, -0.0019280884880572557],\n",
              "  [0.5482948422431946, 0.3632006049156189, 0.012700751423835754],\n",
              "  [0.4875771999359131, 0.3142051696777344, -0.014843671582639217],\n",
              "  [0.49187564849853516, 0.30337002873420715, 0.0001907247642520815],\n",
              "  [0.49688470363616943, 0.30408111214637756, 0.0031021111644804478],\n",
              "  [0.5017101168632507, 0.38235053420066833, -0.0018427077447995543],\n",
              "  [0.5497952699661255, 0.38334915041923523, 0.025818947702646255],\n",
              "  [0.4847963750362396, 0.3031221628189087, -0.011394725181162357],\n",
              "  [0.4994948208332062, 0.4120071530342102, -0.004245971329510212],\n",
              "  [0.48151347041130066, 0.31695497035980225, -0.02847162075340748],\n",
              "  [0.4931725561618805, 0.3334897458553314, -0.02211017906665802],\n",
              "  [0.485177606344223, 0.4155050814151764, -0.010205679573118687],\n",
              "  [0.5207155346870422, 0.39757972955703735, 0.006452451925724745],\n",
              "  [0.5109878778457642, 0.35436126589775085, -0.006341604050248861],\n",
              "  [0.510845959186554, 0.4060783386230469, 0.00155619194265455],\n",
              "  [0.5298317074775696, 0.35456013679504395, -0.0033720561768859625],\n",
              "  [0.5188308358192444, 0.36277225613594055, -0.004493705462664366],\n",
              "  [0.5376802086830139, 0.3679350018501282, 0.004029870964586735],\n",
              "  [0.48790442943573, 0.4265839159488678, -0.009858801029622555],\n",
              "  [0.4989203214645386, 0.337786465883255, -0.015950482338666916],\n",
              "  [0.5276557207107544, 0.4054761528968811, 0.013753002509474754],\n",
              "  [0.5155622959136963, 0.4143427908420563, 0.007354321889579296],\n",
              "  [0.5284392237663269, 0.38767871260643005, 0.00743782427161932],\n",
              "  [0.5572541356086731, 0.3747153878211975, 0.032987140119075775],\n",
              "  [0.5389127731323242, 0.39064109325408936, 0.015322156250476837],\n",
              "  [0.5604668259620667, 0.3828328251838684, 0.05237399786710739],\n",
              "  [0.5263091325759888, 0.3730096220970154, -0.00010533561726333573],\n",
              "  [0.49277231097221375, 0.3268013000488281, -0.016154788434505463],\n",
              "  [0.49216362833976746, 0.3481038510799408, -0.035132311284542084],\n",
              "  [0.49852028489112854, 0.3501296937465668, -0.025820955634117126],\n",
              "  [0.48811274766921997, 0.3429138660430908, -0.041495539247989655],\n",
              "  [0.4986630380153656, 0.29810696840286255, -0.0028606033883988857],\n",
              "  [0.5129643082618713, 0.2941468060016632, -0.00554248271510005],\n",
              "  [0.5254226922988892, 0.2937151789665222, -0.005849969573318958],\n",
              "  [0.5353250503540039, 0.2956241965293884, -0.002764209406450391],\n",
              "  [0.5418831706047058, 0.29925599694252014, 0.002513453597202897],\n",
              "  [0.5450925230979919, 0.31139060854911804, 0.016472015529870987],\n",
              "  [0.569072425365448, 0.3331618010997772, 0.05481014773249626],\n",
              "  [0.5378904938697815, 0.3201184868812561, 0.010561605915427208],\n",
              "  [0.5293213129043579, 0.3215493857860565, 0.005645115859806538],\n",
              "  [0.5182690024375916, 0.32108139991760254, 0.0025060814805328846],\n",
              "  [0.5078161954879761, 0.3190058171749115, 0.0017348023829981685],\n",
              "  [0.4997515380382538, 0.3163006007671356, 0.0011488542659208179],\n",
              "  [0.4942590296268463, 0.31371548771858215, 0.000836223247461021],\n",
              "  [0.5706962943077087, 0.33529460430145264, 0.08698111027479172],\n",
              "  [0.49864861369132996, 0.3520784378051758, -0.02151145599782467],\n",
              "  [0.48697710037231445, 0.3281477391719818, -0.029102036729454994],\n",
              "  [0.4855867028236389, 0.34838762879371643, -0.04169347882270813],\n",
              "  [0.48076316714286804, 0.3523010313510895, -0.038071904331445694],\n",
              "  [0.48560774326324463, 0.34983962774276733, -0.037477873265743256],\n",
              "  [0.49631041288375854, 0.35436898469924927, -0.018494995310902596],\n",
              "  [0.47900280356407166, 0.35292795300483704, -0.040312379598617554],\n",
              "  [0.47831350564956665, 0.35458824038505554, -0.030179105699062347],\n",
              "  [0.49455684423446655, 0.30855926871299744, 0.004788076039403677],\n",
              "  [0.49020978808403015, 0.30981943011283875, -0.00024517200654372573],\n",
              "  [0.4876094162464142, 0.31074681878089905, -0.00668556010350585],\n",
              "  [0.5337859988212585, 0.3067546486854553, 0.008085470646619797],\n",
              "  [0.5397517085075378, 0.30451393127441406, 0.008224854245781898],\n",
              "  [0.43223631381988525, 0.30115261673927307, 0.008655557408928871],\n",
              "  [0.44136735796928406, 0.3010973632335663, 0.008655557408928871],\n",
              "  [0.43223339319229126, 0.29498475790023804, 0.008655557408928871],\n",
              "  [0.4230790436267853, 0.3011937141418457, 0.008655557408928871],\n",
              "  [0.4321763217449188, 0.3073100447654724, 0.008655557408928871],\n",
              "  [0.51853346824646, 0.3062123656272888, 0.004943993873894215],\n",
              "  [0.5270459055900574, 0.30667513608932495, 0.004943993873894215],\n",
              "  [0.5190330147743225, 0.2998746335506439, 0.004943993873894215],\n",
              "  [0.5100530982017517, 0.3056945204734802, 0.004943993873894215],\n",
              "  [0.5180845856666565, 0.31259915232658386, 0.004943993873894215]],\n",
              " 'left_hand_landmarks': [],\n",
              " 'right_hand_landmarks': []}"
            ]
          },
          "metadata": {},
          "execution_count": 50
        }
      ]
    },
    {
      "cell_type": "code",
      "source": [],
      "metadata": {
        "id": "N2_NHfKBFAIB"
      },
      "execution_count": null,
      "outputs": []
    }
  ]
}