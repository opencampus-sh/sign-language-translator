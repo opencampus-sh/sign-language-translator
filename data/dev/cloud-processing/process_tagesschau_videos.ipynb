{
  "cells": [
    {
      "cell_type": "markdown",
      "metadata": {
        "vscode": {
          "languageId": "raw"
        }
      },
      "source": [
        "# Process Tagesschau Sign Language Videos\n",
        "\n",
        "This notebook demonstrates how to process videos from the `tagesschau_sign_language_video_links.csv` file using the cloud processing pipeline.\n",
        "\n",
        "## Workflow:\n",
        "1. Upload CSV file to Google Cloud Storage\n",
        "2. Prepare individual row files for batch processing\n",
        "3. Run cloud processing job to extract landmarks and transcripts\n",
        "4. Monitor results\n"
      ]
    },
    {
      "cell_type": "raw",
      "metadata": {
        "vscode": {
          "languageId": "raw"
        }
      },
      "source": [
        "!pip install google-cloud-storage google-cloud-aiplatform google-cloud-vertex-ai\n",
        "!pip install dotenv PyYAML tqdm\n",
        "!pip install pandas"
      ]
    },
    {
      "cell_type": "code",
      "execution_count": 1,
      "metadata": {},
      "outputs": [
        {
          "name": "stdout",
          "output_type": "stream",
          "text": [
            "Environment variables loaded from .env\n",
            "Loading configuration from /home/steffen/sign-language-translator/models/vertex_ai/config/dev.yaml\n",
            "Project ID: sign-lang-translator-20241029\n",
            "Region: europe-west3\n"
          ]
        }
      ],
      "source": [
        "import sys\n",
        "import os\n",
        "import inspect\n",
        "from pathlib import Path\n",
        "\n",
        "# Add the project root to Python path so we can import from models\n",
        "project_root = Path().cwd().parent.parent.parent\n",
        "sys.path.insert(0, str(project_root))\n",
        "\n",
        "from models.vertex_ai import CloudProcessor, MachineConfig, JobConfig, get_config\n",
        "\n",
        "# Import the new processing functions\n",
        "from csv_processor import upload_csv_and_prepare_batch_data, list_csv_rows\n",
        "from process_csv_row import process_csv_row\n",
        "\n",
        "# Get vertex ai configuration\n",
        "config = get_config(\"dev\")\n",
        "print(f\"Project ID: {config.project_id}\")\n",
        "print(f\"Region: {config.region}\")\n"
      ]
    },
    {
      "cell_type": "raw",
      "metadata": {
        "vscode": {
          "languageId": "raw"
        }
      },
      "source": [
        "## Step 1: Upload CSV File and Prepare Data\n"
      ]
    },
    {
      "cell_type": "code",
      "execution_count": null,
      "metadata": {},
      "outputs": [],
      "source": [
        "# Path to your CSV file\n",
        "csv_file_path = \"../tagesschau_sign_language_video_links.csv\"\n",
        "\n",
        "# Upload CSV and prepare batch data\n",
        "print(\"Uploading CSV file and preparing batch data...\")\n",
        "num_videos = upload_csv_and_prepare_batch_data(\n",
        "    csv_file_path=csv_file_path,\n",
        "    project_id=config.project_id,\n",
        "    environment=config.environment\n",
        ")\n",
        "\n",
        "print(f\"\\n✅ Prepared {num_videos} videos for processing!\")\n"
      ]
    },
    {
      "cell_type": "raw",
      "metadata": {
        "vscode": {
          "languageId": "raw"
        }
      },
      "source": [
        "## Step 2: Configure and Run Cloud Processing Job\n",
        "\n",
        "⚠️ **Important**: This will process ALL ~3,800 videos! Set TEST_MODE = True for testing.\n"
      ]
    },
    {
      "cell_type": "code",
      "execution_count": 2,
      "metadata": {},
      "outputs": [
        {
          "name": "stdout",
          "output_type": "stream",
          "text": [
            "🧪 Running in TEST MODE - will process limited videos\n",
            "Workers: 1, Batch size: 1\n"
          ]
        }
      ],
      "source": [
        "# Initialize the processor\n",
        "processor = CloudProcessor(\n",
        "    project_id=config.project_id,\n",
        "    location=config.region,\n",
        "    staging_bucket=f\"{config.project_id}-{config.environment}-staging\",\n",
        "    data_bucket=f\"{config.project_id}-{config.environment}-data\"\n",
        ")\n",
        "\n",
        "# Configure job for video processing\n",
        "job_config = JobConfig(\n",
        "    provisioning_model=\"SPOT\",  # Use spot instances for cost savings\n",
        "    restart_on_failure=True,\n",
        "    timeout_days=7.0  # Allow more time for large video processing\n",
        ")\n",
        "\n",
        "# Configure machines for video processing (need more power for Whisper)\n",
        "machine_config = MachineConfig(\n",
        "    machine_type=\"n1-standard-8\",  # 8 vCPUs, 30GB RAM\n",
        "    disk_size_gb=200,  # Large disk for video downloads\n",
        ")\n",
        "\n",
        "# Test mode settings\n",
        "TEST_MODE = True  # Set to False to process all videos\n",
        "\n",
        "if TEST_MODE:\n",
        "    print(\"🧪 Running in TEST MODE - will process limited videos\")\n",
        "    workers = 1\n",
        "    batch_size = 1\n",
        "else:\n",
        "    print(\"🚀 Running in FULL MODE - processing all videos\")\n",
        "    workers = 10  # More workers for full processing\n",
        "    batch_size = 1  # One video per batch (videos are large)\n",
        "\n",
        "print(f\"Workers: {workers}, Batch size: {batch_size}\")\n"
      ]
    },
    {
      "cell_type": "code",
      "execution_count": null,
      "metadata": {},
      "outputs": [
        {
          "name": "stdout",
          "output_type": "stream",
          "text": [
            "🚀 Submitting cloud processing job...\n"
          ]
        },
        {
          "name": "stdout",
          "output_type": "stream",
          "text": [
            "Creating CustomJob\n",
            "CustomJob created. Resource name: projects/788230573749/locations/europe-west3/customJobs/8941867923085983744\n",
            "To use this CustomJob in another session:\n",
            "custom_job = aiplatform.CustomJob.get('projects/788230573749/locations/europe-west3/customJobs/8941867923085983744')\n",
            "View Custom Job:\n",
            "https://console.cloud.google.com/ai/platform/locations/europe-west3/training/8941867923085983744?project=788230573749\n",
            "CustomJob projects/788230573749/locations/europe-west3/customJobs/8941867923085983744 current state:\n",
            "JobState.JOB_STATE_PENDING\n"
          ]
        },
        {
          "name": "stderr",
          "output_type": "stream",
          "text": [
            "Processing files: 100%|██████████| 5243/5243 [00:03<00:00, 1489.59it/s]"
          ]
        },
        {
          "name": "stdout",
          "output_type": "stream",
          "text": [
            "CustomJob projects/788230573749/locations/europe-west3/customJobs/8941867923085983744 current state:\n",
            "JobState.JOB_STATE_PENDING\n"
          ]
        },
        {
          "name": "stderr",
          "output_type": "stream",
          "text": [
            "Processing files: 100%|██████████| 5243/5243 [00:08<00:00, 614.12it/s] \n"
          ]
        },
        {
          "name": "stdout",
          "output_type": "stream",
          "text": [
            "CustomJob projects/788230573749/locations/europe-west3/customJobs/8941867923085983744 current state:\n",
            "JobState.JOB_STATE_PENDING\n",
            "CustomJob projects/788230573749/locations/europe-west3/customJobs/8941867923085983744 current state:\n",
            "JobState.JOB_STATE_PENDING\n",
            "CustomJob projects/788230573749/locations/europe-west3/customJobs/8941867923085983744 current state:\n",
            "JobState.JOB_STATE_PENDING\n",
            "CustomJob projects/788230573749/locations/europe-west3/customJobs/8941867923085983744 current state:\n",
            "JobState.JOB_STATE_PENDING\n",
            "CustomJob projects/788230573749/locations/europe-west3/customJobs/8941867923085983744 current state:\n",
            "JobState.JOB_STATE_PENDING\n",
            "CustomJob projects/788230573749/locations/europe-west3/customJobs/8941867923085983744 current state:\n",
            "JobState.JOB_STATE_PENDING\n",
            "CustomJob projects/788230573749/locations/europe-west3/customJobs/8941867923085983744 current state:\n",
            "JobState.JOB_STATE_PENDING\n",
            "CustomJob projects/788230573749/locations/europe-west3/customJobs/8941867923085983744 current state:\n",
            "JobState.JOB_STATE_PENDING\n",
            "CustomJob projects/788230573749/locations/europe-west3/customJobs/8941867923085983744 current state:\n",
            "JobState.JOB_STATE_PENDING\n",
            "CustomJob projects/788230573749/locations/europe-west3/customJobs/8941867923085983744 current state:\n",
            "JobState.JOB_STATE_PENDING\n",
            "CustomJob projects/788230573749/locations/europe-west3/customJobs/8941867923085983744 current state:\n",
            "JobState.JOB_STATE_PENDING\n",
            "CustomJob projects/788230573749/locations/europe-west3/customJobs/8941867923085983744 current state:\n",
            "JobState.JOB_STATE_PENDING\n",
            "CustomJob projects/788230573749/locations/europe-west3/customJobs/8941867923085983744 current state:\n",
            "JobState.JOB_STATE_PENDING\n",
            "CustomJob projects/788230573749/locations/europe-west3/customJobs/8941867923085983744 current state:\n",
            "JobState.JOB_STATE_PENDING\n",
            "CustomJob projects/788230573749/locations/europe-west3/customJobs/8941867923085983744 current state:\n",
            "JobState.JOB_STATE_PENDING\n",
            "CustomJob projects/788230573749/locations/europe-west3/customJobs/8941867923085983744 current state:\n",
            "JobState.JOB_STATE_PENDING\n",
            "CustomJob projects/788230573749/locations/europe-west3/customJobs/8941867923085983744 current state:\n",
            "JobState.JOB_STATE_PENDING\n",
            "CustomJob projects/788230573749/locations/europe-west3/customJobs/8941867923085983744 current state:\n",
            "JobState.JOB_STATE_PENDING\n",
            "CustomJob projects/788230573749/locations/europe-west3/customJobs/8941867923085983744 current state:\n",
            "JobState.JOB_STATE_PENDING\n",
            "CustomJob projects/788230573749/locations/europe-west3/customJobs/8941867923085983744 current state:\n",
            "JobState.JOB_STATE_PENDING\n"
          ]
        }
      ],
      "source": [
        "\n",
        "# Submit the processing job\n",
        "print(\"🚀 Submitting cloud processing job...\")\n",
        "\n",
        "# Get the source code of the processing function\n",
        "import inspect\n",
        "processing_fn_source = inspect.getsource(process_csv_row)\n",
        "\n",
        "job = processor.submit_job(\n",
        "    processing_fn=processing_fn_source,\n",
        "    input_folder=\"csv-rows/\",  # Where the CSV row files are stored\n",
        "    output_folder=\"processed-videos/\",  # Where to save results\n",
        "    workers=workers,\n",
        "    machine_config=machine_config,\n",
        "    job_config=job_config,\n",
        "    batch_size=batch_size,\n",
        "    requirements=[\n",
        "        \"mediapipe\", \n",
        "        \"opencv-python\", \n",
        "        \"pandas\", \n",
        "        \"natsort\",\n",
        "        \"openai-whisper\",\n",
        "        \"ffmpeg-python\",\n",
        "        \"requests\",\n",
        "    ]\n",
        ")\n",
        "\n",
        "print(\"\\n✅ Job submitted successfully!\")\n",
        "print(f\"Job resource name: {job.resource_name}\")\n"
      ]
    },
    {
      "cell_type": "code",
      "execution_count": null,
      "metadata": {},
      "outputs": [],
      "source": []
    }
  ],
  "metadata": {
    "kernelspec": {
      "display_name": ".venv",
      "language": "python",
      "name": "python3"
    },
    "language_info": {
      "codemirror_mode": {
        "name": "ipython",
        "version": 3
      },
      "file_extension": ".py",
      "mimetype": "text/x-python",
      "name": "python",
      "nbconvert_exporter": "python",
      "pygments_lexer": "ipython3",
      "version": "3.12.3"
    }
  },
  "nbformat": 4,
  "nbformat_minor": 2
}
